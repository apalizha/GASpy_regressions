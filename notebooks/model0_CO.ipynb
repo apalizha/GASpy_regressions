{
 "cells": [
  {
   "cell_type": "code",
   "execution_count": 1,
   "metadata": {},
   "outputs": [],
   "source": [
    "adsorbate = 'CO'\n",
    "model_name = 'model0'"
   ]
  },
  {
   "cell_type": "markdown",
   "metadata": {},
   "source": [
    "# Fitting a model"
   ]
  },
  {
   "cell_type": "markdown",
   "metadata": {},
   "source": [
    "## Get the training data"
   ]
  },
  {
   "cell_type": "code",
   "execution_count": 2,
   "metadata": {},
   "outputs": [
    {
     "name": "stderr",
     "output_type": "stream",
     "text": [
      "\r",
      "0it [00:00, ?it/s]"
     ]
    },
    {
     "name": "stdout",
     "output_type": "stream",
     "text": [
      "Now pulling adsorption documents...\n"
     ]
    },
    {
     "name": "stderr",
     "output_type": "stream",
     "text": [
      "20985it [00:01, 20350.99it/s]\n"
     ]
    }
   ],
   "source": [
    "import numpy as np\n",
    "from gaspy import gasdb\n",
    "\n",
    "docs = gasdb.get_adsorption_docs(adsorbates=[adsorbate])\n",
    "energies_dft = np.array([doc['energy'] for doc in docs])"
   ]
  },
  {
   "cell_type": "markdown",
   "metadata": {},
   "source": [
    "## Processing the features\n",
    "Make a pipeline to preprocess the features"
   ]
  },
  {
   "cell_type": "code",
   "execution_count": 3,
   "metadata": {},
   "outputs": [
    {
     "name": "stderr",
     "output_type": "stream",
     "text": [
      "\r",
      "0it [00:00, ?it/s]"
     ]
    },
    {
     "name": "stdout",
     "output_type": "stream",
     "text": [
      "Now pulling catalog documents...\n"
     ]
    },
    {
     "name": "stderr",
     "output_type": "stream",
     "text": [
      "2591434it [01:35, 27221.96it/s]\n",
      "/opt/conda/lib/python3.6/site-packages/numpy/core/fromnumeric.py:2909: RuntimeWarning: Mean of empty slice.\n",
      "  out=out, **kwargs)\n",
      "/opt/conda/lib/python3.6/site-packages/numpy/core/_methods.py:80: RuntimeWarning: invalid value encountered in double_scalars\n",
      "  ret = ret.dtype.type(ret / rcount)\n",
      "/home/jovyan/GASpy/GASpy_regressions/gaspy_regress/fingerprinters.py:236: RuntimeWarning: We do not have any energy data for C, so we set its median adsorption energy as the median of all energies\n",
      "  warnings.warn(message, RuntimeWarning)\n",
      "/home/jovyan/GASpy/GASpy_regressions/gaspy_regress/fingerprinters.py:236: RuntimeWarning: We do not have any energy data for H, so we set its median adsorption energy as the median of all energies\n",
      "  warnings.warn(message, RuntimeWarning)\n",
      "/home/jovyan/GASpy/GASpy_regressions/gaspy_regress/fingerprinters.py:236: RuntimeWarning: We do not have any energy data for Mn, so we set its median adsorption energy as the median of all energies\n",
      "  warnings.warn(message, RuntimeWarning)\n",
      "/home/jovyan/GASpy/GASpy_regressions/gaspy_regress/fingerprinters.py:236: RuntimeWarning: We do not have any energy data for Cr, so we set its median adsorption energy as the median of all energies\n",
      "  warnings.warn(message, RuntimeWarning)\n",
      "/home/jovyan/GASpy/GASpy_regressions/gaspy_regress/fingerprinters.py:236: RuntimeWarning: We do not have any energy data for K, so we set its median adsorption energy as the median of all energies\n",
      "  warnings.warn(message, RuntimeWarning)\n",
      "/home/jovyan/GASpy/GASpy_regressions/gaspy_regress/fingerprinters.py:236: RuntimeWarning: We do not have any energy data for S, so we set its median adsorption energy as the median of all energies\n",
      "  warnings.warn(message, RuntimeWarning)\n",
      "0it [00:00, ?it/s]"
     ]
    },
    {
     "name": "stdout",
     "output_type": "stream",
     "text": [
      "Now pulling catalog documents...\n"
     ]
    },
    {
     "name": "stderr",
     "output_type": "stream",
     "text": [
      "2591434it [02:16, 19012.01it/s]\n"
     ]
    }
   ],
   "source": [
    "from sklearn.pipeline import Pipeline\n",
    "from sklearn.preprocessing import StandardScaler\n",
    "from sklearn.decomposition import PCA\n",
    "from gaspy_regress import fingerprinters\n",
    "\n",
    "inner_fingerprinter = fingerprinters.InnerShellFingerprinter()\n",
    "outer_fingerprinter = fingerprinters.OuterShellFingerprinter()\n",
    "fingerprinter = fingerprinters.StackedFingerprinter(inner_fingerprinter, outer_fingerprinter)\n",
    "\n",
    "scaler = StandardScaler()\n",
    "pca = PCA()\n",
    "\n",
    "preprocessing_pipeline = Pipeline([('fingerprinter', fingerprinter),\n",
    "                                   ('scaler', scaler),\n",
    "                                   ('pca', pca)])\n",
    "features = preprocessing_pipeline.fit_transform(docs)"
   ]
  },
  {
   "cell_type": "markdown",
   "metadata": {},
   "source": [
    "## Performing the regression\n",
    "First fit TPOT"
   ]
  },
  {
   "cell_type": "code",
   "execution_count": 4,
   "metadata": {},
   "outputs": [
    {
     "data": {
      "application/vnd.jupyter.widget-view+json": {
       "model_id": "",
       "version_major": 2,
       "version_minor": 0
      },
      "text/plain": [
       "HBox(children=(IntProgress(value=0, description='Optimization Progress', max=32), HTML(value='')))"
      ]
     },
     "metadata": {},
     "output_type": "display_data"
    },
    {
     "name": "stdout",
     "output_type": "stream",
     "text": [
      "Generation 1 - Current best internal CV score: -0.15149467893474894\n",
      "\n",
      "Best pipeline: ElasticNetCV(RandomForestRegressor(ExtraTreesRegressor(input_matrix, bootstrap=False, max_features=0.2, min_samples_leaf=15, min_samples_split=19, n_estimators=100), bootstrap=False, max_features=0.65, min_samples_leaf=4, min_samples_split=13, n_estimators=100), l1_ratio=0.65, tol=0.01)\n"
     ]
    }
   ],
   "source": [
    "from tpot import TPOTRegressor\n",
    "\n",
    "tpot = TPOTRegressor(\n",
    "                     generations=1,\n",
    "                     population_size=16,\n",
    "                     offspring_size=16,\n",
    "                     verbosity=2,\n",
    "                     #random_state=42,\n",
    "                     scoring='neg_median_absolute_error',\n",
    "                     n_jobs=16,\n",
    "                    )\n",
    "energies_ml = tpot.fit_predict(features, energies_dft)"
   ]
  },
  {
   "cell_type": "markdown",
   "metadata": {},
   "source": [
    "Now create and save the final pipeline. We fit in two stages because we can't pickle TPOT objects, but we can pickle the pipeline that TPOT creates. Therefore, we fit TPOT separately so that we can pull its pipeline out."
   ]
  },
  {
   "cell_type": "code",
   "execution_count": 5,
   "metadata": {},
   "outputs": [],
   "source": [
    "# Make the pipeline\n",
    "steps = [('fingerprinter', fingerprinter),\n",
    "         ('scaler', scaler),\n",
    "         ('pca', pca)]\n",
    "for step in tpot.fitted_pipeline_.steps:\n",
    "    steps.append(step)\n",
    "pipeline = Pipeline(steps)"
   ]
  },
  {
   "cell_type": "code",
   "execution_count": 6,
   "metadata": {},
   "outputs": [],
   "source": [
    "import pickle\n",
    "from gaspy.utils import read_rc\n",
    "\n",
    "# Save the pipeline\n",
    "gasdb_location = read_rc('gasdb_path')\n",
    "file_name = gasdb_location + '/pipeline_%s_%s.pkl' % (adsorbate, model_name)\n",
    "with open(file_name, 'wb') as file_handle:\n",
    "    pickle.dump(pipeline, file_handle)"
   ]
  },
  {
   "cell_type": "markdown",
   "metadata": {},
   "source": [
    "Let's make sure our pipeline does what we think it should be doing."
   ]
  },
  {
   "cell_type": "code",
   "execution_count": 7,
   "metadata": {},
   "outputs": [],
   "source": [
    "import numpy.testing as npt\n",
    "\n",
    "energies_from_pipeline = pipeline.predict(docs)\n",
    "npt.assert_allclose(energies_ml, energies_from_pipeline, rtol=1e-7, atol=1e-5)"
   ]
  },
  {
   "cell_type": "markdown",
   "metadata": {},
   "source": [
    "# Visualizing the regression\n",
    "Note that we visualize the fit on only our training set, so the fit will look much better than it actually is. People normally combat this by doing train/test splits, but our workflow is online and iterative, thereby invalidating the normal train/test splitting workflow.\n",
    "\n",
    "A proper method to verify quality of our fit is to do an [evaluation on a rolling forecasting origin](https://robjhyndman.com/hyndsight/tscv/), but that takes a lot of computational resources to perform retroactively. So we dedicate that for an entirely different notebook\n",
    "\n",
    "What these plots tell us, at least, is that we did not perform the fitting horribly incorrectly. These are mainly gut-checks to verify that we don't have an obvious bug in our pipeline."
   ]
  },
  {
   "cell_type": "markdown",
   "metadata": {},
   "source": [
    "Put the data into a Pandas dataframe so that we can work with it a bit easier"
   ]
  },
  {
   "cell_type": "code",
   "execution_count": 8,
   "metadata": {},
   "outputs": [],
   "source": [
    "import pandas as pd\n",
    "\n",
    "df = pd.DataFrame({'documents': docs,\n",
    "                   'DFT energies [eV]': energies_dft,\n",
    "                   'ML energies [eV]': energies_ml,\n",
    "                   'Residuals [eV]': energies_ml - energies_dft})"
   ]
  },
  {
   "cell_type": "markdown",
   "metadata": {},
   "source": [
    "## Parity plot"
   ]
  },
  {
   "cell_type": "code",
   "execution_count": 9,
   "metadata": {},
   "outputs": [
    {
     "data": {
      "image/png": "[encoded data removed]",
      "text/plain": [
       "<Figure size 432x432 with 3 Axes>"
      ]
     },
     "metadata": {},
     "output_type": "display_data"
    }
   ],
   "source": [
    "import seaborn as sns\n",
    "sns.set_style('ticks')\n",
    "%matplotlib inline\n",
    "\n",
    "# Make the joint plot\n",
    "plot_lims = (-4, 2)\n",
    "grid = sns.jointplot('ML energies [eV]', 'DFT energies [eV]', data=df,\n",
    "                     kind='hex', bins='log')\n",
    "_ = grid.ax_joint.set_xlim(plot_lims)\n",
    "_ = grid.ax_joint.set_ylim(plot_lims)\n",
    "\n",
    "# Draw a parity line\n",
    "_ = grid.ax_joint.plot(plot_lims, plot_lims, '--')"
   ]
  },
  {
   "cell_type": "markdown",
   "metadata": {},
   "source": [
    "## Distribution of residuals"
   ]
  },
  {
   "cell_type": "code",
   "execution_count": 10,
   "metadata": {
    "scrolled": true
   },
   "outputs": [
    {
     "data": {
      "image/png": "[encoded data removed]",
      "text/plain": [
       "<Figure size 432x288 with 1 Axes>"
      ]
     },
     "metadata": {},
     "output_type": "display_data"
    }
   ],
   "source": [
    "ax = sns.distplot(df['Residuals [eV]'], bins=200, kde=False, norm_hist=True)\n",
    "_ = ax.set_xlim((-0.4, 0.4))"
   ]
  },
  {
   "cell_type": "markdown",
   "metadata": {},
   "source": [
    "# Saving the predictions"
   ]
  },
  {
   "cell_type": "code",
   "execution_count": 11,
   "metadata": {},
   "outputs": [
    {
     "name": "stderr",
     "output_type": "stream",
     "text": [
      "\r",
      "0it [00:00, ?it/s]"
     ]
    },
    {
     "name": "stdout",
     "output_type": "stream",
     "text": [
      "Now pulling catalog documents...\n"
     ]
    },
    {
     "name": "stderr",
     "output_type": "stream",
     "text": [
      "2591434it [00:53, 48356.87it/s]\n"
     ]
    }
   ],
   "source": [
    "from gaspy_regress.utils import save_pipeline_predictions\n",
    "\n",
    "mongo_result = save_pipeline_predictions(pipeline, adsorbate, model_name)"
   ]
  },
  {
   "cell_type": "code",
   "execution_count": null,
   "metadata": {},
   "outputs": [],
   "source": []
  }
 ],
 "metadata": {
  "anaconda-cloud": {},
  "kernelspec": {
   "display_name": "gaspy_regressions_dev",
   "language": "python",
   "name": "gaspy_regressions_dev"
  },
  "language_info": {
   "codemirror_mode": {
    "name": "ipython",
    "version": 3
   },
   "file_extension": ".py",
   "mimetype": "text/x-python",
   "name": "python",
   "nbconvert_exporter": "python",
   "pygments_lexer": "ipython3",
   "version": "3.6.3"
  },
  "name": "regress.ipynb"
 },
 "nbformat": 4,
 "nbformat_minor": 2
}
