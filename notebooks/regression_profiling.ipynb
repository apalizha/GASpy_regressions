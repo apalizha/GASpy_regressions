{
 "cells": [
  {
   "cell_type": "markdown",
   "metadata": {
    "collapsed": true
   },
   "source": [
    "# Regression profiling\n",
    "This notebook documents our adventures of trying to figure out how sensitive our regressions are to TPOT hyperparameters. This builds our intuition regarding how quickly we can build our models without too much sacrificing performance.\n",
    "\n",
    "Execution time depends mainly on the hyperparameters used for TPOT. Execution time increases linearly with the number of generations and the population size, and increases both the generations and population size scale multiplicatively. It took about 8-12 hours to run this entire notebook."
   ]
  },
  {
   "cell_type": "markdown",
   "metadata": {},
   "source": [
    "# Initialize"
   ]
  },
  {
   "cell_type": "code",
   "execution_count": 1,
   "metadata": {
    "ExecuteTime": {
     "end_time": "2018-02-23T15:49:42.055497Z",
     "start_time": "2018-02-23T15:49:42.049476Z"
    }
   },
   "outputs": [],
   "source": [
    "# Set the path for the cache location\n",
    "gaspy_path = '/global/project/projectdirs/m2755/GASpy/'\n",
    "cache_path = gaspy_path + 'GASpy_regressions/cache/profiling/'"
   ]
  },
  {
   "cell_type": "code",
   "execution_count": 2,
   "metadata": {
    "ExecuteTime": {
     "end_time": "2018-02-23T15:49:42.055497Z",
     "start_time": "2018-02-23T15:49:42.049476Z"
    }
   },
   "outputs": [],
   "source": [
    "# Modify the path so that we use GASpy_dev instead of GASpy\n",
    "#import sys\n",
    "#gaspy_path = '/global/project/projectdirs/m2755/GASpy_dev/'\n",
    "#sys.path.insert(0, gaspy_path)\n",
    "#sys.path.insert(0, gaspy_path + '/GASpy_feedback')\n",
    "#sys.path.insert(0, gaspy_path + '/GASpy_regressions')\n",
    "#cache_path = gaspy_path + 'GASpy_regressions/cache/profiling/'"
   ]
  },
  {
   "cell_type": "code",
   "execution_count": 3,
   "metadata": {
    "ExecuteTime": {
     "end_time": "2018-02-23T15:49:43.797267Z",
     "start_time": "2018-02-23T15:49:42.057049Z"
    },
    "autoscroll": false,
    "ein.tags": "worksheet-0",
    "slideshow": {
     "slide_type": "-"
    }
   },
   "outputs": [],
   "source": [
    "import dill as pickle\n",
    "import numpy as np\n",
    "import matplotlib.pyplot as plt\n",
    "from plotly.offline import init_notebook_mode, iplot\n",
    "import plotly.graph_objs as go\n",
    "from tpot import TPOTRegressor\n",
    "from sklearn import metrics\n",
    "from gaspy_regress.regressor import GASpyRegressor\n",
    "from gaspy_regress.preprocessor import GASpyPreprocessor\n",
    "from gaspy_regress import gio, plot, predict\n",
    "from gaspy.utils import vasp_settings_to_str"
   ]
  },
  {
   "cell_type": "code",
   "execution_count": 4,
   "metadata": {
    "ExecuteTime": {
     "end_time": "2018-02-23T15:49:43.856232Z",
     "start_time": "2018-02-23T15:49:43.800044Z"
    }
   },
   "outputs": [
    {
     "data": {
      "text/html": [
       "<script>requirejs.config({paths: { 'plotly': ['https://cdn.plot.ly/plotly-latest.min']},});if(!window.Plotly) {{require(['plotly'],function(plotly) {window.Plotly=plotly;});}}</script>"
      ],
      "text/vnd.plotly.v1+html": [
       "<script>requirejs.config({paths: { 'plotly': ['https://cdn.plot.ly/plotly-latest.min']},});if(!window.Plotly) {{require(['plotly'],function(plotly) {window.Plotly=plotly;});}}</script>"
      ]
     },
     "metadata": {},
     "output_type": "display_data"
    }
   ],
   "source": [
    "init_notebook_mode(connected=True)\n",
    "%matplotlib inline\n",
    "\n",
    "VASP_SETTINGS = vasp_settings_to_str({'gga': 'RP',\n",
    "                                      'pp_version': '5.4',\n",
    "                                      'encut': 350})\n",
    "features = ['coordatoms_chemfp0', 'neighbors_chemfp0']\n",
    "responses = ['energy']\n",
    "blocks = ['adsorbate']\n",
    "block = ('CO',)"
   ]
  },
  {
   "cell_type": "markdown",
   "metadata": {},
   "source": [
    "# Pre-work\n",
    "We make some functions to condense the reading"
   ]
  },
  {
   "cell_type": "code",
   "execution_count": 5,
   "metadata": {
    "ExecuteTime": {
     "end_time": "2018-02-23T15:49:43.913525Z",
     "start_time": "2018-02-23T15:49:43.858045Z"
    }
   },
   "outputs": [],
   "source": [
    "model_name = 'profiling'\n",
    "\n",
    "# We make a function that creates and fits a GASpyRegressor.\n",
    "# We'll be using this over and over for profiling.\n",
    "def create_model(gen, pop, dim_red=None, random_state=42, n_jobs=8, **pp_args):\n",
    "    '''\n",
    "    This function makes and fits a GASpyRegressor class using TPOT.\n",
    "    \n",
    "    Inputs:\n",
    "        gen         [int] How many TPOT generations you want to use\n",
    "        pop         [int] The TPOT population size you want to use\n",
    "        dim_red     [str] A string indicating the type of\n",
    "                    dimensionality reduction technique you want to use.\n",
    "        **pp_args   Any arguments you want to pass to the dimensionality\n",
    "                    reducer you're using.\n",
    "    '''\n",
    "    tpot = TPOTRegressor(generations=gen,\n",
    "                         population_size=pop,\n",
    "                         offspring_size=pop,\n",
    "                         scoring='neg_median_absolute_error',\n",
    "                         n_jobs=n_jobs,\n",
    "                         verbosity=2, random_state=random_state)\n",
    "    H = GASpyRegressor(features=features, responses=responses,\n",
    "                       blocks=blocks, vasp_settings=VASP_SETTINGS,\n",
    "                       train_size=0.8, dev_size=0.1,\n",
    "                       dim_red=dim_red, **pp_args)\n",
    "    H.fit_tpot(tpot, model_name=model_name, blocks=[block])\n",
    "    return H"
   ]
  },
  {
   "cell_type": "code",
   "execution_count": 6,
   "metadata": {
    "ExecuteTime": {
     "end_time": "2018-02-23T15:49:43.913525Z",
     "start_time": "2018-02-23T15:49:43.858045Z"
    }
   },
   "outputs": [],
   "source": [
    "# Make a function to do the plotting\n",
    "def plot_3d_profile(x, y, residuals, dataset='dev', metric='rmse'):\n",
    "    '''\n",
    "    This function is simply a wrapper for creating 3D scatter plot profiles\n",
    "    \n",
    "    Inputs:\n",
    "        x          [np.array] A vector for the x-axis\n",
    "        y          [np.array] A vector for the x-axis\n",
    "        residuals  [list in a list] The residuals dictionaries that correspond to\n",
    "                   the x and y settings. This assumes that these dictionaries\n",
    "                   have the keys `block` and 'dev', where `block` is the model\n",
    "                   block defined near the top of this notebook.\n",
    "        dataset    [str] Indicates which dataset you want to plot. Can be\n",
    "                   'train', 'dev', 'test', or 'all'.\n",
    "        metric     [str] Indicates what metric you want to plot. Can be\n",
    "                   'rmse' for root mean squared error; 'mae' for mean absolute\n",
    "                   error, or 'mad' for median absolute deviation.\n",
    "    '''\n",
    "\n",
    "    # Format the data\n",
    "    X, Y = np.meshgrid(x, y)\n",
    "    Z = np.empty((len(y), len(x)))\n",
    "    for i, _ in enumerate(x):\n",
    "        for j, _ in enumerate(y):\n",
    "            # Calculate whatever metric that we're looking for\n",
    "            z_hat = residuals[i][j][block][dataset]\n",
    "            z = np.zeros(z_hat.shape)\n",
    "            if metric == 'rmse' or 'RMSE':\n",
    "                Z[j, i] = np.sqrt(metrics.mean_squared_error(z, z_hat))\n",
    "            elif metric == 'mae' or 'MAE':\n",
    "                Z[j, i] = metrics.mean_absolute_error(z, z_hat)\n",
    "            elif metric == 'mad' or 'MAD':\n",
    "                Z[j, i] = metrics.median_absolute_deviation(z, z_hat)\n",
    "            else:\n",
    "                raise SyntaxError('%s is not a valid argument for \"metric\"')\n",
    "\n",
    "    # Plot it\n",
    "    trace = go.Scatter3d(x=X.flatten(), y=Y.flatten(), z=Z.flatten(), mode='markers')\n",
    "    xaxis = dict(title='Generations', range=[x.min()-1, x.max()+1])\n",
    "    yaxis = dict(title='Populations', range=[y.min()-1, y.max()+1])\n",
    "    zaxis = dict(title=metric)\n",
    "    layout = go.Layout(scene=dict(xaxis=xaxis, yaxis=yaxis, zaxis=zaxis))\n",
    "    iplot(go.Figure(data=[trace], layout=layout))"
   ]
  },
  {
   "cell_type": "markdown",
   "metadata": {},
   "source": [
    "# Without dim_red\n",
    "We first did this without using any dimensionality reduction becaues... well, we forgot. Here are the results! It looks like the number of generations doesn't really matter. It also looks like the population size has some middle-point around 16 where it starts over-fitting."
   ]
  },
  {
   "cell_type": "code",
   "execution_count": 7,
   "metadata": {},
   "outputs": [],
   "source": [
    "# Set the space we want to investigate.\n",
    "gens = np.linspace(1, 5, 3, dtype=int)\n",
    "pops = np.linspace(1, 33, 5, dtype=int)"
   ]
  },
  {
   "cell_type": "code",
   "execution_count": 8,
   "metadata": {},
   "outputs": [
    {
     "data": {
      "text/plain": [
       "'/global/project/projectdirs/m2755/GASpy_dev/GASpy_regressions/cache/profiling/'"
      ]
     },
     "execution_count": 8,
     "metadata": {},
     "output_type": "execute_result"
    }
   ],
   "source": [
    "cache_path"
   ]
  },
  {
   "cell_type": "code",
   "execution_count": 9,
   "metadata": {
    "ExecuteTime": {
     "end_time": "2018-02-23T15:49:44.013156Z",
     "start_time": "2018-02-23T15:49:43.926333Z"
    }
   },
   "outputs": [],
   "source": [
    "# Open the results if they exist\n",
    "try:\n",
    "    with open(cache_path + 'profiling_nodimred.pkl', 'rb') as f:\n",
    "        residuals = pickle.load(f)\n",
    "\n",
    "# Create the results if they do not exist\n",
    "except IOError:\n",
    "    residuals = [[None]*len(pops)]*len(gens)\n",
    "    for i, gen in enumerate(gens):\n",
    "        for j, pop in enumerate(pops):\n",
    "            residuals[i][j] = create_model(gen, pop).residuals\n",
    "    # Save it\n",
    "    with open(cache_path + 'profiling_nodimred.pkl', 'wb') as f:\n",
    "        pickle.dump(residuals, f)"
   ]
  },
  {
   "cell_type": "code",
   "execution_count": 10,
   "metadata": {
    "ExecuteTime": {
     "end_time": "2018-02-23T15:49:44.034913Z",
     "start_time": "2018-02-23T15:49:44.014471Z"
    }
   },
   "outputs": [
    {
     "data": {
      "application/vnd.plotly.v1+json": {
       "data": [
        {
         "mode": "markers",
         "type": "scatter3d",
         "x": [
          1,
          3,
          5,
          1,
          3,
          5,
          1,
          3,
          5,
          1,
          3,
          5,
          1,
          3,
          5
         ],
         "y": [
          1,
          1,
          1,
          9,
          9,
          9,
          17,
          17,
          17,
          25,
          25,
          25,
          33,
          33,
          33
         ],
         "z": [
          0.3879560457581982,
          0.3879560457581982,
          0.3879560457581982,
          0.3400741058598669,
          0.3400741058598669,
          0.3400741058598669,
          0.3160485459229388,
          0.3160485459229388,
          0.3160485459229388,
          0.31627068784289347,
          0.31627068784289347,
          0.31627068784289347,
          0.32147906255003217,
          0.32147906255003217,
          0.32147906255003217
         ]
        }
       ],
       "layout": {
        "scene": {
         "xaxis": {
          "range": [
           0,
           6
          ],
          "title": "Generations"
         },
         "yaxis": {
          "range": [
           0,
           34
          ],
          "title": "Populations"
         },
         "zaxis": {
          "title": "rmse"
         }
        }
       }
      },
      "text/html": [
       "<div id=\"71546ef1-f66e-4583-aac5-2be8dce22793\" style=\"height: 525px; width: 100%;\" class=\"plotly-graph-div\"></div><script type=\"text/javascript\">require([\"plotly\"], function(Plotly) { window.PLOTLYENV=window.PLOTLYENV || {};window.PLOTLYENV.BASE_URL=\"https://plot.ly\";Plotly.newPlot(\"71546ef1-f66e-4583-aac5-2be8dce22793\", [{\"y\": [1, 1, 1, 9, 9, 9, 17, 17, 17, 25, 25, 25, 33, 33, 33], \"x\": [1, 3, 5, 1, 3, 5, 1, 3, 5, 1, 3, 5, 1, 3, 5], \"z\": [0.3879560457581982, 0.3879560457581982, 0.3879560457581982, 0.3400741058598669, 0.3400741058598669, 0.3400741058598669, 0.3160485459229388, 0.3160485459229388, 0.3160485459229388, 0.31627068784289347, 0.31627068784289347, 0.31627068784289347, 0.32147906255003217, 0.32147906255003217, 0.32147906255003217], \"type\": \"scatter3d\", \"mode\": \"markers\"}], {\"scene\": {\"zaxis\": {\"title\": \"rmse\"}, \"xaxis\": {\"range\": [0, 6], \"title\": \"Generations\"}, \"yaxis\": {\"range\": [0, 34], \"title\": \"Populations\"}}}, {\"linkText\": \"Export to plot.ly\", \"showLink\": true})});</script>"
      ],
      "text/vnd.plotly.v1+html": [
       "<div id=\"71546ef1-f66e-4583-aac5-2be8dce22793\" style=\"height: 525px; width: 100%;\" class=\"plotly-graph-div\"></div><script type=\"text/javascript\">require([\"plotly\"], function(Plotly) { window.PLOTLYENV=window.PLOTLYENV || {};window.PLOTLYENV.BASE_URL=\"https://plot.ly\";Plotly.newPlot(\"71546ef1-f66e-4583-aac5-2be8dce22793\", [{\"y\": [1, 1, 1, 9, 9, 9, 17, 17, 17, 25, 25, 25, 33, 33, 33], \"x\": [1, 3, 5, 1, 3, 5, 1, 3, 5, 1, 3, 5, 1, 3, 5], \"z\": [0.3879560457581982, 0.3879560457581982, 0.3879560457581982, 0.3400741058598669, 0.3400741058598669, 0.3400741058598669, 0.3160485459229388, 0.3160485459229388, 0.3160485459229388, 0.31627068784289347, 0.31627068784289347, 0.31627068784289347, 0.32147906255003217, 0.32147906255003217, 0.32147906255003217], \"type\": \"scatter3d\", \"mode\": \"markers\"}], {\"scene\": {\"zaxis\": {\"title\": \"rmse\"}, \"xaxis\": {\"range\": [0, 6], \"title\": \"Generations\"}, \"yaxis\": {\"range\": [0, 34], \"title\": \"Populations\"}}}, {\"linkText\": \"Export to plot.ly\", \"showLink\": true})});</script>"
      ]
     },
     "metadata": {},
     "output_type": "display_data"
    }
   ],
   "source": [
    "plot_3d_profile(gens, pops, residuals, dataset='dev', metric='rmse')"
   ]
  },
  {
   "cell_type": "markdown",
   "metadata": {},
   "source": [
    "# With PCA\n",
    "With PCA, it looks like we can halve the population size for similar performance. But decrease in performance at around 25 looks weird."
   ]
  },
  {
   "cell_type": "code",
   "execution_count": 11,
   "metadata": {
    "ExecuteTime": {
     "end_time": "2018-02-23T15:49:44.054061Z",
     "start_time": "2018-02-23T15:49:44.037110Z"
    }
   },
   "outputs": [],
   "source": [
    "# Open the results if they exist\n",
    "try:\n",
    "    with open(cache_path + 'profiling_pca.pkl', 'rb') as f:\n",
    "        residuals = pickle.load(f)\n",
    "\n",
    "# Create the results if they do not exist\n",
    "except IOError:\n",
    "    # Execute the inner-loop regressions over a range.\n",
    "    residuals = [[None]*len(pops)]*len(gens)\n",
    "    for i, gen in enumerate(gens):\n",
    "        for j, pop in enumerate(pops):\n",
    "            model = create_model(gen, pop,\n",
    "                                 dim_red='pca')\n",
    "            residuals[i][j] = model.residuals\n",
    "    # Save it\n",
    "    with open(cache_path + 'profiling_pca.pkl', 'wb') as f:\n",
    "        pickle.dump(residuals, f)"
   ]
  },
  {
   "cell_type": "code",
   "execution_count": 12,
   "metadata": {
    "ExecuteTime": {
     "end_time": "2018-02-23T15:49:44.069735Z",
     "start_time": "2018-02-23T15:49:44.055635Z"
    }
   },
   "outputs": [
    {
     "data": {
      "application/vnd.plotly.v1+json": {
       "data": [
        {
         "mode": "markers",
         "type": "scatter3d",
         "x": [
          1,
          3,
          5,
          1,
          3,
          5,
          1,
          3,
          5,
          1,
          3,
          5,
          1,
          3,
          5
         ],
         "y": [
          1,
          1,
          1,
          9,
          9,
          9,
          17,
          17,
          17,
          25,
          25,
          25,
          33,
          33,
          33
         ],
         "z": [
          0.3284726916768305,
          0.3284726916768305,
          0.3284726916768305,
          0.31333960428319013,
          0.31333960428319013,
          0.31333960428319013,
          0.3223285819328318,
          0.3223285819328318,
          0.3223285819328318,
          0.35309158377069666,
          0.35309158377069666,
          0.35309158377069666,
          0.32666812685820606,
          0.32666812685820606,
          0.32666812685820606
         ]
        }
       ],
       "layout": {
        "scene": {
         "xaxis": {
          "range": [
           0,
           6
          ],
          "title": "Generations"
         },
         "yaxis": {
          "range": [
           0,
           34
          ],
          "title": "Populations"
         },
         "zaxis": {
          "title": "rmse"
         }
        }
       }
      },
      "text/html": [
       "<div id=\"234f791e-0c15-4c73-9803-9e7ab26aaff5\" style=\"height: 525px; width: 100%;\" class=\"plotly-graph-div\"></div><script type=\"text/javascript\">require([\"plotly\"], function(Plotly) { window.PLOTLYENV=window.PLOTLYENV || {};window.PLOTLYENV.BASE_URL=\"https://plot.ly\";Plotly.newPlot(\"234f791e-0c15-4c73-9803-9e7ab26aaff5\", [{\"y\": [1, 1, 1, 9, 9, 9, 17, 17, 17, 25, 25, 25, 33, 33, 33], \"x\": [1, 3, 5, 1, 3, 5, 1, 3, 5, 1, 3, 5, 1, 3, 5], \"z\": [0.3284726916768305, 0.3284726916768305, 0.3284726916768305, 0.31333960428319013, 0.31333960428319013, 0.31333960428319013, 0.3223285819328318, 0.3223285819328318, 0.3223285819328318, 0.35309158377069666, 0.35309158377069666, 0.35309158377069666, 0.32666812685820606, 0.32666812685820606, 0.32666812685820606], \"type\": \"scatter3d\", \"mode\": \"markers\"}], {\"scene\": {\"zaxis\": {\"title\": \"rmse\"}, \"xaxis\": {\"range\": [0, 6], \"title\": \"Generations\"}, \"yaxis\": {\"range\": [0, 34], \"title\": \"Populations\"}}}, {\"linkText\": \"Export to plot.ly\", \"showLink\": true})});</script>"
      ],
      "text/vnd.plotly.v1+html": [
       "<div id=\"234f791e-0c15-4c73-9803-9e7ab26aaff5\" style=\"height: 525px; width: 100%;\" class=\"plotly-graph-div\"></div><script type=\"text/javascript\">require([\"plotly\"], function(Plotly) { window.PLOTLYENV=window.PLOTLYENV || {};window.PLOTLYENV.BASE_URL=\"https://plot.ly\";Plotly.newPlot(\"234f791e-0c15-4c73-9803-9e7ab26aaff5\", [{\"y\": [1, 1, 1, 9, 9, 9, 17, 17, 17, 25, 25, 25, 33, 33, 33], \"x\": [1, 3, 5, 1, 3, 5, 1, 3, 5, 1, 3, 5, 1, 3, 5], \"z\": [0.3284726916768305, 0.3284726916768305, 0.3284726916768305, 0.31333960428319013, 0.31333960428319013, 0.31333960428319013, 0.3223285819328318, 0.3223285819328318, 0.3223285819328318, 0.35309158377069666, 0.35309158377069666, 0.35309158377069666, 0.32666812685820606, 0.32666812685820606, 0.32666812685820606], \"type\": \"scatter3d\", \"mode\": \"markers\"}], {\"scene\": {\"zaxis\": {\"title\": \"rmse\"}, \"xaxis\": {\"range\": [0, 6], \"title\": \"Generations\"}, \"yaxis\": {\"range\": [0, 34], \"title\": \"Populations\"}}}, {\"linkText\": \"Export to plot.ly\", \"showLink\": true})});</script>"
      ]
     },
     "metadata": {},
     "output_type": "display_data"
    }
   ],
   "source": [
    "plot_3d_profile(gens, pops, residuals, dataset='dev', metric='rmse')"
   ]
  },
  {
   "cell_type": "markdown",
   "metadata": {},
   "source": [
    "# Looking at population only\n",
    "So the number of generations really doesn't seem to matter. If we drop that degree of freedom, then we can explore the population a bit better. Upon doing so, we find that population kind of sort of doesn't matter? There's an outlier at around 20. But the results of the previous profiling show that a population around 10 works well, too. We suspect that this might just be \"random chance\" that TPOT found a better model given a certain population size."
   ]
  },
  {
   "cell_type": "code",
   "execution_count": 13,
   "metadata": {},
   "outputs": [],
   "source": [
    "# Set the space we want to investigate.\n",
    "gen = 1\n",
    "pops = np.linspace(1, 100, 11, dtype=int)"
   ]
  },
  {
   "cell_type": "code",
   "execution_count": 14,
   "metadata": {
    "ExecuteTime": {
     "end_time": "2018-02-23T15:49:44.054061Z",
     "start_time": "2018-02-23T15:49:44.037110Z"
    }
   },
   "outputs": [],
   "source": [
    "# Open the results if they exist\n",
    "try:\n",
    "    with open(cache_path + 'profiling_population.pkl', 'rb') as f:\n",
    "        residuals = pickle.load(f)\n",
    "\n",
    "# Create the results if they do not exist\n",
    "except IOError:\n",
    "    # Execute the inner-loop regressions over a range.\n",
    "    residuals = [None]*len(pops)\n",
    "    for i, pop in enumerate(pops):\n",
    "        model = create_model(gen, pop,\n",
    "                             dim_red='pca')\n",
    "        residuals[i] = model.residuals\n",
    "    # Save it\n",
    "    with open(cache_path + 'profiling_population.pkl', 'wb') as f:\n",
    "        pickle.dump(residuals, f)"
   ]
  },
  {
   "cell_type": "code",
   "execution_count": 15,
   "metadata": {
    "ExecuteTime": {
     "end_time": "2018-02-23T15:49:43.913525Z",
     "start_time": "2018-02-23T15:49:43.858045Z"
    }
   },
   "outputs": [],
   "source": [
    "# Make a function to do the 2-D plotting\n",
    "def plot_2d_profile(x, residuals, dataset='dev', metric='rmse'):\n",
    "    '''\n",
    "    This function is simply a wrapper for creating 3D scatter plot profiles\n",
    "    \n",
    "    Inputs:\n",
    "        x          [np.array] A vector for the x-axis\n",
    "        residuals  [list in a list] The residuals dictionaries that correspond to\n",
    "                   the x and y settings. This assumes that these dictionaries\n",
    "                   have the keys `block` and 'dev', where `block` is the model\n",
    "                   block defined near the top of this notebook.\n",
    "        dataset    [str] Indicates which dataset you want to plot. Can be\n",
    "                   'train', 'dev', 'test', or 'all'.\n",
    "        metric     [str] Indicates what metric you want to plot. Can be\n",
    "                   'rmse' for root mean squared error; 'mae' for mean absolute\n",
    "                   error, or 'mad' for median absolute deviation.\n",
    "    '''\n",
    "\n",
    "    # Format the data\n",
    "    y = []\n",
    "    for datum in residuals:\n",
    "        resids = datum[block][dataset]\n",
    "        baseline = np.zeros(resids.shape)\n",
    "        if metric == 'rmse' or 'RMSE':\n",
    "            y.append(np.sqrt(metrics.mean_squared_error(baseline, resids)))\n",
    "        elif metric == 'mae' or 'MAE':\n",
    "            y.append(metrics.mean_absolute_error(baseline, resids))\n",
    "        elif metric == 'mad' or 'MAD':\n",
    "            y.append(metrics.median_absolute_deviation(baseline, resids))\n",
    "        else:\n",
    "            raise SyntaxError('%s is not a valid argument for \"metric\"')\n",
    "    y = np.array(y)\n",
    "\n",
    "    # Plot it\n",
    "    fig = plt.figure(figsize=(8, 8))\n",
    "    plt.scatter(x, y)\n",
    "    ax = fig.axes[0]\n",
    "    ax.set_xlabel('Population size')\n",
    "    ax.set_ylabel(metric)\n",
    "    plt.show()"
   ]
  },
  {
   "cell_type": "code",
   "execution_count": 16,
   "metadata": {
    "ExecuteTime": {
     "end_time": "2018-02-23T15:49:44.069735Z",
     "start_time": "2018-02-23T15:49:44.055635Z"
    }
   },
   "outputs": [
    {
     "data": {
      "image/png": "[encoded data removed]",
      "text/plain": [
       "<matplotlib.figure.Figure at 0x2af5d2148f50>"
      ]
     },
     "metadata": {},
     "output_type": "display_data"
    }
   ],
   "source": [
    "plot_2d_profile(pops, residuals, dataset='dev', metric='rmse')"
   ]
  },
  {
   "cell_type": "markdown",
   "metadata": {},
   "source": [
    "# Looking at variance\n",
    "To test the hypothesis that \"random chance\" plays the biggest factor in performance, we do a TPOT fitting over and over again and look at the distribution of residuals. It looks like there is some decent spread, but in general a population of 16 is probably sufficient."
   ]
  },
  {
   "cell_type": "code",
   "execution_count": 17,
   "metadata": {},
   "outputs": [],
   "source": [
    "# Open the results if they exist\n",
    "try:\n",
    "    with open(cache_path + 'profiling_variance.pkl', 'rb') as f:\n",
    "        residuals = pickle.load(f)\n",
    "\n",
    "# If they don't exist, then make and save them\n",
    "except IOError:\n",
    "    residuals = []\n",
    "    for i in range(20):\n",
    "        model = create_model(1, 16, dim_red='pca', n_jobs=16, random_state=None)\n",
    "        residuals.append(model.residuals)\n",
    "    with open(cache_path + 'profiling_variance.pkl', 'wb') as f:\n",
    "        pickle.dump(residuals, f)"
   ]
  },
  {
   "cell_type": "code",
   "execution_count": 18,
   "metadata": {
    "ExecuteTime": {
     "end_time": "2018-02-23T15:49:43.913525Z",
     "start_time": "2018-02-23T15:49:43.858045Z"
    }
   },
   "outputs": [],
   "source": [
    "import seaborn as sns\n",
    "\n",
    "# Make a function to make a histogram\n",
    "def plot_histogram(residuals, dataset='dev', metric='rmse'):\n",
    "    '''\n",
    "    This function is simply a wrapper for creating 3D scatter plot profiles\n",
    "    \n",
    "    Inputs:\n",
    "        residuals  [list in a list] The residuals dictionaries that correspond to\n",
    "                   the x and y settings. This assumes that these dictionaries\n",
    "                   have the keys `block` and 'dev', where `block` is the model\n",
    "                   block defined near the top of this notebook.\n",
    "        dataset    [str] Indicates which dataset you want to plot. Can be\n",
    "                   'train', 'dev', 'test', or 'all'.\n",
    "        metric     [str] Indicates what metric you want to plot. Can be\n",
    "                   'rmse' for root mean squared error; 'mae' for mean absolute\n",
    "                   error, or 'mad' for median absolute deviation.\n",
    "    '''\n",
    "\n",
    "    # Format the data\n",
    "    y = []\n",
    "    for datum in residuals:\n",
    "        resids = datum[block][dataset]\n",
    "        baseline = np.zeros(resids.shape)\n",
    "        if metric == 'rmse' or 'RMSE':\n",
    "            y.append(np.sqrt(metrics.mean_squared_error(baseline, resids)))\n",
    "        elif metric == 'mae' or 'MAE':\n",
    "            y.append(metrics.mean_absolute_error(baseline, resids))\n",
    "        elif metric == 'mad' or 'MAD':\n",
    "            y.append(metrics.median_absolute_deviation(baseline, resids))\n",
    "        else:\n",
    "            raise SyntaxError('%s is not a valid argument for \"metric\"')\n",
    "    y = np.array(y)\n",
    "\n",
    "    # Plot it\n",
    "    fig = plt.figure(figsize=(8, 8))\n",
    "    sns.distplot(y)\n",
    "    ax = fig.axes[0]\n",
    "    ax.set_xlabel(metric)\n",
    "    plt.show()"
   ]
  },
  {
   "cell_type": "code",
   "execution_count": 19,
   "metadata": {},
   "outputs": [
    {
     "data": {
      "image/png": "[encoded data removed]",
      "text/plain": [
       "<matplotlib.figure.Figure at 0x2af5d1d6b190>"
      ]
     },
     "metadata": {},
     "output_type": "display_data"
    }
   ],
   "source": [
    "plot_histogram(residuals)"
   ]
  },
  {
   "cell_type": "code",
   "execution_count": null,
   "metadata": {},
   "outputs": [],
   "source": []
  }
 ],
 "metadata": {
  "anaconda-cloud": {},
  "kernelspec": {
   "display_name": "Python [conda env:GASpy_conda]",
   "language": "python",
   "name": "conda-env-GASpy_conda-py"
  },
  "language_info": {
   "codemirror_mode": {
    "name": "ipython",
    "version": 2
   },
   "file_extension": ".py",
   "mimetype": "text/x-python",
   "name": "python",
   "nbconvert_exporter": "python",
   "pygments_lexer": "ipython2",
   "version": "2.7.13"
  },
  "name": "regress.ipynb"
 },
 "nbformat": 4,
 "nbformat_minor": 2
}
