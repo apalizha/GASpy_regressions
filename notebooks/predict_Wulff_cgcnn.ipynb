{
 "cells": [
  {
   "cell_type": "markdown",
   "metadata": {},
   "source": [
    "#### This notebook takes an mpid and generate a Wulff construction using cgcnn predictions. \n",
    "\n",
    "The specific steps are below:\n",
    "1. enumerate discinct facets up to miller index 2\n",
    "2. Generate atomic structure of each slabs\n",
    "3. Use cgcnn data structure transformer to convert atomic structures into tensors that can be feed into cgcnn\n",
    "4. feed the input into cgcnn to predict surface energies of each facets\n",
    "5. construct Wulff structures"
   ]
  },
  {
   "cell_type": "markdown",
   "metadata": {},
   "source": [
    "## Input mpid & max_index below\n",
    "!!!! this is the only input you need until further modification of the workflow"
   ]
  },
  {
   "cell_type": "code",
   "execution_count": 1,
   "metadata": {},
   "outputs": [],
   "source": [
    "mpid = 'mp-126'\n",
    "max_index = 2 # default is 2 for now"
   ]
  },
  {
   "cell_type": "markdown",
   "metadata": {},
   "source": [
    "##### import packages "
   ]
  },
  {
   "cell_type": "code",
   "execution_count": 2,
   "metadata": {},
   "outputs": [],
   "source": [
    "import ase\n",
    "import json\n",
    "import multiprocess as mp\n",
    "import numpy as np\n",
    "import luigi\n",
    "import pandas as pd\n",
    "import pickle\n",
    "import pymatgen_Wulff_hacked as Wulff\n",
    "import skorch.callbacks.base\n",
    "import tqdm\n",
    "import torch\n",
    "\n",
    "from collections import OrderedDict\n",
    "from pymatgen.io.ase import AseAtomsAdaptor\n",
    "from pymatgen.core.surface import SlabGenerator\n",
    "from pymatgen.symmetry.analyzer import SpacegroupAnalyzer\n",
    "from pymatgen.ext.matproj import MPRester\n",
    "api_key = 'MGOdX3P4nI18eKvE' \n",
    "\n",
    "from skorch import NeuralNetRegressor\n",
    "from skorch.callbacks import Checkpoint,lr_scheduler \n",
    "from skorch.dataset import CVSplit\n",
    "from sklearn.model_selection import ShuffleSplit\n",
    "from torch.optim import Adam\n",
    "\n",
    "from gaspy import defaults\n",
    "from gaspy.mongo import make_doc_from_atoms, make_atoms_from_doc\n",
    "from gaspy.tasks.atoms_generators import _EnumerateDistinctFacets   # local import to avoid import errors\n",
    "from gaspy.tasks import core\n",
    "from gaspy.tasks import calculation_finders\n",
    "from gaspy.tasks import metadata_calculators\n",
    "from gaspy.utils import read_rc\n",
    "GASDB_LOCATION = read_rc('gasdb_path')\n",
    "\n",
    "#import cgcnn stuff\n",
    "import cgcnn\n",
    "import mongo\n",
    "from cgcnn.model import CrystalGraphConvNet\n",
    "from cgcnn.data import collate_pool, MergeDataset, StructureDataTransformer"
   ]
  },
  {
   "cell_type": "markdown",
   "metadata": {},
   "source": [
    "##### first check to see if bulk relaxation has been done"
   ]
  },
  {
   "cell_type": "code",
   "execution_count": 3,
   "metadata": {},
   "outputs": [
    {
     "name": "stderr",
     "output_type": "stream",
     "text": [
      "DEBUG: Checking if FindBulk(max_fizzles=5, mpid=mp-126, vasp_settings={\"ibrion\": 1, \"nsw\": 100, \"isif\": 7, \"isym\": 0, \"ediff\": 1e-08, \"kpts\": [10, 10, 10], \"prec\": \"Accurate\", \"encut\": 500.0, \"pp_version\": \"5.4\", \"gga\": \"RP\", \"pp\": \"PBE\"}) is complete\n",
      "INFO: Informed scheduler that task   FindBulk_5_mp_126___ibrion___1___n_fc800d147a   has status   DONE\n",
      "INFO: Done scheduling tasks\n",
      "INFO: Running Worker with 1 processes\n",
      "DEBUG: Asking scheduler for work...\n",
      "DEBUG: Done\n",
      "DEBUG: There are no more tasks to run at this time\n",
      "INFO: Worker Worker(salt=717940630, workers=1, host=cori14, username=apalizha, pid=9607) was stopped. Shutting down Keep-Alive thread\n",
      "INFO: \n",
      "===== Luigi Execution Summary =====\n",
      "\n",
      "Scheduled 1 tasks of which:\n",
      "* 1 complete ones were encountered:\n",
      "    - 1 FindBulk(...)\n",
      "\n",
      "Did not run any tasks\n",
      "This progress looks :) because there were no failed tasks or missing dependencies\n",
      "\n",
      "===== Luigi Execution Summary =====\n",
      "\n"
     ]
    }
   ],
   "source": [
    "#find the bulk structure of mpid and see if the calculations has been performed\n",
    "#if no relaxation was done, you'd get an error message saying no pickle file\n",
    "BULK_SETTINGS = defaults.bulk_settings()\n",
    "bulk_vasp_settings = BULK_SETTINGS['vasp']\n",
    "bulk_task = calculation_finders.FindBulk(mpid=mpid, vasp_settings=bulk_vasp_settings)\n",
    "\n",
    "#refresh luigi task, this is just to check if calculation has been done\n",
    "# if bulk relaxation doesn't exist, then we get FileNotFoundError \n",
    "core.schedule_tasks([bulk_task])\n",
    "\n",
    "# if relxation exist, pickle file will be regenerated from schedule_tasks, then we can get bulk documents \n",
    "bulk_doc = core.get_task_output(bulk_task)"
   ]
  },
  {
   "cell_type": "markdown",
   "metadata": {},
   "source": [
    "##### helper functions to get a list of docs of all the unique facets for an given mpid"
   ]
  },
  {
   "cell_type": "code",
   "execution_count": 4,
   "metadata": {},
   "outputs": [],
   "source": [
    "def enumerate_distinct_facets(mpid, max_index):\n",
    "    \"\"\"\n",
    "    helper function that takes on mpid and enumerate \n",
    "    the symmetrically distinct facets of a bulk material (up to index 2).\n",
    "    The code is taken from gaspy.tasks.atom_generators._EnumerateDistinctFacets,\n",
    "    written by Kevin Tran and Zach Ulissi.\n",
    "    \n",
    "    Args:\n",
    "    \n",
    "        mpid                A string indicating the Materials Project ID, e.g.,\n",
    "                            'mp-2'\n",
    "        max_miller          An integer indicating the maximum Miller index to\n",
    "                            be enumerated\n",
    "    \"\"\"\n",
    "    task = _EnumerateDistinctFacets(mpid, max_index) # make the task\n",
    "    distinct_millers = core.get_task_output(task) #get the task output\n",
    "    return distinct_millers\n",
    "\n",
    "def make_slabdoc_from_bulkdoc(bulk_doc, miller_indices):\n",
    "    \"\"\"\n",
    "    helper function that takes on the bulk_doc and miller_indices to generate unit slabs\n",
    "    \n",
    "    Args:\n",
    "    \n",
    "        bulk_doc            A list of dictionaries (also known as \"documents\", because\n",
    "                            they'll eventually be put into Mongo as documents) that contain\n",
    "                            information about the bulk.\n",
    "        miller_indices      A 3-tuple containing the three Miller indices\n",
    "                            of the slab[s] you want to enumerate sites from\n",
    "    \"\"\"\n",
    "    SLAB_SETTINGS = defaults.slab_settings()\n",
    "    slab_generate_settings = SLAB_SETTINGS['slab_generator_settings']\n",
    "    get_slab_settings = SLAB_SETTINGS['get_slab_settings']\n",
    "    bulk_atoms = make_atoms_from_doc(bulk_doc)\n",
    "    bulk_structure = AseAtomsAdaptor.get_structure(bulk_atoms)\n",
    "    sga = SpacegroupAnalyzer(bulk_structure, symprec=0.1)\n",
    "    bulk_structure = sga.get_conventional_standard_structure()\n",
    "    gen = SlabGenerator(initial_structure=bulk_structure,\n",
    "                        miller_index=miller_indices,\n",
    "                        **slab_generate_settings)\n",
    "    \n",
    "    # Generate the unit slab and find its height\n",
    "    unit_slab = gen.get_slab(tol=get_slab_settings['tol'])\n",
    "    slab_atoms = AseAtomsAdaptor.get_atoms(unit_slab)\n",
    "    slab_doc = make_doc_from_atoms(slab_atoms)\n",
    "    slab_doc['mpid'] = mpid\n",
    "    slab_doc['miller'] = miller_indices\n",
    "    return slab_doc"
   ]
  },
  {
   "cell_type": "code",
   "execution_count": 5,
   "metadata": {},
   "outputs": [],
   "source": [
    "distinct_miller = enumerate_distinct_facets(mpid, max_index)\n",
    "\n",
    "# generate a list of docs for all facets of that mpid\n",
    "all_facets_docs = [make_slabdoc_from_bulkdoc(bulk_doc, index) for index in distinct_miller]\n",
    "\n",
    "#since we generated unrelaxed slab, we should add another key to the doc where doc['initial_configuration'] is simply replicating doc stuff, has doc['initial_configuration'] = {atoms:{atoms:{.....}}}\n",
    "# In addition, for cgcnn to work, we also need an empty dictionary for atoms final structure --> so it will pass cgcnn structuredatatransformer\n",
    "#in addition, we add some additional_information\n",
    "for doc in all_facets_docs:\n",
    "    doc['initial_configuration'] = OrderedDict()\n",
    "    doc['initial_configuration']['atoms'] = doc['atoms']\n",
    "    doc['initial_configuration']['results'] = doc['results']"
   ]
  },
  {
   "cell_type": "markdown",
   "metadata": {},
   "source": [
    "##### convert the atomic structure using cgcnn data transformer"
   ]
  },
  {
   "cell_type": "code",
   "execution_count": 6,
   "metadata": {},
   "outputs": [
    {
     "name": "stderr",
     "output_type": "stream",
     "text": [
      "100%|██████████| 6/6 [00:00<00:00, 20.82it/s]\n"
     ]
    }
   ],
   "source": [
    "atom_init_jsonfile = GASDB_LOCATION + 'atom_init.json'\n",
    "\n",
    "SDT = StructureDataTransformer(atom_init_loc=atom_init_jsonfile,\n",
    "                              max_num_nbr=12,\n",
    "                               step=0.2,\n",
    "                              radius=8,\n",
    "                              use_voronoi=False,\n",
    "                              use_tag=False,\n",
    "                              use_fixed_info=False,\n",
    "                              use_distance=False,\n",
    "                              train_geometry = 'initial'\n",
    "                              )\n",
    "\n",
    "SDT_out = SDT.transform(all_facets_docs)\n",
    "structures = SDT_out[0]\n",
    "\n",
    "#Settings necessary to build the model (since they are size of vectors as inputs)\n",
    "orig_atom_fea_len = structures[0].shape[-1]\n",
    "nbr_fea_len = structures[1].shape[-1]\n",
    "\n",
    "SDT_out = SDT.transform(all_facets_docs)\n",
    "with mp.Pool(4) as pool:\n",
    "    SDT_list = list(tqdm.tqdm(pool.imap(lambda x: SDT_out[x],range(len(SDT_out)),chunksize=40),total=len(SDT_out)))"
   ]
  },
  {
   "cell_type": "markdown",
   "metadata": {},
   "source": [
    "##### load cgcnn model parameters"
   ]
  },
  {
   "cell_type": "code",
   "execution_count": 7,
   "metadata": {},
   "outputs": [],
   "source": [
    "device='cpu'\n",
    "\n",
    "#Make a checkpoint to save parameters every time there is a new best for validation lost\n",
    "cp = Checkpoint(monitor='valid_loss_best',fn_prefix='valid_best_')\n",
    "\n",
    "#Callback to load the checkpoint with the best validation loss at the end of training\n",
    "class train_end_load_best_valid_loss(skorch.callbacks.base.Callback):\n",
    "    def on_train_end(self, net, X, y):\n",
    "        net.load_params('valid_best_params.pt')      \n",
    "load_best_valid_loss = train_end_load_best_valid_loss()\n",
    "\n",
    "#further spilt the training data into train and validate set by 8:2 ratio for cgcnn\n",
    "train_test_splitter = ShuffleSplit(test_size=0.2, random_state=42)\n",
    "LR_schedule = lr_scheduler.LRScheduler('MultiStepLR',milestones=[100],gamma=0.1)\n",
    "\n",
    "net = NeuralNetRegressor(\n",
    "    CrystalGraphConvNet,\n",
    "    module__orig_atom_fea_len = orig_atom_fea_len,\n",
    "    module__nbr_fea_len = nbr_fea_len,\n",
    "    batch_size=87,  \n",
    "    module__classification=False,\n",
    "    lr=np.exp(-6.465085550816676),     \n",
    "    max_epochs=218,\n",
    "    module__atom_fea_len=43,\n",
    "    module__h_fea_len=114,\n",
    "    module__n_conv=8,\n",
    "    module__n_h=3, \n",
    "    optimizer=Adam,\n",
    "    iterator_train__pin_memory=True,\n",
    "    iterator_train__num_workers=0,\n",
    "    iterator_train__collate_fn = collate_pool,\n",
    "    iterator_train__shuffle=True, #VERY IMPORTANT\n",
    "    iterator_valid__pin_memory=True,\n",
    "    iterator_valid__num_workers=0,\n",
    "    iterator_valid__collate_fn = collate_pool,\n",
    "    iterator_valid__shuffle=False, #This should be False, which is the default\n",
    "    device=device,\n",
    "   criterion=torch.nn.L1Loss,\n",
    "    dataset=MergeDataset,\n",
    "    train_split = CVSplit(cv=train_test_splitter),\n",
    "    callbacks=[cp, load_best_valid_loss, LR_schedule]\n",
    ")\n",
    "\n",
    "# load NN parameter from cgcnn\n",
    "cgcnn_NN_params = GASDB_LOCATION +'surface_cgcnn_params.pkl'\n",
    "net.initialize()\n",
    "net.load_params(f_params=cgcnn_NN_params)"
   ]
  },
  {
   "cell_type": "markdown",
   "metadata": {},
   "source": [
    "##### predict the data"
   ]
  },
  {
   "cell_type": "code",
   "execution_count": 8,
   "metadata": {},
   "outputs": [],
   "source": [
    "SE_prediction = np.exp(net.predict(SDT_list).reshape(-1))\n",
    "## add the prediction to docs\n",
    "for prediction, doc in zip(SE_prediction, all_facets_docs):\n",
    "    doc['cgcnn_prediction'] = prediction"
   ]
  },
  {
   "cell_type": "markdown",
   "metadata": {},
   "source": [
    "##### wulff construction & output dataframe "
   ]
  },
  {
   "cell_type": "code",
   "execution_count": 9,
   "metadata": {},
   "outputs": [],
   "source": [
    "def wulff_shape(docs):\n",
    "    \"\"\"\n",
    "    Construct wulff shape.\n",
    "    \"\"\"\n",
    "    millers =[doc['miller'] for doc in docs]\n",
    "    se_prediction = [round(doc['cgcnn_prediction'],3) for doc in docs]\n",
    "        \n",
    "    if len(millers) > 1:\n",
    "        with MPRester(api_key) as m:\n",
    "            structure = m.get_structure_by_material_id(mpid)\n",
    "            ws_prediction = Wulff.WulffShape(structure.lattice, millers, se_prediction, symprec=1e-5)\n",
    "        return ws_prediction"
   ]
  },
  {
   "cell_type": "code",
   "execution_count": 10,
   "metadata": {},
   "outputs": [
    {
     "name": "stderr",
     "output_type": "stream",
     "text": [
      "/opt/conda/lib/python3.6/site-packages/matplotlib/cbook/deprecation.py:107: MatplotlibDeprecationWarning: Passing one of 'on', 'true', 'off', 'false' as a boolean is deprecated; use an actual boolean (True/False) instead.\n",
      "  warnings.warn(message, mplDeprecation, stacklevel=1)\n"
     ]
    },
    {
     "data": {
      "image/png": "[encoded data removed]",
      "text/plain": [
       "<Figure size 576x576 with 1 Axes>"
      ]
     },
     "metadata": {
      "needs_background": "light"
     },
     "output_type": "display_data"
    }
   ],
   "source": [
    "ws_prediction  = wulff_shape(all_facets_docs)\n",
    "ws_prediction.show() "
   ]
  },
  {
   "cell_type": "code",
   "execution_count": 11,
   "metadata": {},
   "outputs": [
    {
     "data": {
      "text/html": [
       "<div>\n",
       "<style scoped>\n",
       "    .dataframe tbody tr th:only-of-type {\n",
       "        vertical-align: middle;\n",
       "    }\n",
       "\n",
       "    .dataframe tbody tr th {\n",
       "        vertical-align: top;\n",
       "    }\n",
       "\n",
       "    .dataframe thead th {\n",
       "        text-align: right;\n",
       "    }\n",
       "</style>\n",
       "<table border=\"1\" class=\"dataframe\">\n",
       "  <thead>\n",
       "    <tr style=\"text-align: right;\">\n",
       "      <th></th>\n",
       "      <th>Surface Energy</th>\n",
       "      <th>Area Fraction</th>\n",
       "    </tr>\n",
       "  </thead>\n",
       "  <tbody>\n",
       "    <tr>\n",
       "      <th>(1, 1, 1)</th>\n",
       "      <td>0.121</td>\n",
       "      <td>0.761</td>\n",
       "    </tr>\n",
       "    <tr>\n",
       "      <th>(2, 2, 1)</th>\n",
       "      <td>0.149</td>\n",
       "      <td>0.223</td>\n",
       "    </tr>\n",
       "    <tr>\n",
       "      <th>(2, 1, 1)</th>\n",
       "      <td>0.147</td>\n",
       "      <td>0.017</td>\n",
       "    </tr>\n",
       "    <tr>\n",
       "      <th>(1, 1, 0)</th>\n",
       "      <td>0.166</td>\n",
       "      <td>0.000</td>\n",
       "    </tr>\n",
       "    <tr>\n",
       "      <th>(2, 1, 0)</th>\n",
       "      <td>0.158</td>\n",
       "      <td>0.000</td>\n",
       "    </tr>\n",
       "    <tr>\n",
       "      <th>(1, 0, 0)</th>\n",
       "      <td>0.134</td>\n",
       "      <td>0.000</td>\n",
       "    </tr>\n",
       "  </tbody>\n",
       "</table>\n",
       "</div>"
      ],
      "text/plain": [
       "           Surface Energy  Area Fraction\n",
       "(1, 1, 1)           0.121          0.761\n",
       "(2, 2, 1)           0.149          0.223\n",
       "(2, 1, 1)           0.147          0.017\n",
       "(1, 1, 0)           0.166          0.000\n",
       "(2, 1, 0)           0.158          0.000\n",
       "(1, 0, 0)           0.134          0.000"
      ]
     },
     "execution_count": 11,
     "metadata": {},
     "output_type": "execute_result"
    }
   ],
   "source": [
    "# obtain the details of each facets, i.e. their surface energy and area fraction     \n",
    "dicts = [ws_prediction.miller_energy_dict, ws_prediction.area_fraction_dict]\n",
    "df_list = [pd.DataFrame.from_dict(d, orient='index') for d in dicts]\n",
    "df = pd.concat(df_list, axis=1)\n",
    "df.columns = ['Surface Energy',\n",
    "              'Area Fraction']\n",
    "df = df.sort_values(by='Area Fraction', ascending = False).round(3) # keep 3 sigfigs for dataframe\n",
    "df"
   ]
  },
  {
   "cell_type": "code",
   "execution_count": null,
   "metadata": {},
   "outputs": [],
   "source": []
  }
 ],
 "metadata": {
  "kernelspec": {
   "display_name": "gaspy_regressions_SE_cpu",
   "language": "python",
   "name": "gaspy_regression_se_cpu"
  },
  "language_info": {
   "codemirror_mode": {
    "name": "ipython",
    "version": 3
   },
   "file_extension": ".py",
   "mimetype": "text/x-python",
   "name": "python",
   "nbconvert_exporter": "python",
   "pygments_lexer": "ipython3",
   "version": "3.6.6"
  }
 },
 "nbformat": 4,
 "nbformat_minor": 2
}
