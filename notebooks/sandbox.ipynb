{
 "cells": [
  {
   "cell_type": "markdown",
   "metadata": {
    "collapsed": true
   },
   "source": [
    "# sandbox.ipynb\n",
    "\n",
    "This python notebook performs regressions on data pulled from a processed mongo DB created by GASpy. It then saves these regressions into pickles (for later use) and creates parity plots of the regression fits."
   ]
  },
  {
   "cell_type": "markdown",
   "metadata": {},
   "source": [
    "# Initialize"
   ]
  },
  {
   "cell_type": "code",
   "execution_count": 2,
   "metadata": {
    "autoscroll": false,
    "ein.tags": "worksheet-0",
    "slideshow": {
     "slide_type": "-"
    }
   },
   "outputs": [],
   "source": [
    "# Importing\n",
    "import pdb\n",
    "from gaspy_regress.regressor import GASpyRegressor\n",
    "from gaspy_regress import gio, plot, predict\n",
    "from gaspy.utils import vasp_settings_to_str, read_rc, docs_to_pdocs\n",
    "from gaspy import defaults\n",
    "\n",
    "VASP_SETTINGS = vasp_settings_to_str({'gga': 'RP',\n",
    "                                      'pp_version': '5.4',\n",
    "                                      'encut': 350})"
   ]
  },
  {
   "cell_type": "markdown",
   "metadata": {
    "collapsed": true
   },
   "source": [
    "# Regress"
   ]
  },
  {
   "cell_type": "code",
   "execution_count": 3,
   "metadata": {},
   "outputs": [],
   "source": [
    "import copy\n",
    "from tpot import TPOTRegressor"
   ]
  },
  {
   "cell_type": "code",
   "execution_count": 6,
   "metadata": {},
   "outputs": [],
   "source": [
    "model_name = 'TPOT'\n",
    "features = ['coordcount']\n",
    "responses = ['energy']\n",
    "blocks = ['adsorbate']"
   ]
  },
  {
   "cell_type": "code",
   "execution_count": 7,
   "metadata": {},
   "outputs": [
    {
     "name": "stdout",
     "output_type": "stream",
     "text": [
      "Version 0.9.1 of tpot is outdated. Version 0.9.2 was released Wednesday January 17, 2018.\n",
      "Starting to pull documents...\n"
     ]
    },
    {
     "name": "stderr",
     "output_type": "stream",
     "text": [
      "/project/projectdirs/m2755/GASpy_conda/lib/python2.7/site-packages/deap/creator.py:141: RuntimeWarning:\n",
      "\n",
      "A class named 'FitnessMulti' has already been created and it will be overwritten. Consider deleting previous creation of that class or rename it.\n",
      "\n",
      "/project/projectdirs/m2755/GASpy_conda/lib/python2.7/site-packages/deap/creator.py:141: RuntimeWarning:\n",
      "\n",
      "A class named 'Individual' has already been created and it will be overwritten. Consider deleting previous creation of that class or rename it.\n",
      "\n",
      "42305it [00:01, 31196.54it/s]\n",
      "Optimization Progress:  67%|██████▋   | 46/69 [01:16<00:23,  1.03s/pipeline]"
     ]
    },
    {
     "name": "stdout",
     "output_type": "stream",
     "text": [
      "Generation 1 - Current best internal CV score: 0.139417442442\n"
     ]
    },
    {
     "name": "stderr",
     "output_type": "stream",
     "text": [
      "                                                                            \r"
     ]
    },
    {
     "name": "stdout",
     "output_type": "stream",
     "text": [
      "Generation 2 - Current best internal CV score: 0.139417442442\n",
      "\n",
      "Best pipeline: ExtraTreesRegressor(input_matrix, bootstrap=False, max_features=0.2, min_samples_leaf=1, min_samples_split=15, n_estimators=100)\n"
     ]
    },
    {
     "name": "stderr",
     "output_type": "stream",
     "text": [
      "Optimization Progress:  67%|██████▋   | 46/69 [01:22<00:26,  1.17s/pipeline]"
     ]
    },
    {
     "name": "stdout",
     "output_type": "stream",
     "text": [
      "Generation 1 - Current best internal CV score: 0.143267009493\n"
     ]
    },
    {
     "name": "stderr",
     "output_type": "stream",
     "text": [
      "                                                                            \r"
     ]
    },
    {
     "name": "stdout",
     "output_type": "stream",
     "text": [
      "Generation 2 - Current best internal CV score: 0.143267009493\n",
      "\n",
      "Best pipeline: KNeighborsRegressor(input_matrix, n_neighbors=39, p=2, weights=distance)\n"
     ]
    }
   ],
   "source": [
    "tpot = TPOTRegressor(\n",
    "                     generations=2,\n",
    "                     population_size=23,\n",
    "                     verbosity=2,\n",
    "                     random_state=42,\n",
    "                    )\n",
    "H = GASpyRegressor(features=features, responses=responses,\n",
    "                   blocks=blocks, vasp_settings=VASP_SETTINGS,\n",
    "                   fingerprints=fingerprints, train_size=0.8, dev_size=0.1)\n",
    "fit_blocks = [('CO',), ('H',)]\n",
    "H.fit_tpot(tpot, model_name=model_name, blocks=fit_blocks)"
   ]
  },
  {
   "cell_type": "code",
   "execution_count": 6,
   "metadata": {},
   "outputs": [],
   "source": [
    "gio.dump_model(H)"
   ]
  },
  {
   "cell_type": "code",
   "execution_count": 10,
   "metadata": {},
   "outputs": [],
   "source": [
    "H = gio.load_model(model_name, features+outer_features, responses, blocks)"
   ]
  },
  {
   "cell_type": "code",
   "execution_count": 8,
   "metadata": {},
   "outputs": [
    {
     "name": "stdout",
     "output_type": "stream",
     "text": [
      "RMSE values:\n",
      "\t('H',)\n",
      "\t\ttest\n",
      "\t\t\t0.407478189987\n",
      "\t\ttrain\n",
      "\t\t\t0.167831735929\n",
      "\t\tall data\n",
      "\t\t\t0.388116693652\n",
      "\t\tdev\n",
      "\t\t\t0.40452419894\n",
      "\t('CO',)\n",
      "\t\ttest\n",
      "\t\t\t0.362245655609\n",
      "\t\ttrain\n",
      "\t\t\t0.259714797869\n",
      "\t\tall data\n",
      "\t\t\t0.370040988306\n",
      "\t\tdev\n",
      "\t\t\t0.385430408266\n"
     ]
    },
    {
     "data": {
      "image/png": "[encoded data removed]",
      "text/plain": [
       "<matplotlib.figure.Figure at 0x2aeed9c05ad0>"
      ]
     },
     "metadata": {},
     "output_type": "display_data"
    }
   ],
   "source": [
    "x, y, text = H.parity_plot(plotter='matplotlib', split=True)"
   ]
  },
  {
   "cell_type": "code",
   "execution_count": 18,
   "metadata": {},
   "outputs": [],
   "source": [
    "import numpy as np\n",
    "import matplotlib.pyplot as plt\n",
    "import seaborn as sns"
   ]
  },
  {
   "cell_type": "markdown",
   "metadata": {},
   "source": [
    "# Predict"
   ]
  },
  {
   "cell_type": "code",
   "execution_count": null,
   "metadata": {
    "collapsed": true
   },
   "outputs": [],
   "source": [
    "regressor = H\n",
    "excel_file_path = read_rc()['gaspy_path'] + '/GASpy_regressions/volcanos_parsed.xlsx'"
   ]
  },
  {
   "cell_type": "markdown",
   "metadata": {},
   "source": [
    "## CO$_2$ Reduction"
   ]
  },
  {
   "cell_type": "code",
   "execution_count": 29,
   "metadata": {},
   "outputs": [],
   "source": [
    "regressor_block = ('CO',)\n",
    "adsorbate = 'CO'\n",
    "system = 'CO2RR'\n",
    "scale = 'log'"
   ]
  },
  {
   "cell_type": "code",
   "execution_count": null,
   "metadata": {
    "collapsed": true,
    "scrolled": true
   },
   "outputs": [],
   "source": [
    "co2_data = predict.volcano(H, regressor_block, system, excel_file_path, scale, adsorbate)"
   ]
  },
  {
   "cell_type": "code",
   "execution_count": null,
   "metadata": {
    "collapsed": true
   },
   "outputs": [],
   "source": [
    "gio.dump_predictions(co2_data, regressor=H, system=system)"
   ]
  },
  {
   "cell_type": "code",
   "execution_count": 30,
   "metadata": {},
   "outputs": [
    {
     "ename": "NameError",
     "evalue": "name 'outer_features' is not defined",
     "output_type": "error",
     "traceback": [
      "\u001b[0;31m\u001b[0m",
      "\u001b[0;31mNameError\u001b[0mTraceback (most recent call last)",
      "\u001b[0;32m<ipython-input-30-38b4d926f790>\u001b[0m in \u001b[0;36m<module>\u001b[0;34m()\u001b[0m\n\u001b[0;32m----> 1\u001b[0;31m \u001b[0mco2_data\u001b[0m \u001b[0;34m=\u001b[0m \u001b[0mgio\u001b[0m\u001b[0;34m.\u001b[0m\u001b[0mload_predictions\u001b[0m\u001b[0;34m(\u001b[0m\u001b[0mmodel_name\u001b[0m\u001b[0;34m,\u001b[0m \u001b[0mfeatures\u001b[0m\u001b[0;34m+\u001b[0m\u001b[0mouter_features\u001b[0m\u001b[0;34m,\u001b[0m \u001b[0mresponses\u001b[0m\u001b[0;34m,\u001b[0m \u001b[0mblocks\u001b[0m\u001b[0;34m,\u001b[0m \u001b[0msystem\u001b[0m\u001b[0;34m)\u001b[0m\u001b[0;34m\u001b[0m\u001b[0m\n\u001b[0m",
      "\u001b[0;31mNameError\u001b[0m: name 'outer_features' is not defined"
     ]
    }
   ],
   "source": [
    "co2_data = gio.load_predictions(model_name, features+outer_features, responses, blocks, system)"
   ]
  },
  {
   "cell_type": "code",
   "execution_count": null,
   "metadata": {},
   "outputs": [],
   "source": [
    "plot.volcano(co2_data, excel_file_path, system, scale)"
   ]
  },
  {
   "cell_type": "code",
   "execution_count": null,
   "metadata": {},
   "outputs": [],
   "source": [
    "plot.filtered_parity(co2_data, scale=scale, plot_type='plotly', plot_range=[0.01, 14],\n",
    "                     x_label='DFT-predicted activity [mA/cm2]',\n",
    "                     y_label='ML-estimated activity [mA/cm2]',\n",
    "                     title='Activity on surface minima')"
   ]
  },
  {
   "cell_type": "code",
   "execution_count": null,
   "metadata": {
    "collapsed": true
   },
   "outputs": [],
   "source": [
    "plot.filtered_parity(co2_data, scale=scale, plot_type='hex', plot_range=[0.0001, 14],\n",
    "                     save=True,\n",
    "                     x_label='DFT-predicted activity [log(mA/cm2)]',\n",
    "                     y_label='ML-estimated activity [log(mA/cm2)]',\n",
    "                     title='Activity parity on surface minima')"
   ]
  },
  {
   "cell_type": "markdown",
   "metadata": {},
   "source": [
    "## HER"
   ]
  },
  {
   "cell_type": "code",
   "execution_count": null,
   "metadata": {
    "collapsed": true
   },
   "outputs": [],
   "source": [
    "regressor_block = ('H',)\n",
    "adsorbate = 'H'\n",
    "system = 'HER'\n",
    "scale = 'log'"
   ]
  },
  {
   "cell_type": "code",
   "execution_count": null,
   "metadata": {
    "collapsed": true,
    "scrolled": true
   },
   "outputs": [],
   "source": [
    "her_data = predict.volcano(H, regressor_block, system, excel_file_path, scale, adsorbate)"
   ]
  },
  {
   "cell_type": "code",
   "execution_count": null,
   "metadata": {
    "collapsed": true
   },
   "outputs": [],
   "source": [
    "gio.dump_predictions(her_data, regressor=H, system=system)"
   ]
  },
  {
   "cell_type": "code",
   "execution_count": null,
   "metadata": {
    "collapsed": true
   },
   "outputs": [],
   "source": [
    "her_data = gio.load_predictions(model_name, features+outer_features, responses, blocks, system)"
   ]
  },
  {
   "cell_type": "code",
   "execution_count": null,
   "metadata": {},
   "outputs": [],
   "source": [
    "plot.volcano(her_data, excel_file_path, system, scale)"
   ]
  },
  {
   "cell_type": "code",
   "execution_count": null,
   "metadata": {},
   "outputs": [],
   "source": [
    "plot.filtered_parity(her_data, scale=scale, plot_type='plotly', plot_range=[1e-12, 1e-3],\n",
    "                     x_label='DFT-predicted activity [A/cm2]',\n",
    "                     y_label='ML-estimated activity [A/cm2]',\n",
    "                     title='Activity on surface minima')"
   ]
  },
  {
   "cell_type": "code",
   "execution_count": null,
   "metadata": {
    "collapsed": true
   },
   "outputs": [],
   "source": [
    "plot.filtered_parity(her_data, scale=scale, plot_type='hex', plot_range=[1e-12, 1e-3],\n",
    "                     x_label='DFT-predicted activity [log(A/cm2)]',\n",
    "                     y_label='ML-estimated activity [log(A/cm2)]',\n",
    "                     title='Activity parity on surface minima')"
   ]
  },
  {
   "cell_type": "markdown",
   "metadata": {
    "collapsed": true
   },
   "source": [
    "# Database Visualization"
   ]
  },
  {
   "cell_type": "markdown",
   "metadata": {},
   "source": [
    "## Elemental Grid Plot"
   ]
  },
  {
   "cell_type": "code",
   "execution_count": null,
   "metadata": {
    "collapsed": true
   },
   "outputs": [],
   "source": [
    "import pickle\n",
    "import re\n",
    "import numpy as np\n",
    "import numpy.ma as ma\n",
    "import matplotlib.pyplot as plt\n",
    "from matplotlib import cm\n",
    "from matplotlib.colors import LinearSegmentedColormap\n",
    "import matplotlib.ticker as ticker"
   ]
  },
  {
   "cell_type": "markdown",
   "metadata": {},
   "source": [
    "### Pull and process the data"
   ]
  },
  {
   "cell_type": "code",
   "execution_count": null,
   "metadata": {
    "collapsed": true
   },
   "outputs": [],
   "source": [
    "def parse(pkl):\n",
    "    '''\n",
    "    Open up a databall of predictions and process it into a form that's\n",
    "    easier to visualize into a grid plot.\n",
    "\n",
    "    Inputs:\n",
    "        pkl             A string indicating the filename/location of the databall\n",
    "        target_energy   The target adsorption energy\n",
    "    Outputs:\n",
    "        data            A list of tuples, where the first element in each tuple is a\n",
    "                        list of the elements in a surface and the second element is\n",
    "                        the minimum adsorption energy.\n",
    "        unique_elements A set object containing the strings for each unique element\n",
    "                        over the entire data set\n",
    "    '''\n",
    "    # Pull and pool the data for each surface\n",
    "    with open(pkl, 'rb') as f:\n",
    "        sim_results, unsim_results = pickle.load(f)\n",
    "    results = sim_results + unsim_results\n",
    "\n",
    "    # Initialize/create the `data` output\n",
    "    data = []\n",
    "    for result in results:\n",
    "        # Parsing the data structure\n",
    "        fingerprint = result[0]\n",
    "        formula = fingerprint['formula']\n",
    "        elements = re.findall('[A-Z][a-z]*', formula)\n",
    "        elements = [ele for ele in elements if ele != 'C' and ele != 'O' and ele != 'U']\n",
    "        # Filter out all alloys with more than 2 elements\n",
    "        if len(elements) > 2:\n",
    "            continue\n",
    "        # More parsing and then information storage\n",
    "        energy_data, _ = result[1]\n",
    "        energy, _ = energy_data\n",
    "        datum = (elements, energy)\n",
    "        data.append(datum)\n",
    "\n",
    "    # Identify the unique elements so we can loop through them\n",
    "    unique_elements = set(element for datum in data for element in datum[0])\n",
    "\n",
    "    return data, unique_elements"
   ]
  },
  {
   "cell_type": "markdown",
   "metadata": {},
   "source": [
    "### Calculate performance"
   ]
  },
  {
   "cell_type": "code",
   "execution_count": null,
   "metadata": {
    "collapsed": true,
    "scrolled": true
   },
   "outputs": [],
   "source": [
    "def calc_performance(data, unique_elements, target_energy, ):\n",
    "    '''\n",
    "    We'll be plotting a performance matrix whose elements are between 0 and 1.\n",
    "    A score of 1 is perfect, and a score of 0 indicates that you're... really bad.\n",
    "    Note that we used a masked numpy array. Masked values indicate that we have\n",
    "    neither DFT nor ML predictions for a particular alloy combination.\n",
    "    \n",
    "    Inputs:\n",
    "        data\n",
    "        \n",
    "            %\n",
    "                e\n",
    "                    e\n",
    "                        e\n",
    "    Output:\n",
    "        perf_matrix\n",
    "    '''\n",
    "    n_elements = len(unique_elements)\n",
    "    perf_matrix = ma.masked_values(np.zeros((n_elements, n_elements)), 0)\n",
    "\n",
    "    # Fill in the matrix on element at a time. We also make sure we don't investigate\n",
    "    # an alloy twice, which would be double-dipping.\n",
    "    investigated = []\n",
    "    for i, el_i in enumerate(unique_elements):\n",
    "        for j, el_j in enumerate(unique_elements):\n",
    "            if set([el_i, el_j]) in investigated:\n",
    "                continue\n",
    "            investigated.append(set([el_i, el_j]))\n",
    "\n",
    "            # Find the energies of all of the surfaces that match this alloy type\n",
    "            energies = []\n",
    "            # If it's an alloy...\n",
    "            if el_i != el_j:\n",
    "                for elements, energy in data:\n",
    "                    if el_i in elements and el_j in elements:\n",
    "                        energies.append(energy)\n",
    "            # If it's monometallic...\n",
    "            else:\n",
    "                for elements, energy in data:\n",
    "                    if el_i in elements and len(elements) == 1:\n",
    "                        energies.append(energy)\n",
    "\n",
    "            # Calculate and store the performance metric\n",
    "            for energy in energies:\n",
    "                performance = (1 - abs(energy-target_energy)/worst_energy_deviation) / len(energies)\n",
    "                # Some fancy management because we're working with masked arrays\n",
    "                if perf_matrix.mask[i, j]:\n",
    "                    perf_matrix[i, j] = performance\n",
    "                else:\n",
    "                    perf_matrix[i, j] += performance\n",
    "                    \n",
    "    # Establish the target adsorption energy we want so that we can build a metric off of it\n",
    "    target_energy = -0.6\n",
    "    max_energy = max([datum[1] for datum in data])\n",
    "    min_energy = min([datum[1] for datum in data])\n",
    "    worst_dE_dev = max(abs(energy - target_energy)\n",
    "                           for energy in (max_energy, min_energy))\n",
    "    \n",
    "    return perf_matrix"
   ]
  },
  {
   "cell_type": "markdown",
   "metadata": {},
   "source": [
    "### Rank-ordering"
   ]
  },
  {
   "cell_type": "code",
   "execution_count": null,
   "metadata": {
    "collapsed": true
   },
   "outputs": [],
   "source": [
    "def rank(unique_elements, perf_matrix):\n",
    "    '''\n",
    "    Rank-order a matrix of performance values.\n",
    "    \n",
    "    Inputs:\n",
    "        unique_elements     A set of strings containing all the unique elements\n",
    "        perf_matrix         A numpy array containing the metrics of performance\n",
    "                            for each alloy pairing. The index ording in this matrix\n",
    "                            should be identical to the ordering in `unique_elements`\n",
    "    Output:\n",
    "        sorted_elements     A numpy array that has the same elements as\n",
    "                            `unique_elements`, but ordered from best-to-last.\n",
    "    '''\n",
    "    # We can't order with sets, so turn `unique_elements` into a list\n",
    "    unique_elements = list(unique_elements)\n",
    "\n",
    "    # Calculate the average performance of each element. Since the perf_matrix\n",
    "    # is diagonal, we do this by summing the matrix along both axes and then adding both\n",
    "    # of the resulting vectors. We also have to take out the diagonal of the performance\n",
    "    # matrix, because this method double-adds that element. And we divide by the counts\n",
    "    # to get an average (which addresses holes of data).\n",
    "    perf_vector = perf_matrix.sum(axis=0) + perf_matrix.sum(axis=1) - perf_matrix.diagonal()\n",
    "    perf_vector = perf_vector / (perf_matrix.count(axis=0) + perf_matrix.count(axis=1) - 1)\n",
    "    perf_vector = np.array(perf_vector)\n",
    "\n",
    "    # Now sort\n",
    "    sort_inds = perf_vector.argsort()[::-1]\n",
    "    sorted_elements = np.array(unique_elements)[sort_inds]\n",
    "\n",
    "    return sorted_elements"
   ]
  },
  {
   "cell_type": "markdown",
   "metadata": {},
   "source": [
    "### Plotting"
   ]
  },
  {
   "cell_type": "code",
   "execution_count": null,
   "metadata": {
    "collapsed": true,
    "scrolled": true
   },
   "outputs": [],
   "source": [
    "def _plot_map(element_names, perf_matrix):\n",
    "    '''\n",
    "    Make a grid plot with a performance matrix and a set of corresponding\n",
    "    keys\n",
    "    \n",
    "    Inputs:\n",
    "        element_names   A sorted sequence whose elements are the corresponding\n",
    "                        keys are the keys correspond to the elements in\n",
    "                        `perf_matrix`\n",
    "        perf_matrix     A 2-D numpy array containing the performance values\n",
    "                        of various elemental pairings. The order in this matrix\n",
    "                        needs to correspond to the order in `element_names`.\n",
    "    '''\n",
    "    # Make our own color scale between light gray and dark\n",
    "    cmap = LinearSegmentedColormap.from_list(name='bluescale',\n",
    "                                             colors=['lightgray', 'black'],\n",
    "                                             N=100)\n",
    "    # Initialize the plot\n",
    "    fig = plt.figure(figsize=(15, 15))\n",
    "    ax = fig.add_subplot(111)\n",
    "    # Plot the matrix\n",
    "    cax = ax.matshow(perf_matrix, cmap=cmap)\n",
    "    # Create a colorbar\n",
    "    #cb = fig.colorbar(cax)\n",
    "    # Label the axes\n",
    "    ax.set_xticklabels([''] + list(element_names))\n",
    "    ax.set_yticklabels([''] + list(element_names))\n",
    "    ax.xaxis.set_major_locator(ticker.MultipleLocator(1))\n",
    "    ax.yaxis.set_major_locator(ticker.MultipleLocator(1))\n",
    "    plt.show()"
   ]
  },
  {
   "cell_type": "markdown",
   "metadata": {},
   "source": [
    "### Wrap it all up"
   ]
  },
  {
   "cell_type": "code",
   "execution_count": null,
   "metadata": {
    "collapsed": true
   },
   "outputs": [],
   "source": [
    "def plot_map(pkl, target_energy):\n",
    "    '''\n",
    "    Wrapper function that creates a grid plot from a pickle name and a target energy.\n",
    "    \n",
    "    Inputs:\n",
    "        pkl             A string indicating the filename/location of the databall\n",
    "        target_energy   The adsorption energy that you're targeting (eV)\n",
    "    Outputs:\n",
    "        sorted_elements     A numpy array that contains all of the elements\n",
    "                            in the databall, but ordered from best-to-worst\n",
    "        perf_matrix         A numpy array of the performance matrix of each\n",
    "                            alloy. The index ordering corresponds to the one\n",
    "                            in `sorted_elements`.\n",
    "    '''\n",
    "    # Parse the databall\n",
    "    data, unique_elements, worst_energy_deviation = parse(pkl, target_energy)\n",
    "    # Calculate the performance of each alloy set, and then use that performance\n",
    "    # to rank-order the single elements.\n",
    "    perf_matrix = calc_performance(data, unique_elements,\n",
    "                                   target_energy, worst_energy_deviation)\n",
    "    sorted_elements = rank(unique_elements, perf_matrix)\n",
    "    # Re-calculate performance with the new rank order. We are doing extra\n",
    "    # work here at the cost of ease-of-coding. You may fix this if you want.\n",
    "    perf_matrix = calc_performance(data, sorted_elements,\n",
    "                                   target_energy, worst_energy_deviation)\n",
    "    # Plot and return \n",
    "    _plot_map(sorted_elements, perf_matrix)\n",
    "    return sorted_elements, perf_matrix"
   ]
  },
  {
   "cell_type": "markdown",
   "metadata": {},
   "source": [
    "### CO"
   ]
  },
  {
   "cell_type": "code",
   "execution_count": null,
   "metadata": {},
   "outputs": [],
   "source": [
    "co_pkl = 'pkls/CO2RR_predictions_GP_around_TPOT_FEATURES_coordcount_neighbors_coordcounts_RESPONSES_energy_BLOCKS_adsorbate.pkl'\n",
    "co_target_energy = -0.6\n",
    "co_rankings, co_perfs = plot_map(co_pkl, co_target_energy)"
   ]
  },
  {
   "cell_type": "markdown",
   "metadata": {},
   "source": [
    "### H"
   ]
  },
  {
   "cell_type": "code",
   "execution_count": null,
   "metadata": {},
   "outputs": [],
   "source": [
    "h_pkl = 'pkls/HER_predictions_GP_around_TPOT_FEATURES_coordcount_neighbors_coordcounts_RESPONSES_energy_BLOCKS_adsorbate.pkl'\n",
    "h_target_energy = -0.27\n",
    "her_rankings, her_perfs = plot_map(h_pkl, h_target_energy)"
   ]
  },
  {
   "cell_type": "code",
   "execution_count": null,
   "metadata": {},
   "outputs": [],
   "source": []
  }
 ],
 "metadata": {
  "anaconda-cloud": {},
  "kernelspec": {
   "display_name": "Python [conda env:GASpy_conda]",
   "language": "python",
   "name": "conda-env-GASpy_conda-py"
  },
  "language_info": {
   "codemirror_mode": {
    "name": "ipython",
    "version": 2
   },
   "file_extension": ".py",
   "mimetype": "text/x-python",
   "name": "python",
   "nbconvert_exporter": "python",
   "pygments_lexer": "ipython2",
   "version": "2.7.13"
  },
  "name": "regress.ipynb"
 },
 "nbformat": 4,
 "nbformat_minor": 2
}
