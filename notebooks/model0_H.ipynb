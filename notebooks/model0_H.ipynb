{
 "cells": [
  {
   "cell_type": "code",
   "execution_count": 1,
   "metadata": {},
   "outputs": [],
   "source": [
    "adsorbate = 'H'\n",
    "model_name = 'model0'"
   ]
  },
  {
   "cell_type": "markdown",
   "metadata": {},
   "source": [
    "# Fitting a model"
   ]
  },
  {
   "cell_type": "markdown",
   "metadata": {},
   "source": [
    "## Get the training data"
   ]
  },
  {
   "cell_type": "code",
   "execution_count": 2,
   "metadata": {},
   "outputs": [
    {
     "name": "stdout",
     "output_type": "stream",
     "text": [
      "Now pulling adsorption documents...\n"
     ]
    },
    {
     "name": "stderr",
     "output_type": "stream",
     "text": [
      "22825it [00:00, 69992.10it/s]\n"
     ]
    }
   ],
   "source": [
    "import numpy as np\n",
    "from gaspy import gasdb\n",
    "\n",
    "docs = gasdb.get_adsorption_docs(adsorbates=[adsorbate])\n",
    "energies_dft = np.array([doc['energy'] for doc in docs])"
   ]
  },
  {
   "cell_type": "markdown",
   "metadata": {},
   "source": [
    "## Processing the features\n",
    "First we get the pipelines/classes that can fingerprint sites for us"
   ]
  },
  {
   "cell_type": "code",
   "execution_count": 3,
   "metadata": {},
   "outputs": [
    {
     "name": "stdout",
     "output_type": "stream",
     "text": [
      "Now pulling adsorption documents...\n"
     ]
    },
    {
     "name": "stderr",
     "output_type": "stream",
     "text": [
      "22825it [00:00, 42627.89it/s]\n"
     ]
    },
    {
     "name": "stdout",
     "output_type": "stream",
     "text": [
      "Now pulling catalog documents...\n"
     ]
    },
    {
     "name": "stderr",
     "output_type": "stream",
     "text": [
      "2591434it [00:53, 48131.88it/s]\n",
      "/miniconda3/envs/GASpy_conda/lib/python3.6/site-packages/numpy/core/fromnumeric.py:2957: RuntimeWarning: Mean of empty slice.\n",
      "  out=out, **kwargs)\n",
      "/miniconda3/envs/GASpy_conda/lib/python3.6/site-packages/numpy/core/_methods.py:80: RuntimeWarning: invalid value encountered in double_scalars\n",
      "  ret = ret.dtype.type(ret / rcount)\n",
      "/home/GASpy/GASpy_regressions/gaspy_regress/fingerprinters.py:189: RuntimeWarning: We do not have any energy data for Mn, so we set its median adsorption energy as the median of all energies\n",
      "  warnings.warn(message, RuntimeWarning)\n",
      "/home/GASpy/GASpy_regressions/gaspy_regress/fingerprinters.py:189: RuntimeWarning: We do not have any energy data for C, so we set its median adsorption energy as the median of all energies\n",
      "  warnings.warn(message, RuntimeWarning)\n",
      "/home/GASpy/GASpy_regressions/gaspy_regress/fingerprinters.py:189: RuntimeWarning: We do not have any energy data for K, so we set its median adsorption energy as the median of all energies\n",
      "  warnings.warn(message, RuntimeWarning)\n",
      "/home/GASpy/GASpy_regressions/gaspy_regress/fingerprinters.py:189: RuntimeWarning: We do not have any energy data for S, so we set its median adsorption energy as the median of all energies\n",
      "  warnings.warn(message, RuntimeWarning)\n"
     ]
    },
    {
     "name": "stdout",
     "output_type": "stream",
     "text": [
      "Now pulling adsorption documents...\n"
     ]
    },
    {
     "name": "stderr",
     "output_type": "stream",
     "text": [
      "22825it [00:00, 91219.97it/s]\n"
     ]
    },
    {
     "name": "stdout",
     "output_type": "stream",
     "text": [
      "Now pulling catalog documents...\n"
     ]
    },
    {
     "name": "stderr",
     "output_type": "stream",
     "text": [
      "2591434it [00:51, 50368.02it/s]\n"
     ]
    }
   ],
   "source": [
    "from gaspy_regress import fingerprinters\n",
    "\n",
    "inner_fingerprinter = fingerprinters.InnerShellFingerprinter(adsorbate)\n",
    "outer_fingerprinter = fingerprinters.OuterShellFingerprinter(adsorbate)\n",
    "fingerprinter = fingerprinters.StackedFingerprinter(inner_fingerprinter, outer_fingerprinter)"
   ]
  },
  {
   "cell_type": "markdown",
   "metadata": {},
   "source": [
    "Then we do some preprocessing to the fingerprints/features, such as scaling and PCA."
   ]
  },
  {
   "cell_type": "code",
   "execution_count": 4,
   "metadata": {},
   "outputs": [],
   "source": [
    "from sklearn.preprocessing import StandardScaler\n",
    "from sklearn.decomposition import PCA\n",
    "\n",
    "fps = fingerprinter.fingerprint_docs(docs)\n",
    "\n",
    "scaler = StandardScaler()\n",
    "scaled_fps = scaler.fit_transform(fps)\n",
    "\n",
    "reducer = PCA()\n",
    "reduced_fps = reducer.fit_transform(scaled_fps)\n",
    "\n",
    "# Just an alias to improve readability later on\n",
    "features = reduced_fps"
   ]
  },
  {
   "cell_type": "markdown",
   "metadata": {},
   "source": [
    "Now wrap the fingerprinting/preprocessing pipeline into a small function."
   ]
  },
  {
   "cell_type": "code",
   "execution_count": 5,
   "metadata": {},
   "outputs": [],
   "source": [
    "def fingerprint_docs(docs):\n",
    "    fps = fingerprinter.fingerprint_docs(docs)\n",
    "    scaled_fps = scaler.transform(fps)\n",
    "    reduced_fps = reducer.transform(scaled_fps)\n",
    "    return reduced_fps"
   ]
  },
  {
   "cell_type": "markdown",
   "metadata": {},
   "source": [
    "Let's make sure that our wrapper is working correctly."
   ]
  },
  {
   "cell_type": "code",
   "execution_count": 6,
   "metadata": {},
   "outputs": [],
   "source": [
    "import numpy.testing as npt\n",
    "\n",
    "features_from_wrapper = fingerprint_docs(docs)\n",
    "npt.assert_allclose(features, features_from_wrapper, rtol=1e-7, atol=1e-5)"
   ]
  },
  {
   "cell_type": "markdown",
   "metadata": {},
   "source": [
    "## Performing the regression"
   ]
  },
  {
   "cell_type": "code",
   "execution_count": 7,
   "metadata": {},
   "outputs": [
    {
     "name": "stderr",
     "output_type": "stream",
     "text": []
    },
    {
     "name": "stdout",
     "output_type": "stream",
     "text": [
      "Generation 1 - Current best internal CV score: -0.0777894113175935\n",
      "\n",
      "Best pipeline: KNeighborsRegressor(LinearSVR(input_matrix, C=0.0001, dual=False, epsilon=0.01, loss=squared_epsilon_insensitive, tol=0.0001), n_neighbors=7, p=1, weights=distance)\n"
     ]
    }
   ],
   "source": [
    "from tpot import TPOTRegressor\n",
    "\n",
    "tpot = TPOTRegressor(\n",
    "                     generations=1,\n",
    "                     population_size=16,\n",
    "                     offspring_size=16,\n",
    "                     verbosity=2,\n",
    "                     #random_state=42,\n",
    "                     scoring='neg_median_absolute_error',\n",
    "                     n_jobs=16,\n",
    "                    )\n",
    "energies_ml = tpot.fit_predict(features, energies_dft)"
   ]
  },
  {
   "cell_type": "markdown",
   "metadata": {},
   "source": [
    "# Visualizing the regression\n",
    "Note that we visualize the fit on only our training set, so the fit will look much better than it actually is. People normally combat this by doing train/test splits, but our workflow is online and iterative, thereby invalidating the normal train/test splitting workflow.\n",
    "\n",
    "A proper method to verify quality of our fit is to do an [evaluation on a rolling forecasting origin](https://robjhyndman.com/hyndsight/tscv/), but that takes a lot of computational resources to perform retroactively. So we dedicate that for an entirely different notebook\n",
    "\n",
    "What these plots tell us, at least, is that we did not perform the fitting horribly incorrectly. These are mainly gut-checks to verify that we don't have an obvious bug in our pipeline."
   ]
  },
  {
   "cell_type": "markdown",
   "metadata": {},
   "source": [
    "Put the data into a Pandas dataframe so that we can work with it a bit easier"
   ]
  },
  {
   "cell_type": "code",
   "execution_count": 8,
   "metadata": {},
   "outputs": [],
   "source": [
    "import pandas as pd\n",
    "\n",
    "df = pd.DataFrame({'documents': docs,\n",
    "                   'DFT energies [eV]': energies_dft,\n",
    "                   'ML energies [eV]': energies_ml,\n",
    "                   'Residuals [eV]': energies_ml - energies_dft})"
   ]
  },
  {
   "cell_type": "markdown",
   "metadata": {},
   "source": [
    "## Parity plot"
   ]
  },
  {
   "cell_type": "code",
   "execution_count": 9,
   "metadata": {},
   "outputs": [
    {
     "data": {
      "image/png": "[encoded data removed]",
      "text/plain": [
       "<Figure size 432x432 with 3 Axes>"
      ]
     },
     "metadata": {},
     "output_type": "display_data"
    }
   ],
   "source": [
    "import seaborn as sns\n",
    "sns.set_style('ticks')\n",
    "%matplotlib inline\n",
    "\n",
    "# Make the joint plot\n",
    "plot_lims = (-3, 4)\n",
    "grid = sns.jointplot('ML energies [eV]', 'DFT energies [eV]', data=df,\n",
    "                     kind='hex', bins='log')\n",
    "_ = grid.ax_joint.set_xlim(plot_lims)\n",
    "_ = grid.ax_joint.set_ylim(plot_lims)\n",
    "\n",
    "# Draw a parity line\n",
    "_ = grid.ax_joint.plot(plot_lims, plot_lims, '--')"
   ]
  },
  {
   "cell_type": "markdown",
   "metadata": {},
   "source": [
    "## Distribution of residuals"
   ]
  },
  {
   "cell_type": "code",
   "execution_count": 10,
   "metadata": {},
   "outputs": [
    {
     "data": {
      "image/png": "[encoded data removed]",
      "text/plain": [
       "<Figure size 432x288 with 1 Axes>"
      ]
     },
     "metadata": {},
     "output_type": "display_data"
    }
   ],
   "source": [
    "ax = sns.distplot(df['Residuals [eV]'], bins=200, kde=False, norm_hist=True)\n",
    "_ = ax.set_xlim((-0.4, 0.4))"
   ]
  },
  {
   "cell_type": "markdown",
   "metadata": {},
   "source": [
    "# Saving the predictions"
   ]
  },
  {
   "cell_type": "markdown",
   "metadata": {},
   "source": [
    "Get the catalog sites that we'll be making ML predictions for."
   ]
  },
  {
   "cell_type": "code",
   "execution_count": 11,
   "metadata": {},
   "outputs": [
    {
     "name": "stdout",
     "output_type": "stream",
     "text": [
      "Now pulling catalog documents...\n"
     ]
    },
    {
     "name": "stderr",
     "output_type": "stream",
     "text": [
      "2591434it [00:58, 44266.28it/s]\n"
     ]
    }
   ],
   "source": [
    "catalog_docs = gasdb.get_catalog_docs(rebuild_cache=True)"
   ]
  },
  {
   "cell_type": "markdown",
   "metadata": {},
   "source": [
    "Make the ML predictions on the catalog"
   ]
  },
  {
   "cell_type": "code",
   "execution_count": 12,
   "metadata": {},
   "outputs": [],
   "source": [
    "fingerprints = fingerprint_docs(catalog_docs)\n",
    "ml_predictions = tpot.predict(fingerprints)"
   ]
  },
  {
   "cell_type": "markdown",
   "metadata": {},
   "source": [
    "Save the ML predictions"
   ]
  },
  {
   "cell_type": "code",
   "execution_count": 13,
   "metadata": {},
   "outputs": [],
   "source": [
    "import datetime\n",
    "from pymongo import UpdateOne\n",
    "\n",
    "# The current date will be a Mongo key.\n",
    "# Because it's a key, it'll need to be a string. Make that string here.\n",
    "now = datetime.datetime.now()\n",
    "year = str(now.year)\n",
    "month = str(now.month)\n",
    "day = str(now.day)\n",
    "current_date = '_'.join([year, month, day])\n",
    "\n",
    "# We'll be using pymongo's `bulk_write`, which takes\n",
    "# a list of commands. We'll be making a list of `UpdateOne` commands.\n",
    "mongo_commands = []\n",
    "for doc, ml_energy in zip(catalog_docs, ml_predictions):\n",
    "    mongo_id = doc['mongo_id']\n",
    "    energy_location = 'predictions.adsorption_energy.%s.%s.%s.energy' \\\n",
    "                      % (adsorbate, model_name, current_date)\n",
    "    command = UpdateOne({'_id': mongo_id},\n",
    "                        {'$set': {energy_location: ml_energy,\n",
    "                                  'mtime': datetime.datetime.utcnow()}})\n",
    "    mongo_commands.append(command)\n",
    "\n",
    "# Write the results\n",
    "with gasdb.get_mongo_collection('relaxed_bulk_catalog') as collection:\n",
    "    mongo_result = collection.bulk_write(mongo_commands, ordered=False)"
   ]
  },
  {
   "cell_type": "code",
   "execution_count": null,
   "metadata": {},
   "outputs": [],
   "source": []
  }
 ],
 "metadata": {
  "anaconda-cloud": {},
  "kernelspec": {
   "display_name": "gaspy_regressions",
   "language": "python",
   "name": "gaspy_regressions"
  },
  "language_info": {
   "codemirror_mode": {
    "name": "ipython",
    "version": 3
   },
   "file_extension": ".py",
   "mimetype": "text/x-python",
   "name": "python",
   "nbconvert_exporter": "python",
   "pygments_lexer": "ipython3",
   "version": "3.6.3"
  },
  "name": "regress.ipynb"
 },
 "nbformat": 4,
 "nbformat_minor": 2
}
