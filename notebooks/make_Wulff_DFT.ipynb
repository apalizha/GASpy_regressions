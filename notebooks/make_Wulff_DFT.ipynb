{
 "cells": [
  {
   "cell_type": "markdown",
   "metadata": {},
   "source": [
    "This document makes wulff structure given mpid and surface energy dataset. \n",
    "\n",
    "The only thing you need to input is mpid_of_interest to run the script"
   ]
  },
  {
   "cell_type": "code",
   "execution_count": 17,
   "metadata": {},
   "outputs": [],
   "source": [
    "mpid = 'mp-998985'\n",
    "max_index = 2"
   ]
  },
  {
   "cell_type": "markdown",
   "metadata": {},
   "source": [
    "#### Import packages"
   ]
  },
  {
   "cell_type": "code",
   "execution_count": 2,
   "metadata": {},
   "outputs": [],
   "source": [
    "import csv\n",
    "import pickle\n",
    "import numpy as np\n",
    "import pandas as pd\n",
    "import matplotlib.pyplot as plt\n",
    "import pymatgen_Wulff_hacked as Wulff\n",
    "\n",
    "from gaspy import defaults, gasdb\n",
    "from gaspy.tasks.atoms_generators import _EnumerateDistinctFacets   # local import to avoid import errors\n",
    "from gaspy.tasks import core\n",
    "from pymatgen.ext.matproj import MPRester\n",
    "from sklearn.metrics import mean_absolute_error, mean_squared_error\n",
    "from copy import deepcopy\n",
    "from collections import defaultdict\n",
    "\n",
    "api_key = 'MGOdX3P4nI18eKvE' "
   ]
  },
  {
   "cell_type": "markdown",
   "metadata": {},
   "source": [
    "####  get_surface_energy_docs"
   ]
  },
  {
   "cell_type": "code",
   "execution_count": 8,
   "metadata": {},
   "outputs": [
    {
     "name": "stderr",
     "output_type": "stream",
     "text": [
      "0it [00:00, ?it/s]"
     ]
    },
    {
     "name": "stdout",
     "output_type": "stream",
     "text": [
      "Now pulling surface documents...\n"
     ]
    },
    {
     "name": "stderr",
     "output_type": "stream",
     "text": [
      "3571it [00:04, 861.35it/s]"
     ]
    },
    {
     "name": "stdout",
     "output_type": "stream",
     "text": [
      "# of surface energy calculation: 3548\n"
     ]
    },
    {
     "name": "stderr",
     "output_type": "stream",
     "text": [
      "\n"
     ]
    }
   ],
   "source": [
    "docs = gasdb.get_surface_docs()\n",
    "\n",
    "# further sorting on surface energy (intercept) and interpolation uncertainty (intercept_uncertaity), as well as force on atoms\n",
    "docs = [doc for doc in docs if doc['intercept'] <= 0.3 \n",
    "#         and doc['intercept'] >= 0.02\n",
    "        and doc['intercept_uncertainty'] <= 0.01]\n",
    "print('# of surface energy calculation:', len(docs))"
   ]
  },
  {
   "cell_type": "markdown",
   "metadata": {},
   "source": [
    "### Construct Wulff Structure"
   ]
  },
  {
   "cell_type": "markdown",
   "metadata": {},
   "source": [
    "#####  Preprocess surfaces for each mpid\n",
    "1. Select facets of the same mpid into a group. \n",
    "2. check if that mpid is missing any facets\n",
    "2. Further divide each group of surfaces into smaller sets by miller indexes. \n",
    "3. For each set of surface (same mpid, same miller index), we record the surface with lowest surface energy for constructing wulff structure.  "
   ]
  },
  {
   "cell_type": "code",
   "execution_count": 14,
   "metadata": {},
   "outputs": [],
   "source": [
    "class ModifyDocs:\n",
    "    \"\"\"\n",
    "    This convert a surface dictionay in list to a class object. \n",
    "    \"\"\"\n",
    "    def __init__(self, doc):\n",
    "        \"\"\"\n",
    "        Input:\n",
    "            doc: an element in docs_results, represent a surface \n",
    "        \"\"\"\n",
    "        self.mongo_id = str(doc['mongo_id'])\n",
    "        self.mpid = doc['mpid']\n",
    "        self.miller = doc['miller']\n",
    "        self.surface_energy = doc['intercept']\n",
    "        self.uncertainty = doc['intercept_uncertainty']\n",
    "        self.symbol_counts = doc['thinnest_structure']['atoms']['symbol_counts']\n",
    "        self.spacegroup = doc['thinnest_structure']['atoms']['spacegroup']\n",
    "        \n",
    "class ModifyMpids:\n",
    "    \"\"\"\n",
    "    This select surfaces with the same mpid into a group and \n",
    "    then further divided surfaces of the same miller indexes\n",
    "    into smaller groups. Finally, the surface of each miller index with the \n",
    "    lowest surface energy is recorded. \n",
    "    \"\"\" \n",
    "    def __init__(self, mpid, docs):\n",
    "        \"\"\"\n",
    "        Input:\n",
    "            mpid: mpid entry\n",
    "            docs: list of surface dictionaries\n",
    "        \"\"\"\n",
    "        objs = [ModifyDocs(doc) for doc in docs]\n",
    "        self.mpid = mpid\n",
    "        self.match_objs = [obj for obj in objs if obj.mpid == mpid]\n",
    "        \n",
    "        # find subset with lowest miller energy\n",
    "        match = sorted(self.match_objs, key = lambda x: getattr(x, 'miller'))\n",
    "        match_subset = []\n",
    "        m0 = match[0]\n",
    "        for m in match:\n",
    "            if m.miller == m0.miller:\n",
    "                if m.surface_energy < m0.surface_energy:\n",
    "                    m0 = deepcopy(m)\n",
    "            else:\n",
    "                match_subset.append(m0)\n",
    "                m0 = deepcopy(m)\n",
    "        match_subset.append(m0)\n",
    "        self.match_subset = match_subset\n",
    "        self.mpid_lowest = sorted(self.match_objs, key = lambda x: getattr(x, 'surface_energy'))[0]\n",
    "        \n",
    "    def take_ratio(self):\n",
    "        \"\"\"\n",
    "        For each mpid, this take the ratio of all surface energy \n",
    "        to the lowest surface energy. \n",
    "        \"\"\"\n",
    "        ratio_target =  [[m.surface_energy/ self.mpid_lowest.surface_energy, m.train_tag] for m in self.match_subset]\n",
    "        return ratio_target, ratio_predict\n",
    "        \n",
    "    def draw_wulff_shape(self):\n",
    "        \"\"\"\n",
    "        Construct wulff shape.\n",
    "        \"\"\"\n",
    "        millers =[m.miller for m in self.match_subset]\n",
    "        surface_energy = [round(m.surface_energy,3) for m in self.match_subset]\n",
    "        \n",
    "        if len(millers) > 1:\n",
    "            with MPRester(api_key) as m:\n",
    "                structure = m.get_structure_by_material_id(self.mpid)\n",
    "                ws_t =Wulff.WulffShape(structure.lattice, millers, surface_energy, symprec=1e-5)\n",
    "        return  ws_t"
   ]
  },
  {
   "cell_type": "markdown",
   "metadata": {},
   "source": [
    "##### Actual Wulff constructions"
   ]
  },
  {
   "cell_type": "code",
   "execution_count": 19,
   "metadata": {},
   "outputs": [
    {
     "name": "stderr",
     "output_type": "stream",
     "text": [
      "/opt/conda/lib/python3.6/site-packages/matplotlib/cbook/deprecation.py:107: MatplotlibDeprecationWarning: Passing one of 'on', 'true', 'off', 'false' as a boolean is deprecated; use an actual boolean (True/False) instead.\n",
      "  warnings.warn(message, mplDeprecation, stacklevel=1)\n"
     ]
    },
    {
     "data": {
      "image/png": "[encoded data removed]",
      "text/plain": [
       "<Figure size 576x576 with 1 Axes>"
      ]
     },
     "metadata": {},
     "output_type": "display_data"
    }
   ],
   "source": [
    "x = ModifyMpids(mpid, docs)\n",
    "ws_t  = x.draw_wulff_shape()\n",
    "ws_t.show() "
   ]
  },
  {
   "cell_type": "code",
   "execution_count": 18,
   "metadata": {},
   "outputs": [
    {
     "data": {
      "text/html": [
       "<div>\n",
       "<style scoped>\n",
       "    .dataframe tbody tr th:only-of-type {\n",
       "        vertical-align: middle;\n",
       "    }\n",
       "\n",
       "    .dataframe tbody tr th {\n",
       "        vertical-align: top;\n",
       "    }\n",
       "\n",
       "    .dataframe thead th {\n",
       "        text-align: right;\n",
       "    }\n",
       "</style>\n",
       "<table border=\"1\" class=\"dataframe\">\n",
       "  <thead>\n",
       "    <tr style=\"text-align: right;\">\n",
       "      <th></th>\n",
       "      <th>Surface Energy</th>\n",
       "      <th>Area Fraction</th>\n",
       "    </tr>\n",
       "  </thead>\n",
       "  <tbody>\n",
       "    <tr>\n",
       "      <th>(0, 0, 1)</th>\n",
       "      <td>0.130</td>\n",
       "      <td>0.109</td>\n",
       "    </tr>\n",
       "    <tr>\n",
       "      <th>(0, 1, 0)</th>\n",
       "      <td>0.114</td>\n",
       "      <td>0.000</td>\n",
       "    </tr>\n",
       "    <tr>\n",
       "      <th>(0, 1, 1)</th>\n",
       "      <td>0.141</td>\n",
       "      <td>0.000</td>\n",
       "    </tr>\n",
       "    <tr>\n",
       "      <th>(0, 1, 2)</th>\n",
       "      <td>0.129</td>\n",
       "      <td>0.115</td>\n",
       "    </tr>\n",
       "    <tr>\n",
       "      <th>(0, 2, 1)</th>\n",
       "      <td>0.142</td>\n",
       "      <td>0.000</td>\n",
       "    </tr>\n",
       "    <tr>\n",
       "      <th>(1, 0, 0)</th>\n",
       "      <td>0.118</td>\n",
       "      <td>0.000</td>\n",
       "    </tr>\n",
       "    <tr>\n",
       "      <th>(1, 0, 1)</th>\n",
       "      <td>0.141</td>\n",
       "      <td>0.000</td>\n",
       "    </tr>\n",
       "    <tr>\n",
       "      <th>(1, 0, 2)</th>\n",
       "      <td>0.139</td>\n",
       "      <td>0.052</td>\n",
       "    </tr>\n",
       "    <tr>\n",
       "      <th>(1, 1, 0)</th>\n",
       "      <td>0.073</td>\n",
       "      <td>0.723</td>\n",
       "    </tr>\n",
       "    <tr>\n",
       "      <th>(1, 1, 2)</th>\n",
       "      <td>0.160</td>\n",
       "      <td>0.000</td>\n",
       "    </tr>\n",
       "    <tr>\n",
       "      <th>(1, 2, 0)</th>\n",
       "      <td>0.099</td>\n",
       "      <td>0.000</td>\n",
       "    </tr>\n",
       "    <tr>\n",
       "      <th>(1, 2, 1)</th>\n",
       "      <td>0.125</td>\n",
       "      <td>0.000</td>\n",
       "    </tr>\n",
       "    <tr>\n",
       "      <th>(1, 2, 2)</th>\n",
       "      <td>0.133</td>\n",
       "      <td>0.000</td>\n",
       "    </tr>\n",
       "    <tr>\n",
       "      <th>(2, 0, 1)</th>\n",
       "      <td>0.146</td>\n",
       "      <td>0.000</td>\n",
       "    </tr>\n",
       "    <tr>\n",
       "      <th>(2, 1, 0)</th>\n",
       "      <td>0.097</td>\n",
       "      <td>0.000</td>\n",
       "    </tr>\n",
       "    <tr>\n",
       "      <th>(2, 1, 1)</th>\n",
       "      <td>0.122</td>\n",
       "      <td>0.000</td>\n",
       "    </tr>\n",
       "    <tr>\n",
       "      <th>(2, 1, 2)</th>\n",
       "      <td>0.132</td>\n",
       "      <td>0.000</td>\n",
       "    </tr>\n",
       "    <tr>\n",
       "      <th>(2, 2, 1)</th>\n",
       "      <td>0.100</td>\n",
       "      <td>0.001</td>\n",
       "    </tr>\n",
       "  </tbody>\n",
       "</table>\n",
       "</div>"
      ],
      "text/plain": [
       "           Surface Energy  Area Fraction\n",
       "(0, 0, 1)           0.130          0.109\n",
       "(0, 1, 0)           0.114          0.000\n",
       "(0, 1, 1)           0.141          0.000\n",
       "(0, 1, 2)           0.129          0.115\n",
       "(0, 2, 1)           0.142          0.000\n",
       "(1, 0, 0)           0.118          0.000\n",
       "(1, 0, 1)           0.141          0.000\n",
       "(1, 0, 2)           0.139          0.052\n",
       "(1, 1, 0)           0.073          0.723\n",
       "(1, 1, 2)           0.160          0.000\n",
       "(1, 2, 0)           0.099          0.000\n",
       "(1, 2, 1)           0.125          0.000\n",
       "(1, 2, 2)           0.133          0.000\n",
       "(2, 0, 1)           0.146          0.000\n",
       "(2, 1, 0)           0.097          0.000\n",
       "(2, 1, 1)           0.122          0.000\n",
       "(2, 1, 2)           0.132          0.000\n",
       "(2, 2, 1)           0.100          0.001"
      ]
     },
     "execution_count": 18,
     "metadata": {},
     "output_type": "execute_result"
    }
   ],
   "source": [
    "# obtain the details of each facets, i.e. their surface energy and area fraction \n",
    "example = x.match_subset[0]       \n",
    "dicts = [ws_t.miller_energy_dict, ws_t.area_fraction_dict]\n",
    "df_list = [pd.DataFrame.from_dict(d, orient='index') for d in dicts]\n",
    "df = pd.concat(df_list, axis=1)\n",
    "df.columns = ['Surface Energy',\n",
    "              'Area Fraction']\n",
    "df = df.round(3) # keep 3 sigfigs for dataframe\n",
    "df"
   ]
  },
  {
   "cell_type": "code",
   "execution_count": null,
   "metadata": {},
   "outputs": [],
   "source": []
  }
 ],
 "metadata": {
  "kernelspec": {
   "display_name": "gaspy_regressions",
   "language": "python",
   "name": "gaspy_regression"
  },
  "language_info": {
   "codemirror_mode": {
    "name": "ipython",
    "version": 3
   },
   "file_extension": ".py",
   "mimetype": "text/x-python",
   "name": "python",
   "nbconvert_exporter": "python",
   "pygments_lexer": "ipython3",
   "version": "3.6.3"
  }
 },
 "nbformat": 4,
 "nbformat_minor": 2
}
