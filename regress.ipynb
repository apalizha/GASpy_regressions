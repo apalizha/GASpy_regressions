{
 "cells": [
  {
   "cell_type": "markdown",
   "metadata": {
    "collapsed": true
   },
   "source": [
    "# regress.ipynb\n",
    "Author:  Kevin Tran <ktran@andrew.cmu.edu>\n",
    "\n",
    "This python notebook performs regressions on data pulled from a processed mongo DB created by GASpy. It then saves these regressions into pickles (for later use) and creates parity plots of the regression fits."
   ]
  },
  {
   "cell_type": "markdown",
   "metadata": {},
   "source": [
    "# Initialize"
   ]
  },
  {
   "cell_type": "markdown",
   "metadata": {},
   "source": [
    "## Importing"
   ]
  },
  {
   "cell_type": "code",
   "execution_count": null,
   "metadata": {
    "autoscroll": false,
    "ein.tags": "worksheet-0",
    "slideshow": {
     "slide_type": "-"
    }
   },
   "outputs": [],
   "source": [
    "# Debugging & other Python tools\n",
    "import pdb\n",
    "import sys\n",
    "from pprint import pprint as pp\n",
    "import itertools\n",
    "# Saving/loading\n",
    "import dill as pickle\n",
    "pickle.settings['recurse'] = True     # required to pickle lambdify functions (for alamopy)\n",
    "# Regression\n",
    "from sklearn.gaussian_process import GaussianProcessRegressor\n",
    "from tpot import TPOTRegressor\n",
    "#from sklearn.gaussian_process.kernels import RBF, WhiteKernel, RationalQuadratic, ExpSineSquared\n",
    "# Plotting\n",
    "import matplotlib.pyplot as plt\n",
    "from plotly.offline import init_notebook_mode, plot, iplot\n",
    "init_notebook_mode(connected=True)\n",
    "import plotly.plotly as py\n",
    "import plotly.graph_objs as go\n",
    "# GASpy\n",
    "from regression_processor import RegressionProcessor\n",
    "from pull_features import PullFeatures\n",
    "sys.path.append('..')\n",
    "from gaspy.utils import vasp_settings_to_str"
   ]
  },
  {
   "cell_type": "markdown",
   "metadata": {},
   "source": [
    "## Scope"
   ]
  },
  {
   "cell_type": "code",
   "execution_count": null,
   "metadata": {
    "autoscroll": false,
    "collapsed": true,
    "ein.tags": "worksheet-0",
    "slideshow": {
     "slide_type": "-"
    }
   },
   "outputs": [],
   "source": [
    "# Define the feature sets that you want to investigate. They should be\n",
    "# string names of the PullFeatures methods that you want to use.\n",
    "FEATURE_SETS = [\n",
    "                #'energy_fr_coordcount',\n",
    "                'energy_fr_coordcount_ads',\n",
    "                #'energy_fr_coordcount_nncoord_ads',\n",
    "                #'energy_fr_nncoord',\n",
    "                #'energy_fr_gcn_ads',\n",
    "               ]\n",
    "\n",
    "# Only pull data that used the following vasp settings\n",
    "VASP_SETTINGS = vasp_settings_to_str({'gga': 'RP',\n",
    "                                      'pp_version': '5.4',\n",
    "                                      'encut': 350})\n",
    "#VASP_SETTINGS = None\n",
    "\n",
    "# This is a dictionary that will hold all of the data we need for plotting\n",
    "DATA = {}"
   ]
  },
  {
   "cell_type": "markdown",
   "metadata": {
    "collapsed": true
   },
   "source": [
    "# Regress"
   ]
  },
  {
   "cell_type": "markdown",
   "metadata": {
    "collapsed": true
   },
   "source": [
    "## SKLearn Gaussian Process"
   ]
  },
  {
   "cell_type": "markdown",
   "metadata": {},
   "source": [
    "### Execute"
   ]
  },
  {
   "cell_type": "code",
   "execution_count": 3,
   "metadata": {
    "collapsed": true
   },
   "outputs": [],
   "source": [
    "# Specify the kernel to use. If it's `None`, then it uses SKLearn's default RBF\n",
    "#K = 1.0*RBF(length_scale=1.0) + 1.0*WhiteKernel(noise_level=0.05**2.0) \n",
    "K = None\n",
    "n_restarts = 0\n",
    "# Create the model that you want to use to perform the regression\n",
    "regressor = GaussianProcessRegressor(kernel=K, n_restarts_optimizer=n_restarts)\n",
    "# Specify the model blocking. Use [] if you don't want blocking (this will help with saving)\n",
    "#blocks = ['adsorbate']\n",
    "blocks = []\n",
    "\n",
    "# Initialize the results\n",
    "models = dict.fromkeys(FEATURE_SETS)\n",
    "rmses = dict.fromkeys(FEATURE_SETS)\n",
    "errors = dict.fromkeys(FEATURE_SETS)\n",
    "x = dict.fromkeys(FEATURE_SETS)\n",
    "y = dict.fromkeys(FEATURE_SETS)\n",
    "p_docs = dict.fromkeys(FEATURE_SETS)\n",
    "block_list = dict.fromkeys(FEATURE_SETS)\n",
    "\n",
    "for feature_set in FEATURE_SETS:\n",
    "    # Pull the data out and store some of the processing information for plotting purposes\n",
    "    rp = RegressionProcessor(feature_set, blocks=blocks, vasp_settings=VASP_SETTINGS)\n",
    "    x[feature_set] = rp.x\n",
    "    y[feature_set] = rp.y\n",
    "    p_docs[feature_set] = rp.p_docs\n",
    "    block_list[feature_set] = rp.block_list\n",
    "    # Perform the regression\n",
    "    models[feature_set], rmses[feature_set], errors[feature_set] = \\\n",
    "            rp.sk_regressor(regressor)\n",
    "\n",
    "# Package the data that'll be used for plotting\n",
    "DATA['GP'] = {'models': models,\n",
    "              'rmses': rmses,\n",
    "              'errors': errors,\n",
    "              'x': x,\n",
    "              'y': y,\n",
    "              'p_docs': p_docs,\n",
    "              'blocks': blocks,\n",
    "              'block_list': block_list}"
   ]
  },
  {
   "cell_type": "markdown",
   "metadata": {},
   "source": [
    "### Save"
   ]
  },
  {
   "cell_type": "code",
   "execution_count": 4,
   "metadata": {
    "collapsed": true
   },
   "outputs": [],
   "source": [
    "# Save the regressions\n",
    "for feature_set in FEATURE_SETS:\n",
    "    # Save the models alone for GASpy_predict to use\n",
    "    with open('pkls/models/GP_model_' + feature_set + '_' \\\n",
    "              + '-'.join(DATA['GP']['blocks']) + '.pkl', 'wb') as f:\n",
    "        pickle.dump(DATA['GP']['models'][feature_set], f)\n",
    "        \n",
    "    # Save the entire package to use later in this notebook\n",
    "    data = {}\n",
    "    for datum in ['models', 'rmses', 'errors', 'x', 'y', 'p_docs', 'block_list']:\n",
    "        data[datum] = DATA['TPOT'][datum][feature_set]\n",
    "    with open('pkls/data/GP_data_' + feature_set + '_' + \\\n",
    "              '-'.join(DATA['GP']['blocks']) + '.pkl', 'wb') as f:\n",
    "        pickle.dump(data, f)"
   ]
  },
  {
   "cell_type": "markdown",
   "metadata": {},
   "source": [
    "### Load"
   ]
  },
  {
   "cell_type": "code",
   "execution_count": 3,
   "metadata": {
    "collapsed": true
   },
   "outputs": [],
   "source": [
    "# What blocking-types do we want to open?\n",
    "#blocks = ['adsorbate']\n",
    "blocks = []\n",
    "\n",
    "# Initialize the data ball\n",
    "DATA['GP'] = {}\n",
    "for datum in ['models', 'rmses', 'errors', 'x', 'y', 'p_docs', 'block_list']:\n",
    "    DATA['TPOT'][datum] = dict.fromkeys(FEATURE_SETS)\n",
    "    \n",
    "# Open all the databalls and put them into DATA\n",
    "for feature_set in FEATURE_SETS:\n",
    "    with open('pkls/data/GP_data_' + feature_set + '_' + '-'.join(blocks) + '.pkl', 'rb') as f:\n",
    "        data = pickle.load(f)\n",
    "    for key, value in data.iteritems():\n",
    "        DATA['GP'][key][feature_set] = value"
   ]
  },
  {
   "cell_type": "markdown",
   "metadata": {
    "collapsed": true
   },
   "source": [
    "## TPOT"
   ]
  },
  {
   "cell_type": "markdown",
   "metadata": {},
   "source": [
    "### Execute"
   ]
  },
  {
   "cell_type": "code",
   "execution_count": 5,
   "metadata": {
    "collapsed": true
   },
   "outputs": [
    {
     "name": "stderr",
     "output_type": "stream",
     "text": [
      "/global/homes/k/ktran/.conda/envs/GASpy_conda/lib/python2.7/site-packages/sklearn/cross_validation.py:44: DeprecationWarning:\n",
      "\n",
      "This module was deprecated in version 0.18 in favor of the model_selection module into which all the refactored classes and functions are moved. Also note that the interface of the new CV iterators are different from that of this module. This module will be removed in 0.20.\n",
      "\n",
      "Optimization Progress:  18%|█▊        | 20/110 [00:26<03:23,  2.26s/pipeline]"
     ]
    },
    {
     "name": "stdout",
     "output_type": "stream",
     "text": [
      "Generation 1 - Current best internal CV score: 0.846430263023\n"
     ]
    },
    {
     "name": "stderr",
     "output_type": "stream",
     "text": [
      "Optimization Progress:  27%|██▋       | 30/110 [00:37<01:47,  1.35s/pipeline]"
     ]
    },
    {
     "name": "stdout",
     "output_type": "stream",
     "text": [
      "Generation 2 - Current best internal CV score: 0.846430263023\n"
     ]
    },
    {
     "name": "stderr",
     "output_type": "stream",
     "text": [
      "Optimization Progress:  35%|███▌      | 39/110 [00:45<02:05,  1.77s/pipeline]"
     ]
    },
    {
     "name": "stdout",
     "output_type": "stream",
     "text": [
      "Generation 3 - Current best internal CV score: 0.846430263023\n"
     ]
    },
    {
     "name": "stderr",
     "output_type": "stream",
     "text": [
      "Optimization Progress:  45%|████▍     | 49/110 [00:49<00:52,  1.17pipeline/s]"
     ]
    },
    {
     "name": "stdout",
     "output_type": "stream",
     "text": [
      "Generation 4 - Current best internal CV score: 0.846430263023\n"
     ]
    },
    {
     "name": "stderr",
     "output_type": "stream",
     "text": [
      "Optimization Progress:  53%|█████▎    | 58/110 [00:53<00:27,  1.91pipeline/s]"
     ]
    },
    {
     "name": "stdout",
     "output_type": "stream",
     "text": [
      "Generation 5 - Current best internal CV score: 0.843276763709\n"
     ]
    },
    {
     "name": "stderr",
     "output_type": "stream",
     "text": [
      "Optimization Progress:  59%|█████▉    | 65/110 [00:59<00:34,  1.30pipeline/s]"
     ]
    },
    {
     "name": "stdout",
     "output_type": "stream",
     "text": [
      "Generation 6 - Current best internal CV score: 0.843276763709\n"
     ]
    },
    {
     "name": "stderr",
     "output_type": "stream",
     "text": [
      "Optimization Progress:  65%|██████▌   | 72/110 [01:02<00:25,  1.46pipeline/s]"
     ]
    },
    {
     "name": "stdout",
     "output_type": "stream",
     "text": [
      "Generation 7 - Current best internal CV score: 0.843276763709\n"
     ]
    },
    {
     "name": "stderr",
     "output_type": "stream",
     "text": [
      "Optimization Progress:  73%|███████▎  | 80/110 [01:09<00:23,  1.30pipeline/s]"
     ]
    },
    {
     "name": "stdout",
     "output_type": "stream",
     "text": [
      "Generation 8 - Current best internal CV score: 0.843276763709\n"
     ]
    },
    {
     "name": "stderr",
     "output_type": "stream",
     "text": [
      "Optimization Progress:  81%|████████  | 89/110 [01:16<00:17,  1.20pipeline/s]"
     ]
    },
    {
     "name": "stdout",
     "output_type": "stream",
     "text": [
      "Generation 9 - Current best internal CV score: 0.843276763709\n"
     ]
    },
    {
     "name": "stderr",
     "output_type": "stream",
     "text": [
      "                                                                             \r"
     ]
    },
    {
     "name": "stdout",
     "output_type": "stream",
     "text": [
      "Generation 10 - Current best internal CV score: 0.843276763709\n",
      "\n",
      "Best pipeline: XGBRegressor(LassoLarsCV(LassoLarsCV(input_matrix, LassoLarsCV__normalize=True), LassoLarsCV__normalize=True), XGBRegressor__learning_rate=DEFAULT, XGBRegressor__max_depth=7, XGBRegressor__min_child_weight=13, XGBRegressor__n_estimators=DEFAULT, XGBRegressor__nthread=1, XGBRegressor__subsample=0.3)\n"
     ]
    },
    {
     "name": "stderr",
     "output_type": "stream",
     "text": [
      "Optimization Progress:  18%|█▊        | 20/110 [00:44<05:34,  3.72s/pipeline]"
     ]
    },
    {
     "name": "stdout",
     "output_type": "stream",
     "text": [
      "Generation 1 - Current best internal CV score: 0.767777575435\n"
     ]
    },
    {
     "name": "stderr",
     "output_type": "stream",
     "text": [
      "Optimization Progress:  27%|██▋       | 30/110 [01:09<04:27,  3.34s/pipeline]"
     ]
    },
    {
     "name": "stdout",
     "output_type": "stream",
     "text": [
      "Generation 2 - Current best internal CV score: 0.767777575435\n"
     ]
    },
    {
     "name": "stderr",
     "output_type": "stream",
     "text": [
      "Optimization Progress:  35%|███▌      | 39/110 [01:25<03:21,  2.83s/pipeline]"
     ]
    },
    {
     "name": "stdout",
     "output_type": "stream",
     "text": [
      "Generation 3 - Current best internal CV score: 0.767777575435\n"
     ]
    },
    {
     "name": "stderr",
     "output_type": "stream",
     "text": [
      "Optimization Progress:  45%|████▍     | 49/110 [02:07<03:04,  3.02s/pipeline]"
     ]
    },
    {
     "name": "stdout",
     "output_type": "stream",
     "text": [
      "Generation 4 - Current best internal CV score: 0.767777575435\n"
     ]
    },
    {
     "name": "stderr",
     "output_type": "stream",
     "text": [
      "Optimization Progress:  53%|█████▎    | 58/110 [02:14<01:12,  1.39s/pipeline]"
     ]
    },
    {
     "name": "stdout",
     "output_type": "stream",
     "text": [
      "Generation 5 - Current best internal CV score: 0.767777575435\n"
     ]
    },
    {
     "name": "stderr",
     "output_type": "stream",
     "text": [
      "Optimization Progress:  61%|██████    | 67/110 [02:20<00:44,  1.03s/pipeline]"
     ]
    },
    {
     "name": "stdout",
     "output_type": "stream",
     "text": [
      "Generation 6 - Current best internal CV score: 0.767777575435\n"
     ]
    },
    {
     "name": "stderr",
     "output_type": "stream",
     "text": [
      "Optimization Progress:  67%|██████▋   | 74/110 [02:30<00:49,  1.37s/pipeline]"
     ]
    },
    {
     "name": "stdout",
     "output_type": "stream",
     "text": [
      "Generation 7 - Current best internal CV score: 0.767777575435\n"
     ]
    },
    {
     "name": "stderr",
     "output_type": "stream",
     "text": [
      "Optimization Progress:  75%|███████▌  | 83/110 [02:37<00:28,  1.07s/pipeline]"
     ]
    },
    {
     "name": "stdout",
     "output_type": "stream",
     "text": [
      "Generation 8 - Current best internal CV score: 0.767777575435\n"
     ]
    },
    {
     "name": "stderr",
     "output_type": "stream",
     "text": [
      "Optimization Progress:  85%|████████▍ | 93/110 [02:43<00:09,  1.71pipeline/s]"
     ]
    },
    {
     "name": "stdout",
     "output_type": "stream",
     "text": [
      "Generation 9 - Current best internal CV score: 0.767777575435\n"
     ]
    },
    {
     "name": "stderr",
     "output_type": "stream",
     "text": [
      "                                                                             ]\r"
     ]
    },
    {
     "name": "stdout",
     "output_type": "stream",
     "text": [
      "Generation 10 - Current best internal CV score: 0.767777575435\n",
      "\n",
      "Best pipeline: XGBRegressor(LassoLarsCV(input_matrix, LassoLarsCV__normalize=True), XGBRegressor__learning_rate=DEFAULT, XGBRegressor__max_depth=7, XGBRegressor__min_child_weight=14, XGBRegressor__n_estimators=DEFAULT, XGBRegressor__nthread=1, XGBRegressor__subsample=0.3)\n"
     ]
    },
    {
     "name": "stderr",
     "output_type": "stream",
     "text": [
      "Optimization Progress:  18%|█▊        | 20/110 [00:30<03:49,  2.55s/pipeline]"
     ]
    },
    {
     "name": "stdout",
     "output_type": "stream",
     "text": [
      "Generation 1 - Current best internal CV score: 0.805610123361\n"
     ]
    },
    {
     "name": "stderr",
     "output_type": "stream",
     "text": [
      "Optimization Progress:  27%|██▋       | 30/110 [00:47<03:04,  2.30s/pipeline]"
     ]
    },
    {
     "name": "stdout",
     "output_type": "stream",
     "text": [
      "Generation 2 - Current best internal CV score: 0.805610123361\n"
     ]
    },
    {
     "name": "stderr",
     "output_type": "stream",
     "text": [
      "Optimization Progress:  36%|███▋      | 40/110 [01:03<02:36,  2.24s/pipeline]"
     ]
    },
    {
     "name": "stdout",
     "output_type": "stream",
     "text": [
      "Generation 3 - Current best internal CV score: 0.805610123361\n"
     ]
    },
    {
     "name": "stderr",
     "output_type": "stream",
     "text": [
      "Optimization Progress:  45%|████▌     | 50/110 [01:38<03:19,  3.33s/pipeline]"
     ]
    },
    {
     "name": "stdout",
     "output_type": "stream",
     "text": [
      "Generation 4 - Current best internal CV score: 0.796519389482\n"
     ]
    },
    {
     "name": "stderr",
     "output_type": "stream",
     "text": [
      "Optimization Progress:  54%|█████▎    | 59/110 [01:53<01:45,  2.06s/pipeline]"
     ]
    },
    {
     "name": "stdout",
     "output_type": "stream",
     "text": [
      "Generation 5 - Current best internal CV score: 0.796519389482\n"
     ]
    },
    {
     "name": "stderr",
     "output_type": "stream",
     "text": [
      "Optimization Progress:  61%|██████    | 67/110 [02:05<01:30,  2.10s/pipeline]"
     ]
    },
    {
     "name": "stdout",
     "output_type": "stream",
     "text": [
      "Generation 6 - Current best internal CV score: 0.796519389482\n"
     ]
    },
    {
     "name": "stderr",
     "output_type": "stream",
     "text": [
      "Optimization Progress:  70%|███████   | 77/110 [02:18<01:00,  1.84s/pipeline]"
     ]
    },
    {
     "name": "stdout",
     "output_type": "stream",
     "text": [
      "Generation 7 - Current best internal CV score: 0.796519389482\n"
     ]
    },
    {
     "name": "stderr",
     "output_type": "stream",
     "text": [
      "Optimization Progress:  78%|███████▊  | 86/110 [02:47<01:45,  4.40s/pipeline]"
     ]
    },
    {
     "name": "stdout",
     "output_type": "stream",
     "text": [
      "Generation 8 - Current best internal CV score: 0.796519389482\n"
     ]
    },
    {
     "name": "stderr",
     "output_type": "stream",
     "text": [
      "Optimization Progress:  86%|████████▋ | 95/110 [02:57<00:37,  2.48s/pipeline]"
     ]
    },
    {
     "name": "stdout",
     "output_type": "stream",
     "text": [
      "Generation 9 - Current best internal CV score: 0.796519389482\n"
     ]
    },
    {
     "name": "stderr",
     "output_type": "stream",
     "text": [
      "                                                                              \r"
     ]
    },
    {
     "name": "stdout",
     "output_type": "stream",
     "text": [
      "Generation 10 - Current best internal CV score: 0.795910765548\n",
      "\n",
      "Best pipeline: ExtraTreesRegressor(RidgeCV(LassoLarsCV(input_matrix, LassoLarsCV__normalize=True)), ExtraTreesRegressor__bootstrap=False, ExtraTreesRegressor__max_features=0.9, ExtraTreesRegressor__min_samples_leaf=13, ExtraTreesRegressor__min_samples_split=13, ExtraTreesRegressor__n_estimators=100)\n"
     ]
    },
    {
     "name": "stderr",
     "output_type": "stream",
     "text": [
      "Optimization Progress:  18%|█▊        | 20/110 [00:23<02:58,  1.98s/pipeline]"
     ]
    },
    {
     "name": "stdout",
     "output_type": "stream",
     "text": [
      "Generation 1 - Current best internal CV score: 0.930652077886\n"
     ]
    },
    {
     "name": "stderr",
     "output_type": "stream",
     "text": [
      "Optimization Progress:  27%|██▋       | 30/110 [00:52<04:20,  3.26s/pipeline]"
     ]
    },
    {
     "name": "stdout",
     "output_type": "stream",
     "text": [
      "Generation 2 - Current best internal CV score: 0.909602396291\n"
     ]
    },
    {
     "name": "stderr",
     "output_type": "stream",
     "text": [
      "Optimization Progress:  35%|███▌      | 39/110 [01:01<01:56,  1.64s/pipeline]"
     ]
    },
    {
     "name": "stdout",
     "output_type": "stream",
     "text": [
      "Generation 3 - Current best internal CV score: 0.909602396291\n"
     ]
    },
    {
     "name": "stderr",
     "output_type": "stream",
     "text": [
      "Optimization Progress:  44%|████▎     | 48/110 [01:10<01:23,  1.35s/pipeline]"
     ]
    },
    {
     "name": "stdout",
     "output_type": "stream",
     "text": [
      "Generation 4 - Current best internal CV score: 0.909602396291\n"
     ]
    },
    {
     "name": "stderr",
     "output_type": "stream",
     "text": [
      "Optimization Progress:  53%|█████▎    | 58/110 [01:23<00:51,  1.01pipeline/s]"
     ]
    },
    {
     "name": "stdout",
     "output_type": "stream",
     "text": [
      "Generation 5 - Current best internal CV score: 0.895692591907\n"
     ]
    },
    {
     "name": "stderr",
     "output_type": "stream",
     "text": [
      "Optimization Progress:  62%|██████▏   | 68/110 [01:37<01:15,  1.81s/pipeline]"
     ]
    },
    {
     "name": "stdout",
     "output_type": "stream",
     "text": [
      "Generation 6 - Current best internal CV score: 0.894803445902\n"
     ]
    },
    {
     "name": "stderr",
     "output_type": "stream",
     "text": [
      "Optimization Progress:  71%|███████   | 78/110 [02:18<02:00,  3.77s/pipeline]"
     ]
    },
    {
     "name": "stdout",
     "output_type": "stream",
     "text": [
      "Generation 7 - Current best internal CV score: 0.894803445902\n"
     ]
    },
    {
     "name": "stderr",
     "output_type": "stream",
     "text": [
      "Optimization Progress:  80%|████████  | 88/110 [02:33<00:36,  1.64s/pipeline]"
     ]
    },
    {
     "name": "stdout",
     "output_type": "stream",
     "text": [
      "Generation 8 - Current best internal CV score: 0.894803445902\n"
     ]
    },
    {
     "name": "stderr",
     "output_type": "stream",
     "text": [
      "Optimization Progress:  89%|████████▉ | 98/110 [02:50<00:29,  2.46s/pipeline]"
     ]
    },
    {
     "name": "stdout",
     "output_type": "stream",
     "text": [
      "Generation 9 - Current best internal CV score: 0.894803445902\n"
     ]
    },
    {
     "name": "stderr",
     "output_type": "stream",
     "text": [
      "                                                                              \r"
     ]
    },
    {
     "name": "stdout",
     "output_type": "stream",
     "text": [
      "Generation 10 - Current best internal CV score: 0.894803445902\n",
      "\n",
      "Best pipeline: RandomForestRegressor(input_matrix, RandomForestRegressor__bootstrap=DEFAULT, RandomForestRegressor__max_features=0.4, RandomForestRegressor__min_samples_leaf=4, RandomForestRegressor__min_samples_split=DEFAULT, RandomForestRegressor__n_estimators=100)\n"
     ]
    },
    {
     "name": "stderr",
     "output_type": "stream",
     "text": [
      "Optimization Progress:  18%|█▊        | 20/110 [00:23<02:52,  1.92s/pipeline]"
     ]
    },
    {
     "name": "stdout",
     "output_type": "stream",
     "text": [
      "Generation 1 - Current best internal CV score: 0.920146061615\n"
     ]
    },
    {
     "name": "stderr",
     "output_type": "stream",
     "text": [
      "Optimization Progress:  25%|██▍       | 27/110 [00:30<02:02,  1.48s/pipeline]"
     ]
    },
    {
     "name": "stdout",
     "output_type": "stream",
     "text": [
      "Generation 2 - Current best internal CV score: 0.920146061615\n"
     ]
    },
    {
     "name": "stderr",
     "output_type": "stream",
     "text": [
      "Optimization Progress:  33%|███▎      | 36/110 [00:34<01:00,  1.23pipeline/s]"
     ]
    },
    {
     "name": "stdout",
     "output_type": "stream",
     "text": [
      "Generation 3 - Current best internal CV score: 0.907075322391\n"
     ]
    },
    {
     "name": "stderr",
     "output_type": "stream",
     "text": [
      "Optimization Progress:  41%|████      | 45/110 [00:37<00:39,  1.65pipeline/s]"
     ]
    },
    {
     "name": "stdout",
     "output_type": "stream",
     "text": [
      "Generation 4 - Current best internal CV score: 0.907075322391\n"
     ]
    },
    {
     "name": "stderr",
     "output_type": "stream",
     "text": [
      "Optimization Progress:  50%|█████     | 55/110 [00:50<01:05,  1.19s/pipeline]"
     ]
    },
    {
     "name": "stdout",
     "output_type": "stream",
     "text": [
      "Generation 5 - Current best internal CV score: 0.907075322391\n"
     ]
    },
    {
     "name": "stderr",
     "output_type": "stream",
     "text": [
      "Optimization Progress:  59%|█████▉    | 65/110 [01:05<00:46,  1.04s/pipeline]"
     ]
    },
    {
     "name": "stdout",
     "output_type": "stream",
     "text": [
      "Generation 6 - Current best internal CV score: 0.907075322391\n"
     ]
    },
    {
     "name": "stderr",
     "output_type": "stream",
     "text": [
      "Optimization Progress:  67%|██████▋   | 74/110 [01:16<00:52,  1.46s/pipeline]"
     ]
    },
    {
     "name": "stdout",
     "output_type": "stream",
     "text": [
      "Generation 7 - Current best internal CV score: 0.907075322391\n"
     ]
    },
    {
     "name": "stderr",
     "output_type": "stream",
     "text": [
      "Optimization Progress:  73%|███████▎  | 80/110 [01:24<00:52,  1.76s/pipeline]"
     ]
    },
    {
     "name": "stdout",
     "output_type": "stream",
     "text": [
      "Generation 8 - Current best internal CV score: 0.907075322391\n"
     ]
    },
    {
     "name": "stderr",
     "output_type": "stream",
     "text": [
      "Optimization Progress:  82%|████████▏ | 90/110 [01:36<00:22,  1.14s/pipeline]"
     ]
    },
    {
     "name": "stdout",
     "output_type": "stream",
     "text": [
      "Generation 9 - Current best internal CV score: 0.898287918657\n"
     ]
    },
    {
     "name": "stderr",
     "output_type": "stream",
     "text": [
      "                                                                             \r"
     ]
    },
    {
     "name": "stdout",
     "output_type": "stream",
     "text": [
      "Generation 10 - Current best internal CV score: 0.898287918657\n",
      "\n",
      "Best pipeline: RidgeCV(ExtraTreesRegressor(input_matrix, ExtraTreesRegressor__bootstrap=DEFAULT, ExtraTreesRegressor__max_features=0.7, ExtraTreesRegressor__min_samples_leaf=6, ExtraTreesRegressor__min_samples_split=15, ExtraTreesRegressor__n_estimators=100))\n"
     ]
    },
    {
     "name": "stderr",
     "output_type": "stream",
     "text": [
      "Optimization Progress:  18%|█▊        | 20/110 [00:21<02:42,  1.81s/pipeline]"
     ]
    },
    {
     "name": "stdout",
     "output_type": "stream",
     "text": [
      "Generation 1 - Current best internal CV score: 1.04925043944\n"
     ]
    },
    {
     "name": "stderr",
     "output_type": "stream",
     "text": [
      "Optimization Progress:  26%|██▋       | 29/110 [00:26<01:26,  1.07s/pipeline]"
     ]
    },
    {
     "name": "stdout",
     "output_type": "stream",
     "text": [
      "Generation 2 - Current best internal CV score: 1.03648822221\n"
     ]
    },
    {
     "name": "stderr",
     "output_type": "stream",
     "text": [
      "Optimization Progress:  35%|███▌      | 39/110 [00:36<01:01,  1.15pipeline/s]"
     ]
    },
    {
     "name": "stdout",
     "output_type": "stream",
     "text": [
      "Generation 3 - Current best internal CV score: 1.03648822221\n"
     ]
    },
    {
     "name": "stderr",
     "output_type": "stream",
     "text": [
      "Optimization Progress:  45%|████▍     | 49/110 [00:38<00:30,  1.98pipeline/s]"
     ]
    },
    {
     "name": "stdout",
     "output_type": "stream",
     "text": [
      "Generation 4 - Current best internal CV score: 1.03648822221\n"
     ]
    },
    {
     "name": "stderr",
     "output_type": "stream",
     "text": [
      "Optimization Progress:  54%|█████▎    | 59/110 [00:42<00:20,  2.50pipeline/s]"
     ]
    },
    {
     "name": "stdout",
     "output_type": "stream",
     "text": [
      "Generation 5 - Current best internal CV score: 1.03150411852\n"
     ]
    },
    {
     "name": "stderr",
     "output_type": "stream",
     "text": [
      "Optimization Progress:  61%|██████    | 67/110 [00:44<00:12,  3.55pipeline/s]"
     ]
    },
    {
     "name": "stdout",
     "output_type": "stream",
     "text": [
      "Generation 6 - Current best internal CV score: 1.03150411852\n"
     ]
    },
    {
     "name": "stderr",
     "output_type": "stream",
     "text": [
      "Optimization Progress:  70%|███████   | 77/110 [00:48<00:15,  2.10pipeline/s]"
     ]
    },
    {
     "name": "stdout",
     "output_type": "stream",
     "text": [
      "Generation 7 - Current best internal CV score: 1.03150411852\n"
     ]
    },
    {
     "name": "stderr",
     "output_type": "stream",
     "text": [
      "Optimization Progress:  79%|███████▉  | 87/110 [00:51<00:08,  2.59pipeline/s]"
     ]
    },
    {
     "name": "stdout",
     "output_type": "stream",
     "text": [
      "Generation 8 - Current best internal CV score: 1.01209789232\n"
     ]
    },
    {
     "name": "stderr",
     "output_type": "stream",
     "text": [
      "Optimization Progress:  88%|████████▊ | 97/110 [00:56<00:04,  2.82pipeline/s]"
     ]
    },
    {
     "name": "stdout",
     "output_type": "stream",
     "text": [
      "Generation 9 - Current best internal CV score: 1.00485827353\n"
     ]
    },
    {
     "name": "stderr",
     "output_type": "stream",
     "text": [
      "                                                                              \r"
     ]
    },
    {
     "name": "stdout",
     "output_type": "stream",
     "text": [
      "Generation 10 - Current best internal CV score: 1.00485827353\n",
      "\n",
      "Best pipeline: ElasticNetCV(Normalizer(ElasticNetCV(input_matrix, ElasticNetCV__l1_ratio=0.15, ElasticNetCV__tol=0.0001), Normalizer__norm=l1), ElasticNetCV__l1_ratio=0.15, ElasticNetCV__tol=0.1)\n"
     ]
    }
   ],
   "source": [
    "# Create the model that you want to use to perform the regression\n",
    "regressor = TPOTRegressor(generations=10,\n",
    "                          population_size=10,\n",
    "                          verbosity=2,\n",
    "                          random_state=42)\n",
    "# Specify the model blocking. Use [] if you don't want blocking (this will help with saving)\n",
    "#blocks = ['adsorbate']\n",
    "blocks = []\n",
    "\n",
    "# Initialize the results\n",
    "models = dict.fromkeys(FEATURE_SETS)\n",
    "rmses = dict.fromkeys(FEATURE_SETS)\n",
    "errors = dict.fromkeys(FEATURE_SETS)\n",
    "x = dict.fromkeys(FEATURE_SETS)\n",
    "y = dict.fromkeys(FEATURE_SETS)\n",
    "p_docs = dict.fromkeys(FEATURE_SETS)\n",
    "block_list = dict.fromkeys(FEATURE_SETS)\n",
    "\n",
    "for feature_set in FEATURE_SETS:\n",
    "    # Pull the data out and store some of the processing information for plotting purposes\n",
    "    rp = RegressionProcessor(feature_set, blocks=blocks, vasp_settings=VASP_SETTINGS)\n",
    "    x[feature_set] = rp.x\n",
    "    y[feature_set] = rp.y\n",
    "    p_docs[feature_set] = rp.p_docs\n",
    "    block_list[feature_set] = rp.block_list\n",
    "    # Perform the regression\n",
    "    models[feature_set], rmses[feature_set], errors[feature_set] = \\\n",
    "            rp.tpot(regressor)\n",
    "\n",
    "# Package the data that'll be used for plotting\n",
    "DATA['TPOT'] = {'models': models,\n",
    "                'rmses': rmses,\n",
    "                'errors': errors,\n",
    "                'x': x,\n",
    "                'y': y,\n",
    "                'p_docs': p_docs,\n",
    "                'blocks': blocks,\n",
    "                'block_list': block_list}"
   ]
  },
  {
   "cell_type": "markdown",
   "metadata": {},
   "source": [
    "### Save"
   ]
  },
  {
   "cell_type": "code",
   "execution_count": 6,
   "metadata": {
    "collapsed": true
   },
   "outputs": [],
   "source": [
    "# Save the regressions\n",
    "for feature_set in FEATURE_SETS:\n",
    "    # Save the models alone for GASpy_predict to use\n",
    "    with open('pkls/models/TPOT_model_' + feature_set + '_' \\\n",
    "              + '-'.join(DATA['TPOT']['blocks']) + '.pkl', 'wb') as f:\n",
    "        pickle.dump(DATA['TPOT']['models'][feature_set], f)\n",
    "        \n",
    "    # Save the entire package to use later in this notebook\n",
    "    data = {}\n",
    "    for datum in ['models', 'rmses', 'errors', 'x', 'y', 'p_docs', 'block_list']:\n",
    "        data[datum] = DATA['TPOT'][datum][feature_set]\n",
    "    with open('pkls/data/TPOT_data_' + feature_set + '_' + \\\n",
    "              '-'.join(DATA['TPOT']['blocks']) + '.pkl', 'wb') as f:\n",
    "        pickle.dump(data, f)"
   ]
  },
  {
   "cell_type": "markdown",
   "metadata": {},
   "source": [
    "### Load"
   ]
  },
  {
   "cell_type": "code",
   "execution_count": 4,
   "metadata": {},
   "outputs": [
    {
     "name": "stderr",
     "output_type": "stream",
     "text": [
      "/global/homes/k/ktran/.conda/envs/GASpy_conda/lib/python2.7/site-packages/sklearn/cross_validation.py:44: DeprecationWarning:\n",
      "\n",
      "This module was deprecated in version 0.18 in favor of the model_selection module into which all the refactored classes and functions are moved. Also note that the interface of the new CV iterators are different from that of this module. This module will be removed in 0.20.\n",
      "\n"
     ]
    }
   ],
   "source": [
    "# What blocking-types do we want to open?\n",
    "#blocks = ['adsorbate']\n",
    "blocks = []\n",
    "\n",
    "# Initialize the data ball\n",
    "DATA['TPOT'] = {}\n",
    "for datum in ['models', 'rmses', 'errors', 'x', 'y', 'p_docs', 'block_list']:\n",
    "    DATA['TPOT'][datum] = dict.fromkeys(FEATURE_SETS)\n",
    "    \n",
    "# Open all the databalls and put them into DATA\n",
    "for feature_set in FEATURE_SETS:\n",
    "    with open('pkls/data/TPOT_data_' + feature_set + '_' + '-'.join(blocks) + '.pkl', 'rb') as f:\n",
    "        data = pickle.load(f)\n",
    "    for key, value in data.iteritems():\n",
    "        DATA['TPOT'][key][feature_set] = value"
   ]
  },
  {
   "cell_type": "markdown",
   "metadata": {
    "collapsed": true
   },
   "source": [
    "## Hierarchical\n",
    "TODO:  Test the iterable nature of these cells (i.e., use more than one outer and inner combo)"
   ]
  },
  {
   "cell_type": "markdown",
   "metadata": {},
   "source": [
    "### Execute"
   ]
  },
  {
   "cell_type": "code",
   "execution_count": null,
   "metadata": {},
   "outputs": [],
   "source": [
    "# Specify the model blocking. Use [] if you don't want blocking (this will help with saving)\n",
    "#blocks = ['adsorbate']\n",
    "blocks = []\n",
    "\n",
    "# Outer regression information\n",
    "OUTER_FEATURE_SETS = ['energy_fr_coordcount_ads']\n",
    "OUTER_REGRESSORS = [TPOTRegressor(generations=10,\n",
    "                                  population_size=10,\n",
    "                                  verbosity=2,\n",
    "                                  random_state=42)]\n",
    "OUTER_REGRESSION_METHODS = ['tpot']\n",
    "# Inner regression information\n",
    "INNER_FEATURE_SETS = ['energy_fr_nncoord']\n",
    "#K = 1.0*RBF(length_scale=1.0) + 1.0*WhiteKernel(noise_level=0.05**2.0) \n",
    "K = None\n",
    "INNER_REGRESSORS = [GaussianProcessRegressor(kernel=K, n_restarts_optimizer=20)]\n",
    "INNER_REGRESSION_METHODS = ['sk_regressor']\n",
    "\n",
    "# `FEATURE_COMBINATIONS` is a list of tuples for the different combinations\n",
    "# of the outer and inner regressors we want. We use it to initialize the dictionaries\n",
    "# of our results.\n",
    "FEATURE_COMBINATIONS = [combo\n",
    "                        for combo in itertools.product(*[OUTER_FEATURE_SETS,\n",
    "                                                         INNER_FEATURE_SETS])]\n",
    "models = dict.fromkeys(FEATURE_COMBINATIONS)\n",
    "rmses = dict.fromkeys(FEATURE_COMBINATIONS)\n",
    "errors = dict.fromkeys(FEATURE_COMBINATIONS)\n",
    "x = dict.fromkeys(FEATURE_COMBINATIONS)\n",
    "y = dict.fromkeys(FEATURE_COMBINATIONS)\n",
    "p_docs = dict.fromkeys(FEATURE_COMBINATIONS)\n",
    "block_list = dict.fromkeys(FEATURE_COMBINATIONS)\n",
    "# Dictionaries containing the outer and inner RegressionProcessor class instances\n",
    "O_RPs = dict.fromkeys(OUTER_FEATURE_SETS)\n",
    "I_RPs = dict.fromkeys(FEATURE_COMBINATIONS)\n",
    "\n",
    "# Pull the data. They need to be right next to each other in order for them to pull\n",
    "# the same amount of data (and therefore be able to regress together).\n",
    "for o_feature_set in OUTER_FEATURE_SETS:\n",
    "    O_RPs[o_feature_set] = RegressionProcessor(feature_set,\n",
    "                                               blocks=blocks,\n",
    "                                               vasp_settings=VASP_SETTINGS)\n",
    "    for i_feature_set in INNER_FEATURE_SETS:\n",
    "        I_RPs[(o_feature_set, i_feature_set)] = RegressionProcessor(feature_set,\n",
    "                                                                    blocks=blocks,\n",
    "                                                                    vasp_settings=VASP_SETTINGS)\n",
    "\n",
    "# Perform the regressions for each combination of feature sets\n",
    "for o, o_feature_set in enumerate(OUTER_FEATURE_SETS):\n",
    "    # Perform the outer regressions\n",
    "    outer_models, outer_rmses, outer_errors = \\\n",
    "            getattr(O_RPs[o_feature_set], OUTER_REGRESSION_METHODS[o])(OUTER_REGRESSORS[o])\n",
    "    # Perform the inner regressions\n",
    "    for i, i_feature_set in enumerate(INNER_FEATURE_SETS):\n",
    "        models[(o_feature_set, i_feature_set)], \\\n",
    "            rmses[(o_feature_set, i_feature_set)], \\\n",
    "            errors[(o_feature_set, i_feature_set)] \\\n",
    "                = I_RPs[(o_feature_set, i_feature_set)].hierarchical(outer_models,\n",
    "                                                                     outer_rmses,\n",
    "                                                                     outer_errors,\n",
    "                                                                     INNER_REGRESSION_METHODS[i],\n",
    "                                                                     INNER_REGRESSORS[i])\n",
    "        x[(o_feature_set, i_feature_set)] = I_RPs[(o_feature_set, i_feature_set)].x\n",
    "        y[(o_feature_set, i_feature_set)] = I_RPs[(o_feature_set, i_feature_set)].y\n",
    "        p_docs[(o_feature_set, i_feature_set)] = I_RPs[(o_feature_set, i_feature_set)].p_docs\n",
    "        block_list[(o_feature_set, i_feature_set)] = I_RPs[(o_feature_set, i_feature_set)].block_list\n",
    "        \n",
    "# Package the data that'll be used for plotting\n",
    "DATA['GPinTPOT'] = {'models': models,\n",
    "                    'rmses': rmses,\n",
    "                    'errors': errors,\n",
    "                    'x': x,\n",
    "                    'y': y,\n",
    "                    'p_docs': p_docs,\n",
    "                    'blocks': blocks,\n",
    "                    'block_list': block_list}"
   ]
  },
  {
   "cell_type": "markdown",
   "metadata": {},
   "source": [
    "### Save"
   ]
  },
  {
   "cell_type": "code",
   "execution_count": 9,
   "metadata": {},
   "outputs": [],
   "source": [
    "# Save the regressions\n",
    "for o_feature_set in OUTER_FEATURE_SETS:\n",
    "    for i_feature_set in INNER_FEATURE_SETS:\n",
    "        # Save the models alone for GASpy_predict to use\n",
    "        with open('pkls/models/GPinTPOT_model_' \\\n",
    "                  + i_feature_set + '-inside-' + o_feature_set + '_' \\\n",
    "                  + '-'.join(DATA['GPinTPOT']['blocks']) + '.pkl', 'wb') as f:\n",
    "            pickle.dump(DATA['GPinTPOT']['models'][(o_feature_set, i_feature_set)], f)\n",
    "\n",
    "        # Save the entire package to use later in this notebook\n",
    "        data = {}\n",
    "        for datum in ['models', 'rmses', 'errors', 'x', 'y', 'p_docs', 'block_list']:\n",
    "            data[datum] = DATA['GPinTPOT'][datum][(o_feature_set, i_feature_set)]\n",
    "        with open('pkls/data/GPinTPOT_data_' \\\n",
    "                  + i_feature_set + '-inside-' + o_feature_set + '_' \\\n",
    "                  + '-'.join(DATA['GPinTPOT']['blocks']) + '.pkl', 'wb') as f:\n",
    "            pickle.dump(data, f)"
   ]
  },
  {
   "cell_type": "markdown",
   "metadata": {},
   "source": [
    "### Load"
   ]
  },
  {
   "cell_type": "code",
   "execution_count": 3,
   "metadata": {},
   "outputs": [],
   "source": [
    "# What blocking-types do we want to open?\n",
    "#blocks = ['adsorbate']\n",
    "blocks = []\n",
    "\n",
    "INNER_FEATURE_SETS = ['energy_fr_nncoord']\n",
    "OUTER_FEATURE_SETS = ['energy_fr_coordcount_ads']\n",
    "FEATURE_COMBINATIONS = [combo\n",
    "                        for combo in itertools.product(*[OUTER_FEATURE_SETS,\n",
    "                                                         INNER_FEATURE_SETS])]\n",
    "\n",
    "# Initialize the data ball\n",
    "DATA['GPinTPOT'] = {}\n",
    "for datum in ['models', 'rmses', 'errors', 'x', 'y', 'p_docs', 'block_list']:\n",
    "    DATA['GPinTPOT'][datum] = dict.fromkeys(FEATURE_COMBINATIONS)\n",
    "    \n",
    "# Open all the databalls and put them into DATA\n",
    "for o_feature_set in OUTER_FEATURE_SETS:\n",
    "    for i_feature_set in INNER_FEATURE_SETS:\n",
    "        with open('pkls/data/GPinTPOT_data_' \\\n",
    "                  + i_feature_set + '-inside-' + o_feature_set + '_' \\\n",
    "                  + '-'.join(blocks) + '.pkl', 'rb') as f:\n",
    "            data = pickle.load(f)\n",
    "        for key, value in data.iteritems():\n",
    "            DATA['GPinTPOT'][key][(o_feature_set, i_feature_set)] = value"
   ]
  },
  {
   "cell_type": "markdown",
   "metadata": {},
   "source": [
    "# Plot"
   ]
  },
  {
   "cell_type": "code",
   "execution_count": null,
   "metadata": {},
   "outputs": [
    {
     "name": "stdout",
     "output_type": "stream",
     "text": [
      "Regressor:  GPinTPOT\n",
      "    Features:  ('energy_fr_coordcount_ads', 'energy_fr_nncoord')\n"
     ]
    },
    {
     "data": {
      "text/html": [
       "<div id=\"2279c309-09b7-4b84-b19f-cb99515d9aeb\" style=\"height: 525px; width: 100%;\" class=\"plotly-graph-div\"></div><script type=\"text/javascript\">require([\"plotly\"], function(Plotly) { window.PLOTLYENV=window.PLOTLYENV || {};window.PLOTLYENV.BASE_URL=\"https://plot.ly\";Plotly.newPlot(\"2279c309-09b7-4b84-b19f-cb99515d9aeb\", [{\"y\": [-4, 6], \"x\": [-4, 6], \"line\": {\"dash\": \"dash\", \"color\": \"black\"}, \"type\": \"scatter\", \"name\": \"Parity line\"}], {\"yaxis\": {\"title\": \"Regressed (eV)\"}, \"xaxis\": {\"title\": \"DFT (eV)\"}, \"title\": \"Predicting ('energy_fr_coordcount_ads', 'energy_fr_nncoord') using a GPinTPOT model\"}, {\"linkText\": \"Export to plot.ly\", \"showLink\": true})});</script>"
      ],
      "text/plain": [
       "<IPython.core.display.HTML object>"
      ]
     },
     "metadata": {},
     "output_type": "display_data"
    },
    {
     "name": "stdout",
     "output_type": "stream",
     "text": [
      "        Block:  no_block\n",
      "                test:  1.09280009779\n",
      "                train:  0.856248765524\n",
      "                train+test:  0.921108163596\n",
      "> <ipython-input-7-c0ec6f98026b>(54)<module>()\n",
      "-> coords = [coord for coord in _p_docs['coordination']]\n",
      "(Pdb) _p_docs.keys()\n",
      "['nextnearestcoordination', 'energy', 'adsorbates', 'adsorbate']\n"
     ]
    }
   ],
   "source": [
    "# Look at all of the different regressor types\n",
    "for regressor, data in DATA.iteritems():\n",
    "    print('Regressor:  ' + str(regressor))\n",
    "    # Pull data out of the data ball\n",
    "    models = data['models']\n",
    "    rmses = data['rmses']\n",
    "    x = data['x']\n",
    "    y = data['y']\n",
    "    errors = data['errors']\n",
    "    p_docs = data['p_docs']\n",
    "    \n",
    "    # Create a plot for each of the regressor type/feature set combinations\n",
    "    for feature_set in models:\n",
    "        print('    Features:  ' + str(feature_set))\n",
    "        traces = []\n",
    "        # Within each plot, create a separate data set for each block\n",
    "        for block, model in models[feature_set].iteritems():\n",
    "            # Ignore sub-structures that come from hierarchical models\n",
    "            if block != 'outer_model' and block != 'inner_model':\n",
    "                print('        Block:  ' + str(block))\n",
    "                # Pull out the data for this feature set/block combination\n",
    "                _y = y[feature_set][block]['train+test']\n",
    "                _p_docs = p_docs[feature_set][block]['train+test']\n",
    "                _errors = errors[feature_set][block]['train+test']\n",
    "                _rmses = rmses[feature_set][block]\n",
    "\n",
    "                # Print the RMSE values\n",
    "                for dataset, rmse in _rmses.iteritems():\n",
    "                    print('                ' + str(dataset) + ':  ' + str(rmse))\n",
    "                # Label each data point depending on what type of feature set we're using\n",
    "                if feature_set == 'energy_fr_coordcount':\n",
    "                    coords = [coord for coord in _p_docs['coordination']]\n",
    "                    text = ['Site:  %s' % coord for coord in coords]\n",
    "                elif feature_set == 'energy_fr_coordcount_ads':\n",
    "                    coords = [coord for coord in _p_docs['coordination']]\n",
    "                    ads = [ads for ads in _p_docs['adsorbate']]\n",
    "                    text = ['Site:  %s, Ads:  %s' % (coord, ads[i])\n",
    "                            for i, coord in enumerate(coords)]\n",
    "                elif feature_set == 'energy_fr_coordcount_nncoord_ads':\n",
    "                    coords = [coord for coord in _p_docs['coordination']]\n",
    "                    ads = [ads for ads in _p_docs['adsorbate']]\n",
    "                    nncoords = [nncoord for nncoord in _p_docs['nextnearestcoordination']]\n",
    "                    text = ['Site:  %s, Ads:  %s, NNC:  %s' % (coord, ads[i], nncoords[i])\n",
    "                            for i, coord in enumerate(coords)]\n",
    "                elif feature_set == 'energy_fr_gcn_ads':\n",
    "                    coords = [coord for coord in _p_docs['coordination']]\n",
    "                    ads = [ads for ads in _p_docs['adsorbate']]\n",
    "                    text = ['Site:  %s, Ads:  %s' % (coord, ads[i])\n",
    "                            for i, coord in enumerate(coords)]\n",
    "                elif feature_set == 'energy_fr_nncoord':\n",
    "                    pass\n",
    "                elif feature_set == ('energy_fr_coordcount_ads', 'energy_fr_nncoord'):\n",
    "                    pdb.set_trace()\n",
    "                    coords = [coord for coord in _p_docs['coordination']]\n",
    "                    ads = [ads for ads in _p_docs['adsorbate']]\n",
    "                    text = ['Site:  %s, Ads:  %s' % (coord, ads[i])\n",
    "                            for i, coord in enumerate(coords)]\n",
    "                else:\n",
    "                    raise Exception('You still need to hard-code the text for the %s' \\\n",
    "                                    % feature_set)\n",
    "                # Add the data to the trace\n",
    "                traces.append(go.Scatter(x=_y, y=_y+_errors,\n",
    "                                         name=str(block), text=text, mode='markers'))\n",
    "\n",
    "            # Create a diagonal line for the parity plot\n",
    "            lims = [-4, 6]\n",
    "            traces.append(go.Scatter(x=lims, y=lims,\n",
    "                                     line=dict(color=('black'), dash='dash'),\n",
    "                                     name='Parity line'))\n",
    "            # Format and plot\n",
    "            layout = go.Layout(xaxis=dict(title='DFT (eV)'),\n",
    "                               yaxis=dict(title='Regressed (eV)'),\n",
    "                               title='Predicting %s using a %s model' \\\n",
    "                                     % (feature_set, regressor))\n",
    "            iplot(go.Figure(data=traces, layout=layout))"
   ]
  },
  {
   "cell_type": "code",
   "execution_count": null,
   "metadata": {
    "collapsed": true
   },
   "outputs": [],
   "source": []
  }
 ],
 "metadata": {
  "anaconda-cloud": {},
  "kernelspec": {
   "display_name": "Python [conda env:GASpy_conda]",
   "language": "python",
   "name": "conda-env-GASpy_conda-py"
  },
  "language_info": {
   "codemirror_mode": {
    "name": "ipython",
    "version": 2
   },
   "file_extension": ".py",
   "mimetype": "text/x-python",
   "name": "python",
   "nbconvert_exporter": "python",
   "pygments_lexer": "ipython2",
   "version": "2.7.13"
  },
  "name": "regress.ipynb"
 },
 "nbformat": 4,
 "nbformat_minor": 2
}
