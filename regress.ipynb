{
 "cells": [
  {
   "cell_type": "code",
   "execution_count": 54,
   "metadata": {
    "autoscroll": false,
    "ein.tags": "worksheet-0",
    "slideshow": {
     "slide_type": "-"
    }
   },
   "outputs": [
    {
     "data": {
      "text/html": [
       "<script>requirejs.config({paths: { 'plotly': ['https://cdn.plot.ly/plotly-latest.min']},});if(!window.Plotly) {{require(['plotly'],function(plotly) {window.Plotly=plotly;});}}</script>"
      ],
      "text/vnd.plotly.v1+html": [
       "<script>requirejs.config({paths: { 'plotly': ['https://cdn.plot.ly/plotly-latest.min']},});if(!window.Plotly) {{require(['plotly'],function(plotly) {window.Plotly=plotly;});}}</script>"
      ]
     },
     "metadata": {},
     "output_type": "display_data"
    }
   ],
   "source": [
    "from pprint import pprint   # for debugging\n",
    "import sys\n",
    "import numpy as np\n",
    "sys.path.append('..')\n",
    "from vasp_settings_to_str import vasp_settings_to_str\n",
    "from gas_pull import GASPullByMotifs as GasPull\n",
    "from sklearn import metrics\n",
    "from sklearn.linear_model import LinearRegression\n",
    "from sklearn.ensemble import GradientBoostingRegressor\n",
    "import alamopy\n",
    "import dill as pickle\n",
    "pickle.settings['recurse'] = True     # required to pickle lambdify functions\n",
    "import matplotlib.pyplot as plt\n",
    "from plotly.offline import download_plotlyjs, init_notebook_mode, plot, iplot\n",
    "init_notebook_mode(connected=True)\n",
    "import plotly.plotly as py\n",
    "import plotly.graph_objs as go"
   ]
  },
  {
   "cell_type": "code",
   "execution_count": 55,
   "metadata": {
    "autoscroll": false,
    "collapsed": true,
    "ein.tags": "worksheet-0",
    "slideshow": {
     "slide_type": "-"
    }
   },
   "outputs": [],
   "source": [
    "# Location of the *.db file\n",
    "#DB_LOC = '/global/cscratch1/sd/zulissi/GASpy_DB/'  # Cori\n",
    "DB_LOC = '/Users/KTran/Nerd/GASpy'                 # Local\n",
    "# Calculation settings we want to look at\n",
    "VASP_SETTINGS = vasp_settings_to_str({'gga': 'BF',\n",
    "                                      'pp_version': '5.4.',\n",
    "                                      'encut': 350})\n",
    "\n",
    "# Pull the data from the Local database\n",
    "GP = GasPull(DB_LOC, VASP_SETTINGS, split=True)\n",
    "X, Y, DATA, X_TRAIN, X_TEST, Y_TRAIN, Y_TEST = GP.coordcount_ads()"
   ]
  },
  {
   "cell_type": "code",
   "execution_count": 56,
   "metadata": {
    "autoscroll": false,
    "collapsed": true,
    "ein.tags": "worksheet-0",
    "slideshow": {
     "slide_type": "-"
    }
   },
   "outputs": [],
   "source": [
    "# Create a surrogate model using simple linear regressor\n",
    "LR = LinearRegression()\n",
    "LR.fit(X_TRAIN, Y_TRAIN)\n",
    "LR.name = 'Linear'"
   ]
  },
  {
   "cell_type": "code",
   "execution_count": 57,
   "metadata": {
    "autoscroll": false,
    "collapsed": true,
    "ein.tags": "worksheet-0",
    "slideshow": {
     "slide_type": "-"
    }
   },
   "outputs": [],
   "source": [
    "# Create a surrogate model using SKLearn's gradient, boosting, ensemble method\n",
    "GBE = GradientBoostingRegressor()\n",
    "GBE.fit(X_TRAIN, Y_TRAIN)\n",
    "GBE.name = 'GBE'"
   ]
  },
  {
   "cell_type": "code",
   "execution_count": null,
   "metadata": {
    "autoscroll": false,
    "ein.tags": "worksheet-0",
    "slideshow": {
     "slide_type": "-"
    }
   },
   "outputs": [],
   "source": [
    "# Create a surrogate model using ALAMApy.\n",
    "# Since Alamo can take awhile, we actually try to load a pickle of the previous run\n",
    "# before calling alamopy. Simply delete the pickle if you want to re-run.\n",
    "try:\n",
    "    ALA = pickle.load(open('alamodel.pkl', 'r'))\n",
    "except IOError:\n",
    "    ALA = alamopy.doalamo(X_TRAIN, Y_TRAIN.reshape(len(Y_TRAIN), 1),\n",
    "                          X_TEST, Y_TEST.reshape(len(Y_TEST), 1),\n",
    "                          showalm=1,\n",
    "                          linfcn=1,\n",
    "                          expfcn=1,\n",
    "                          logfcn=1,\n",
    "                          monomialpower=[1, 2, 3],\n",
    "                          multi2power=[1, 2, 3],\n",
    "                          ratiopower=[1, 2, 3]\n",
    "                         )\n",
    "    ALA['name'] = 'Alamo'\n",
    "    pickle.dump(ALA, open('alamodel.pkl', 'w'), protocol=2)"
   ]
  },
  {
   "cell_type": "code",
   "execution_count": null,
   "metadata": {
    "autoscroll": false,
    "collapsed": true,
    "ein.tags": "worksheet-0",
    "slideshow": {
     "slide_type": "-"
    }
   },
   "outputs": [],
   "source": [
    "# Create MatPlotLib plots for each dictionary-type model\n",
    "#for model in []:\n",
    "for model in [ALA]:\n",
    "    # Create a parity plot where each adsorbate is shown. We do that by pulling out\n",
    "    # data for each adsorbate and then plotting them.\n",
    "    for ads in np.unique(DATA['adsorbate']):\n",
    "        x = [X[i] for i, _ads in enumerate(DATA['adsorbate']) if _ads == ads]\n",
    "        y = [Y[i] for i, _ads in enumerate(DATA['adsorbate']) if _ads == ads]\n",
    "        # Do some footwork because Alamo returns a lambda function that doesn't accept np arrays\n",
    "        def model_predict(factors):\n",
    "            '''\n",
    "            Turn a vector of input data, `factors`, into the model's guessed output. We use\n",
    "            this function to do so because lambda functions suck. We should address this by\n",
    "            making alamopy output a better lambda function.\n",
    "            '''\n",
    "            args = dict.fromkeys(range(0, len(factors)-1), None)\n",
    "            for j, factor in enumerate(factors):\n",
    "                args[j] = factor\n",
    "            return model['f(model)'](args[0], args[1], args[2], args[3], args[4], args[5], args[6], args[7], args[8], args[9], args[10], args[11], args[12], args[13], args[14], args[15], args[16], args[17], args[18], args[19], args[20], args[21], args[22], args[23], args[24], args[25])\n",
    "        y_predicted = map(model_predict, x)\n",
    "        plt.scatter(y_predicted, y, label=ads)\n",
    "    # Create a diagonal line for the parity plot\n",
    "    #predict = model.predict(X)\n",
    "    #lims = [min(predict+DATA['energy']), max(predict+DATA['energy'])]\n",
    "    lims = [-4, 6]\n",
    "    plt.plot(lims, lims, '--k')\n",
    "    # Label the plot and save it\n",
    "    plt.xlabel('Regressed (eV)')\n",
    "    plt.ylabel('DFT (eV)')\n",
    "    plt.title('Adsorption Energy as a function of (Coordination Count, Adsorbate)\\n\\\n",
    "              Model = %s\\n\\\n",
    "              RMSE = %0.3f eV' \\\n",
    "              % (model['name'], metrics.mean_squared_error(Y_TEST, map(model_predict, X_TEST))))\n",
    "    plt.legend()\n",
    "    plt.savefig('CoordcountAds_%s.pdf' % model['name'], bbox_inches='tight')\n",
    "    plt.show()"
   ]
  },
  {
   "cell_type": "code",
   "execution_count": null,
   "metadata": {
    "autoscroll": false,
    "ein.tags": "worksheet-0",
    "slideshow": {
     "slide_type": "-"
    }
   },
   "outputs": [],
   "source": [
    "# Create MatPlotLib plots for each SKLearn model\n",
    "for model in [LR, GBE]:\n",
    "    # Create a parity plot where each adsorbate is shown. We do that by pulling out\n",
    "    # data for each adsorbate and then plotting them.\n",
    "    for ads in np.unique(DATA['adsorbate']):\n",
    "        x = [X[i] for i, _ads in enumerate(DATA['adsorbate']) if _ads == ads]\n",
    "        y = [Y[i] for i, _ads in enumerate(DATA['adsorbate']) if _ads == ads]\n",
    "        y_predicted = model.predict(x)\n",
    "        plt.scatter(y_predicted, y, label=ads)\n",
    "    # Create a diagonal line for the parity plot\n",
    "    #predict = model.predict(X)\n",
    "    #lims = [min(predict+DATA['energy']), max(predict+DATA['energy'])]\n",
    "    lims = [-4, 6]\n",
    "    plt.plot(lims, lims, '--k')\n",
    "    # Label the plot and save it\n",
    "    plt.xlabel('Regressed (eV)')\n",
    "    plt.ylabel('DFT (eV)')\n",
    "    plt.title('Adsorption Energy as a function of (Coordination Count, Adsorbate)\\n\\\n",
    "              Model = %s\\n\\\n",
    "              RMSE = %0.3f eV' \\\n",
    "              % (model.name, metrics.mean_squared_error(Y_TEST, model.predict(X_TEST))))\n",
    "    plt.legend()\n",
    "    plt.savefig('CoordcountAds_%s.pdf' % model.name, bbox_inches='tight')\n",
    "    plt.show()"
   ]
  },
  {
   "cell_type": "code",
   "execution_count": null,
   "metadata": {},
   "outputs": [],
   "source": [
    "# Create Plotly for each SKLearn model\n",
    "for model in [LR, GBE]:\n",
    "    traces = []\n",
    "    # Create a parity plot where each adsorbate is shown. We do that by pulling out\n",
    "    # data for each adsorbate and then plotting them.\n",
    "    for ads in np.unique(DATA['adsorbate']):\n",
    "        x = [X[i] for i, _ads in enumerate(DATA['adsorbate']) if _ads == ads]\n",
    "        y = [Y[i] for i, _ads in enumerate(DATA['adsorbate']) if _ads == ads]\n",
    "        y_predicted = model.predict(x)\n",
    "        traces.append(go.Scatter(x=y_predicted, y=y, mode='markers'))\n",
    "    # Create a diagonal line for the parity plot\n",
    "    lims = [-4, 6]\n",
    "    traces.append(go.Scatter(x=lims, y=lims,\n",
    "                             line=dict(color=('black'), dash='dash')))\n",
    "    # Format and plot\n",
    "    #layout = go.Layout(xaxis=dict(title='DFT dE [eV]',), yaxis=dict(title='ML dE [eV]',))\n",
    "    #print layout\n",
    "    #iplot(go.Figure(data=traces, layout=layout))\n",
    "    iplot(go.Figure(data=traces))"
   ]
  },
  {
   "cell_type": "code",
   "execution_count": null,
   "metadata": {
    "collapsed": true
   },
   "outputs": [],
   "source": []
  }
 ],
 "metadata": {
  "kernelspec": {
   "display_name": "Python 2",
   "language": "python",
   "name": "python2"
  },
  "language_info": {
   "codemirror_mode": {
    "name": "ipython",
    "version": 2
   },
   "file_extension": ".py",
   "mimetype": "text/x-python",
   "name": "python",
   "nbconvert_exporter": "python",
   "pygments_lexer": "ipython2",
   "version": "2.7.13"
  },
  "name": "regress.ipynb"
 },
 "nbformat": 4,
 "nbformat_minor": 2
}
