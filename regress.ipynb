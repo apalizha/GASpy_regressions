{
 "cells": [
  {
   "cell_type": "markdown",
   "metadata": {
    "collapsed": true
   },
   "source": [
    "# regress.ipynb\n",
    "Author:  Kevin Tran <ktran@andrew.cmu.edu>\n",
    "\n",
    "This python notebook performs regressions on data pulled from a local GASdb. It then saves these regressions into pickles (for later use) and creates parity plots of the regression fits."
   ]
  },
  {
   "cell_type": "markdown",
   "metadata": {},
   "source": [
    "## Initializations"
   ]
  },
  {
   "cell_type": "markdown",
   "metadata": {},
   "source": [
    "###### Imports"
   ]
  },
  {
   "cell_type": "code",
   "execution_count": 6,
   "metadata": {
    "autoscroll": false,
    "ein.tags": "worksheet-0",
    "slideshow": {
     "slide_type": "-"
    }
   },
   "outputs": [
    {
     "data": {
      "text/html": [
       "<script>requirejs.config({paths: { 'plotly': ['https://cdn.plot.ly/plotly-latest.min']},});if(!window.Plotly) {{require(['plotly'],function(plotly) {window.Plotly=plotly;});}}</script>"
      ],
      "text/plain": [
       "<IPython.core.display.HTML object>"
      ]
     },
     "metadata": {},
     "output_type": "display_data"
    }
   ],
   "source": [
    "from pprint import pprint   # for debugging\n",
    "import sys\n",
    "import math\n",
    "import numpy as np\n",
    "sys.path.append('..')\n",
    "from gaspy.utils import vasp_settings_to_str\n",
    "from gas_pull import GASPull\n",
    "from sklearn import metrics\n",
    "from sklearn.linear_model import LinearRegression\n",
    "from sklearn.ensemble import GradientBoostingRegressor\n",
    "from sklearn.gaussian_process import GaussianProcessRegressor\n",
    "from sklearn.gaussian_process.kernels \\\n",
    "    import RBF, WhiteKernel, RationalQuadratic, ExpSineSquared\n",
    "from tpot import TPOTRegressor\n",
    "import alamopy\n",
    "import dill as pickle\n",
    "pickle.settings['recurse'] = True     # required to pickle lambdify functions\n",
    "import matplotlib.pyplot as plt\n",
    "from plotly.offline import init_notebook_mode, plot, iplot\n",
    "init_notebook_mode(connected=True)\n",
    "import plotly.plotly as py\n",
    "import plotly.graph_objs as go"
   ]
  },
  {
   "cell_type": "markdown",
   "metadata": {},
   "source": [
    "###### Load data"
   ]
  },
  {
   "cell_type": "code",
   "execution_count": 2,
   "metadata": {
    "autoscroll": false,
    "ein.tags": "worksheet-0",
    "slideshow": {
     "slide_type": "-"
    }
   },
   "outputs": [],
   "source": [
    "# Location of the *.db file\n",
    "DB_LOC = '/global/cscratch1/sd/zulissi/GASpy_DB/'  # Cori\n",
    "#DB_LOC = '/Users/KTran/Nerd/GASpy'                 # Local\n",
    "\n",
    "# Calculation settings we want to look at\n",
    "VASP_SETTINGS = vasp_settings_to_str({'gga': 'BF',\n",
    "                                      'pp_version': '5.4.',\n",
    "                                      'encut': 350})\n",
    "\n",
    "# Pull the data from the Local database\n",
    "GAS_PULL = GASPull(DB_LOC, VASP_SETTINGS, split=True)\n",
    "X, Y, DATA, X_TRAIN, X_TEST, Y_TRAIN, Y_TEST, lb_ads, lb_coord = \\\n",
    "        GAS_PULL.energy_fr_coordcount_neighborcount_ads()"
   ]
  },
  {
   "cell_type": "markdown",
   "metadata": {
    "collapsed": true
   },
   "source": [
    "## Regressions\n",
    "Create surrogate models using different methods"
   ]
  },
  {
   "cell_type": "markdown",
   "metadata": {
    "collapsed": true
   },
   "source": [
    "###### SKLearn Linear Regression"
   ]
  },
  {
   "cell_type": "code",
   "execution_count": 3,
   "metadata": {
    "autoscroll": false,
    "collapsed": true,
    "ein.tags": "worksheet-0",
    "scrolled": true,
    "slideshow": {
     "slide_type": "-"
    }
   },
   "outputs": [],
   "source": [
    "LR = LinearRegression()\n",
    "LR.fit(X_TRAIN, Y_TRAIN)\n",
    "LR.name = 'Linear'\n",
    "pickle.dump({'model': LR,\n",
    "             'pre_processors': {'coordination': lb_coord,\n",
    "                                'adsorbate': lb_ads}},\n",
    "            open('pkls/CoordcountNeighborcountAds_Energy_LR.pkl', 'w'))"
   ]
  },
  {
   "cell_type": "markdown",
   "metadata": {
    "collapsed": true
   },
   "source": [
    "###### SKLearn Gradient Boosting Ensemble Regression"
   ]
  },
  {
   "cell_type": "code",
   "execution_count": 4,
   "metadata": {
    "autoscroll": false,
    "collapsed": true,
    "ein.tags": "worksheet-0",
    "slideshow": {
     "slide_type": "-"
    }
   },
   "outputs": [],
   "source": [
    "GBE = GradientBoostingRegressor()\n",
    "GBE.fit(X_TRAIN, Y_TRAIN)\n",
    "GBE.name = 'GBE'\n",
    "pickle.dump({'model': GBE,\n",
    "             'pre_processors': {'coordination': lb_coord,\n",
    "                                'adsorbate': lb_ads}},\n",
    "            open('pkls/CoordcountNeighborcountAds_Energy_GBE.pkl', 'w'))"
   ]
  },
  {
   "cell_type": "markdown",
   "metadata": {
    "collapsed": true
   },
   "source": [
    "###### SKLearn Gaussian Process Regressor"
   ]
  },
  {
   "cell_type": "code",
   "execution_count": 7,
   "metadata": {
    "autoscroll": false,
    "collapsed": true,
    "ein.tags": "worksheet-0",
    "slideshow": {
     "slide_type": "-"
    }
   },
   "outputs": [],
   "source": [
    "k = 1.0*RBF(length_scale=1.0) + 1.0*WhiteKernel(noise_level=0.05**2.0) \n",
    "GP = GaussianProcessRegressor(kernel=k, n_restarts_optimizer=10)\n",
    "GP.fit(X_TRAIN, Y_TRAIN)\n",
    "GP.name = 'GP'\n",
    "pickle.dump({'model': GP,\n",
    "             'pre_processors': {'coordination': lb_coord,\n",
    "                                'adsorbate': lb_ads}},\n",
    "            open('pkls/CoordcountNeighborcountAds_Energy_GP.pkl', 'w'))"
   ]
  },
  {
   "cell_type": "markdown",
   "metadata": {
    "collapsed": true
   },
   "source": [
    "###### TPOT Regression"
   ]
  },
  {
   "cell_type": "code",
   "execution_count": null,
   "metadata": {
    "autoscroll": false,
    "collapsed": true,
    "ein.tags": "worksheet-0",
    "scrolled": true,
    "slideshow": {
     "slide_type": "-"
    }
   },
   "outputs": [],
   "source": [
    "TPOT = TPOTRegressor(generations=100,\n",
    "                     population_size=100,\n",
    "                     verbosity=2,\n",
    "                     random_state=42)\n",
    "TPOT.fit(X_TRAIN, Y_TRAIN)\n",
    "TPOT.name = 'TPOT'"
   ]
  },
  {
   "cell_type": "code",
   "execution_count": null,
   "metadata": {
    "collapsed": true
   },
   "outputs": [],
   "source": [
    "pickle.dump({'model': TPOT.fitted_pipeline_,\n",
    "             'pre_processors': {'coordination': lb_coord,\n",
    "                                'adsorbate': lb_ads}},\n",
    "            open('pkls/CoordcountNeighborcountAds_Energy_TPOT.pkl', 'w'))"
   ]
  },
  {
   "cell_type": "code",
   "execution_count": 5,
   "metadata": {},
   "outputs": [
    {
     "ename": "IOError",
     "evalue": "[Errno 2] No such file or directory: 'pkls/CoordcountNeighborcountAds_Energy_TPOT.pkl'",
     "output_type": "error",
     "traceback": [
      "\u001b[0;31m---------------------------------------------------------------------------\u001b[0m",
      "\u001b[0;31mIOError\u001b[0m                                   Traceback (most recent call last)",
      "\u001b[0;32m<ipython-input-5-626a8c407e2e>\u001b[0m in \u001b[0;36m<module>\u001b[0;34m()\u001b[0m\n\u001b[0;32m----> 1\u001b[0;31m \u001b[0mTPOT_PKL\u001b[0m \u001b[0;34m=\u001b[0m \u001b[0mpickle\u001b[0m\u001b[0;34m.\u001b[0m\u001b[0mload\u001b[0m\u001b[0;34m(\u001b[0m\u001b[0mopen\u001b[0m\u001b[0;34m(\u001b[0m\u001b[0;34m'pkls/CoordcountNeighborcountAds_Energy_TPOT.pkl'\u001b[0m\u001b[0;34m,\u001b[0m \u001b[0;34m'r'\u001b[0m\u001b[0;34m)\u001b[0m\u001b[0;34m)\u001b[0m\u001b[0;34m\u001b[0m\u001b[0m\n\u001b[0m\u001b[1;32m      2\u001b[0m \u001b[0mTPOT\u001b[0m \u001b[0;34m=\u001b[0m \u001b[0mTPOT_PKL\u001b[0m\u001b[0;34m[\u001b[0m\u001b[0;34m'model'\u001b[0m\u001b[0;34m]\u001b[0m\u001b[0;34m\u001b[0m\u001b[0m\n",
      "\u001b[0;31mIOError\u001b[0m: [Errno 2] No such file or directory: 'pkls/CoordcountNeighborcountAds_Energy_TPOT.pkl'"
     ]
    }
   ],
   "source": [
    "TPOT_PKL = pickle.load(open('pkls/CoordcountNeighborcountAds_Energy_TPOT.pkl', 'r'))\n",
    "TPOT = TPOT_PKL['model']"
   ]
  },
  {
   "cell_type": "markdown",
   "metadata": {
    "collapsed": true
   },
   "source": [
    "###### Alamo Regression"
   ]
  },
  {
   "cell_type": "code",
   "execution_count": null,
   "metadata": {
    "autoscroll": false,
    "collapsed": true,
    "ein.tags": "worksheet-0",
    "slideshow": {
     "slide_type": "-"
    }
   },
   "outputs": [],
   "source": [
    "# Since Alamo can take awhile, we actually try to load a pickle of the previous run\n",
    "# before calling alamopy. Simply delete the pickle if you want to re-run.\n",
    "try:\n",
    "    ALA = pickle.load(open('pkls/CoordcountNeighborcountAds_Energy_Ala.pkl', 'r'))['model']\n",
    "except IOError:\n",
    "    ALA = alamopy.doalamo(X_TRAIN, Y_TRAIN.reshape(len(Y_TRAIN), 1),\n",
    "                          X_TEST, Y_TEST.reshape(len(Y_TEST), 1),\n",
    "                          showalm=1,\n",
    "                          linfcns=1,\n",
    "                          expfcns=1,\n",
    "                          logfcns=1,\n",
    "                          monomialpower=(1, 2, 3),\n",
    "                          multi2power=(1, 2, 3),\n",
    "                          ratiopower=(1, 2, 3)\n",
    "                         )\n",
    "    ALA['name'] = 'Alamo'\n",
    "    pickle.dump({'model': ALA,\n",
    "                 'pre_processors': {'coordination': lb_coord,\n",
    "                                    'adsorbate': lb_ads}},\n",
    "                open('pkls/CoordcountNeighborcountAds_Energy_Ala.pkl', 'w'))\n",
    "pprint(ALA['model'])"
   ]
  },
  {
   "cell_type": "markdown",
   "metadata": {
    "collapsed": true
   },
   "source": [
    "## Plotting"
   ]
  },
  {
   "cell_type": "markdown",
   "metadata": {
    "collapsed": true
   },
   "source": [
    "###### SKLearn-types"
   ]
  },
  {
   "cell_type": "code",
   "execution_count": 9,
   "metadata": {},
   "outputs": [
    {
     "data": {
      "text/html": [
       "<div id=\"76ea8fec-5509-43f2-9066-5cdd35a75261\" style=\"height: 525px; width: 100%;\" class=\"plotly-graph-div\"></div><script type=\"text/javascript\">require([\"plotly\"], function(Plotly) { window.PLOTLYENV=window.PLOTLYENV || {};window.PLOTLYENV.BASE_URL=\"https://plot.ly\";Plotly.newPlot(\"76ea8fec-5509-43f2-9066-5cdd35a75261\", [{\"name\": \"C\", \"text\": [\"Site:  Au-Au-Au-Au-Au-Au-Au-Au-Au\\rNeighbor:  Au-Au-Au-Au-Au-Au-Au-Au-Au-C-C-C\", \"Site:  Au-Au-Au-Au-Au-Au-Au-Au-Au\\rNeighbor:  Au-Au-Au-Au-Au-Au-Au-Au-Au-C-C-C\"], \"mode\": \"markers\", \"y\": [1.9617397700000003, 1.97655651], \"x\": [1.969148140000001, 1.969148140000001], \"type\": \"scatter\"}, {\"name\": \"CO\", \"text\": [\"Site:  C\\rNeighbor:  C-Pd-Pd-Pd-Pd-Sb-Sb-Sb\", \"Site:  Sb-Sb-V-V\\rNeighbor:  Sb-Sb-Sb-V-V-V-V-V-V\", \"Site:  Ni-Ni-Ni\\rNeighbor:  Ni-Ni-Ni-Ni-Ni-Ni-Si-Si-Si-Si\", \"Site:  C\\rNeighbor:  Au-Au-Au-Au-Au-Au-Au-Au-Au-C\", \"Site:  C\\rNeighbor:  C-Pd-Pd-Pd-Pd-Sb-Sb-Sb\", \"Site:  Au-Au-Au-Au-Au-Au-Au-Au-Au\\rNeighbor:  Au-Au-Au-Au-Au-Au-Au-Au-Au-O-O-O\", \"Site:  Sb-Sb-Sb\\rNeighbor:  Pd-Pd-Pd-Pd-Sb-Sb-Sb\", \"Site:  Pd-Pd-Pd-Pd-Pd-Pd\\rNeighbor:  Pd-Pd-Pd-Pd-Pd-Pd-Si-Si-Si\", \"Site:  Pd-Pd-Pd-Pd-Sb-Sb-Sb-Sb\\rNeighbor:  Pd-Pd-Pd-Pd-Pd-Pd-Pd-Pd-Pd-Sb-Sb-Sb-Sb\", \"Site:  H-H\\rNeighbor:  H-H-H-H\", \"Site:  Si-Si-Si-W-W-W-W\\rNeighbor:  Si-Si-Si-Si-Si-W-W-W-W-W\", \"Site:  Sb-Sb-Sb\\rNeighbor:  Pd-Pd-Pd-Pd-Sb-Sb-Sb\", \"Site:  Sb-Sb-Sb-Sb-Sb-Sb\\rNeighbor:  Co-Sb-Sb-Sb-Sb-Sb-Sb\", \"Site:  Ni-Ni-Ni-Si\\rNeighbor:  C-Ni-Ni-Ni-Ni-Ni-Si-Si-Si-Si\", \"Site:  Sb-Sb-Sb\\rNeighbor:  Pd-Pd-Pd-Pd-Sb-Sb-Sb\", \"Site:  Au-Au-Au-Au-Au-Au-Au-Au\\rNeighbor:  Au-Au-Au-Au-Au-Au-Au-Au-Au-C-C\", \"Site:  C\\rNeighbor:  Au-Au-Au-Au-Au-Au-Au-Au-Au-C\", \"Site:  Pd-Pd-Pd\\rNeighbor:  Pd-Pd-Pd\", \"Site:  Au-Au-Au-Au\\rNeighbor:  Au-Au-Au-Au\", \"Site:  Si-Si-Si-Si-Si-Si\\rNeighbor:  Ni-Ni-Ni-Ni-Ni-Si-Si-Si-Si-Si-Si\", \"Site:  Ni-Ni-Ni-Ni-Ni-Ni\\rNeighbor:  Ni-Ni-Ni-Ni-Ni-Ni-Si-Si-Si-Si\", \"Site:  Au\\rNeighbor:  Au-Au-Au-Au-Au-Au-Au-Pd-Pd-Pd\"], \"mode\": \"markers\", \"y\": [-1.0658427299999982, -0.5383296799999986, -0.12447319999999173, 0.08338763000000071, -1.25798277, 0.0826334899999992, -1.2633098, -0.29124904999999934, -1.0292001799999984, -0.038699720000000326, -0.0896429899999962, -1.2522654899999974, -1.5493007900000055, -0.43930793999998663, -1.2622653100000019, 0.08567625000000056, -0.011170119999999173, -0.8867663399999994, -0.07521909999999998, -0.5820743999999909, -0.4204278899999938, -0.35161451999999827], \"x\": [-1.257982769999996, -0.5383296799999953, -0.1244731999999904, -0.05394262460571142, -1.257982769999996, 0.11906473062252843, -1.0188064989605607, -1.7150618736750916, -1.16034263169855, -0.1791699569305989, -0.08964298999999509, -1.0188064989605607, -1.5493007900000049, -0.43930793999998374, -1.0188064989605607, 0.09984169115272401, -0.05394262460571142, -0.7119097377352581, -0.32234766475623244, -0.5820743999999907, -0.42042788999998915, -0.3661859035220598], \"type\": \"scatter\"}, {\"name\": \"H\", \"text\": [\"Site:  Au-Au-Au-Au\\rNeighbor:  Au-Au-Au-Au-Au-Au-Au-Au-Au-H-H\", \"Site:  Au-Au-Au-Au\\rNeighbor:  Au-Au-Au-Au-Au-Au-Au-Au-Au-H-H\", \"Site:  Au-Au-Au-Au\\rNeighbor:  Au-Au-Au-Au-Au-Au-Au-Au-Au-H-H\", \"Site:  Au-Au-Au-Au\\rNeighbor:  Au-Au-Au-Au-Au-Au-Au-Au-Au-H-H\", \"Site:  Au-Au-Au-Au\\rNeighbor:  Au-Au-Au-Au-Au-Au-Au-Au-Au-H-H\", \"Site:  Au-Au-Au-Au\\rNeighbor:  Au-Au-Au-Au-Au-Au-Au-Au-Au-H-H\", \"Site:  Au-Au-Au-Au\\rNeighbor:  Au-Au-Au-Au-Au-Au-Au-Au-Au-H-H\", \"Site:  Au-Au-Au-Au\\rNeighbor:  Au-Au-Au-Au-Au-Au-Au-Au-Au-H-H\", \"Site:  Au-Au-Au-Au\\rNeighbor:  Au-Au-Au-Au-Au-Au-Au-Au-Au-H-H\", \"Site:  Au-Au-Au-Au\\rNeighbor:  Au-Au-Au-Au-Au-Au-Au-Au-Au-H-H\", \"Site:  Au-Au-Au-Au\\rNeighbor:  Au-Au-Au-Au-Au-Au-Au-Au-Au-H-H\", \"Site:  Au-Au-Au-Au\\rNeighbor:  Au-Au-Au-Au-Au-Au-Au-Au-Au-H-H\", \"Site:  Au-Au-Au-Au\\rNeighbor:  Au-Au-Au-Au-Au-Au-Au-Au-Au-H-H\", \"Site:  Au-Au-Au-Au\\rNeighbor:  Au-Au-Au-Au-Au-Au-Au-Au-Au-H-H\", \"Site:  Au-Au-Au-Au\\rNeighbor:  Au-Au-Au-Au-Au-Au-Au-Au-Au-H-H\", \"Site:  Au-Au-Au-Au\\rNeighbor:  Au-Au-Au-Au-Au-Au-Au-Au-Au-H-H\", \"Site:  H\\rNeighbor:  Au-Au-Au-Au-Au-Au-Au-H\", \"Site:  Au-Au-Au-Au\\rNeighbor:  Au-Au-Au-Au-Au-Au-Au-Au-Au-H-H\", \"Site:  Au-Au-Au-Au-Au-Au\\rNeighbor:  Au-Au-Au-Au-Au-Au-Au-Au-Au-H-H-H\", \"Site:  Au-Au-Au-Au\\rNeighbor:  Au-Au-Au-Au-Au-Au-Au-Au-Au-H-H\", \"Site:  Au-Au-Au-Au\\rNeighbor:  Au-Au-Au-Au-Au-Au-Au-Au-Au-H-H\", \"Site:  Au-Au-Au-Au\\rNeighbor:  Au-Au-Au-Au-Au-Au-Au-Au-Au-H-H\", \"Site:  Sb-Sb-Sb\\rNeighbor:  Pd-Pd-Pd-Pd-Sb-Sb-Sb\", \"Site:  Au-Au-Au-Au\\rNeighbor:  Au-Au-Au-Au-Au-Au-Au-Au-Au-H-H\", \"Site:  Au-Au-Au-Au\\rNeighbor:  Au-Au-Au-Au-Au-Au-Au-Au-Au-H-H\", \"Site:  Au-Au-Au-Au\\rNeighbor:  Au-Au-Au-Au-Au-Au-Au-Au-Au-H-H\", \"Site:  Au-Au-Au-Au\\rNeighbor:  Au-Au-Au-Au-Au-Au-Au-Au-Au-H-H\", \"Site:  Au-Au-Au-Au\\rNeighbor:  Au-Au-Au-Au-Au-Au-Au-Au-Au-H-H\", \"Site:  Au-Au-Au-Au\\rNeighbor:  Au-Au-Au-Au-Au-Au-Au-Au-Au-H-H\", \"Site:  Au-Au-Au-Au\\rNeighbor:  Au-Au-Au-Au-Au-Au-Au-Au-Au-H-H\", \"Site:  Au-Au-Au-Au\\rNeighbor:  Au-Au-Au-Au-Au-Au-Au-Au-Au-H-H\", \"Site:  Sb-V-V\\rNeighbor:  Sb-Sb-Sb-Sb-Sb-Sb-Sb-Sb-Sb-Sb-V-V-V-V\", \"Site:  Au-Au-Au-Au\\rNeighbor:  Au-Au-Au-Au-Au-Au-Au-Au-Au-H-H\", \"Site:  Au-Au-Au-Au\\rNeighbor:  Au-Au-Au-Au-Au-Au-Au-Au-Au-H-H\", \"Site:  Au-Au-Au-Au\\rNeighbor:  Au-Au-Au-Au-Au-Au-Au-Au-Au-H-H\", \"Site:  Au-Au-Au-Au\\rNeighbor:  Au-Au-Au-Au-Au-Au-Au-Au-Au-H-H\", \"Site:  Au-Au-Au-Au\\rNeighbor:  Au-Au-Au-Au-Au-Au-Au-Au-Au-H-H\", \"Site:  Au-Au-Au-Au\\rNeighbor:  Au-Au-Au-Au-Au-Au-Au-Au-Au-H-H\", \"Site:  Au-Au-Au-Au\\rNeighbor:  Au-Au-Au-Au-Au-Au-Au-Au-Au-H-H\", \"Site:  Au-Au-Au-Au\\rNeighbor:  Au-Au-Au-Au-Au-Au-Au-Au-Au-H-H\", \"Site:  Au-Au-Au-Au\\rNeighbor:  Au-Au-Au-Au-Au-Au-Au-Au-Au-H-H\", \"Site:  Au-Au-Au-Au\\rNeighbor:  Au-Au-Au-Au-Au-Au-Au-Au-Au-H-H\", \"Site:  Au-Au-Au-Au\\rNeighbor:  Au-Au-Au-Au-Au-Au-Au-Au-Au-H-H\", \"Site:  Au-Au-Au-Au\\rNeighbor:  Au-Au-Au-Au-Au-Au-Au-Au-Au-H-H\", \"Site:  Au-Au-Au-Au\\rNeighbor:  Au-Au-Au-Au-Au-Au-Au-Au-Au-H-H\", \"Site:  Au-Au-Au-Au\\rNeighbor:  Au-Au-Au-Au-Au-Au-Au-Au-Au-H-H\", \"Site:  Au-Au-Au-Au\\rNeighbor:  Au-Au-Au-Au-Au-Au-Au-Au-Au-H-H\", \"Site:  H\\rNeighbor:  Au-Au-Au-Au-Au-Au-Au-Au-Au-H\", \"Site:  Sb-Sb-Sb\\rNeighbor:  Pd-Pd-Pd-Pd-Sb-Sb-Sb\", \"Site:  Sb-Sb-Sb\\rNeighbor:  Pd-Pd-Pd-Pd-Sb-Sb-Sb\"], \"mode\": \"markers\", \"y\": [0.5760896950000003, 0.5760896950000003, 0.5760896950000003, 0.5760896950000003, 0.5760896950000003, 0.5760896950000003, 0.5760896950000003, 0.5760896950000003, 0.5760896950000003, 0.5760896950000003, 0.5760896950000003, 0.5760896950000003, 0.5760896950000003, 0.5760896950000003, 0.5760896950000003, 0.5760896950000003, 0.41153648500000006, 0.5760896950000003, 0.36224407500000044, 0.5760896950000003, 0.5760896950000003, 0.5760896950000003, -0.09904778500000067, 0.5760896950000003, 0.5760896950000003, 0.5760896950000003, 0.5760896950000003, 0.5760896950000003, 0.5760896950000003, 0.5760896950000003, 0.5760896950000003, 1.240559144999998, 0.5760896950000003, 0.5760896950000003, 0.5760896950000003, 0.5760896950000003, 0.5760896950000003, 0.5760896950000003, 0.5760896950000003, 0.5760896950000003, 0.5760896950000003, 0.5760896950000003, 0.5760896950000003, 0.5760896950000003, 0.5760896950000003, 0.5760896950000003, 0.5760896950000003, 1.102048355, -0.09867636500000021, 0.22245878499999971], \"x\": [0.5701398444837928, 0.5701398444837928, 0.5701398444837928, 0.5701398444837928, 0.5701398444837928, 0.5701398444837928, 0.5701398444837928, 0.5701398444837928, 0.5701398444837928, 0.5701398444837928, 0.5701398444837928, 0.5701398444837928, 0.5701398444837928, 0.5701398444837928, 0.5701398444837928, 0.5701398444837928, 0.6924769588612055, 0.5701398444837928, 0.5788544769553335, 0.5701398444837928, 0.5701398444837928, 0.5701398444837928, -0.41215329481413776, 0.5701398444837928, 0.5701398444837928, 0.5701398444837928, 0.5701398444837928, 0.5701398444837928, 0.5701398444837928, 0.5701398444837928, 0.5701398444837928, 1.2405591450000002, 0.5701398444837928, 0.5701398444837928, 0.5701398444837928, 0.5701398444837928, 0.5701398444837928, 0.5701398444837928, 0.5701398444837928, 0.5701398444837928, 0.5701398444837928, 0.5701398444837928, 0.5701398444837928, 0.5701398444837928, 0.5701398444837928, 0.5701398444837928, 0.5701398444837928, 0.830595838073101, -0.41215329481413776, -0.41215329481413776], \"type\": \"scatter\"}, {\"name\": \"O\", \"text\": [\"Site:  O\\rNeighbor:  Au-Au-Au-Au-Au-Au-Au-O\", \"Site:  Au-Au-Au-Au-Au-Au-Au-Au-Au\\rNeighbor:  Au-Au-Au-Au-Au-Au-Au-Au-Au-O-O-O\", \"Site:  O\\rNeighbor:  Au-Au-Au-Au-Au-Au-Au-O\"], \"mode\": \"markers\", \"y\": [2.2559267100000007, 2.15517773, 2.4535571900000006], \"x\": [2.4535571900000033, 2.764683424440139, 2.4535571900000033], \"type\": \"scatter\"}, {\"y\": [-4, 6], \"x\": [-4, 6], \"line\": {\"dash\": \"dash\", \"color\": \"black\"}, \"type\": \"scatter\", \"name\": \"Parity line\"}], {\"yaxis\": {\"title\": \"DFT (eV)\"}, \"xaxis\": {\"title\": \"Regressed (eV)\"}, \"title\": \"Adsorption Energy as a function of (Coord/Neighbor Counts, Ads); Model = Linear; RMSE = 0.394 eV\"}, {\"linkText\": \"Export to plot.ly\", \"showLink\": true})});</script>"
      ],
      "text/plain": [
       "<IPython.core.display.HTML object>"
      ]
     },
     "metadata": {},
     "output_type": "display_data"
    },
    {
     "data": {
      "text/html": [
       "<div id=\"2892d359-d95f-4c05-b175-37b393ce4fe2\" style=\"height: 525px; width: 100%;\" class=\"plotly-graph-div\"></div><script type=\"text/javascript\">require([\"plotly\"], function(Plotly) { window.PLOTLYENV=window.PLOTLYENV || {};window.PLOTLYENV.BASE_URL=\"https://plot.ly\";Plotly.newPlot(\"2892d359-d95f-4c05-b175-37b393ce4fe2\", [{\"name\": \"C\", \"text\": [\"Site:  Au-Au-Au-Au-Au-Au-Au-Au-Au\\rNeighbor:  Au-Au-Au-Au-Au-Au-Au-Au-Au-C-C-C\", \"Site:  Au-Au-Au-Au-Au-Au-Au-Au-Au\\rNeighbor:  Au-Au-Au-Au-Au-Au-Au-Au-Au-C-C-C\"], \"mode\": \"markers\", \"y\": [1.9617397700000003, 1.97655651], \"x\": [1.9561856783612428, 1.9561856783612428], \"type\": \"scatter\"}, {\"name\": \"CO\", \"text\": [\"Site:  C\\rNeighbor:  C-Pd-Pd-Pd-Pd-Sb-Sb-Sb\", \"Site:  Sb-Sb-V-V\\rNeighbor:  Sb-Sb-Sb-V-V-V-V-V-V\", \"Site:  Ni-Ni-Ni\\rNeighbor:  Ni-Ni-Ni-Ni-Ni-Ni-Si-Si-Si-Si\", \"Site:  C\\rNeighbor:  Au-Au-Au-Au-Au-Au-Au-Au-Au-C\", \"Site:  C\\rNeighbor:  C-Pd-Pd-Pd-Pd-Sb-Sb-Sb\", \"Site:  Au-Au-Au-Au-Au-Au-Au-Au-Au\\rNeighbor:  Au-Au-Au-Au-Au-Au-Au-Au-Au-O-O-O\", \"Site:  Sb-Sb-Sb\\rNeighbor:  Pd-Pd-Pd-Pd-Sb-Sb-Sb\", \"Site:  Pd-Pd-Pd-Pd-Pd-Pd\\rNeighbor:  Pd-Pd-Pd-Pd-Pd-Pd-Si-Si-Si\", \"Site:  Pd-Pd-Pd-Pd-Sb-Sb-Sb-Sb\\rNeighbor:  Pd-Pd-Pd-Pd-Pd-Pd-Pd-Pd-Pd-Sb-Sb-Sb-Sb\", \"Site:  H-H\\rNeighbor:  H-H-H-H\", \"Site:  Si-Si-Si-W-W-W-W\\rNeighbor:  Si-Si-Si-Si-Si-W-W-W-W-W\", \"Site:  Sb-Sb-Sb\\rNeighbor:  Pd-Pd-Pd-Pd-Sb-Sb-Sb\", \"Site:  Sb-Sb-Sb-Sb-Sb-Sb\\rNeighbor:  Co-Sb-Sb-Sb-Sb-Sb-Sb\", \"Site:  Ni-Ni-Ni-Si\\rNeighbor:  C-Ni-Ni-Ni-Ni-Ni-Si-Si-Si-Si\", \"Site:  Sb-Sb-Sb\\rNeighbor:  Pd-Pd-Pd-Pd-Sb-Sb-Sb\", \"Site:  Au-Au-Au-Au-Au-Au-Au-Au\\rNeighbor:  Au-Au-Au-Au-Au-Au-Au-Au-Au-C-C\", \"Site:  C\\rNeighbor:  Au-Au-Au-Au-Au-Au-Au-Au-Au-C\", \"Site:  Pd-Pd-Pd\\rNeighbor:  Pd-Pd-Pd\", \"Site:  Au-Au-Au-Au\\rNeighbor:  Au-Au-Au-Au\", \"Site:  Si-Si-Si-Si-Si-Si\\rNeighbor:  Ni-Ni-Ni-Ni-Ni-Si-Si-Si-Si-Si-Si\", \"Site:  Ni-Ni-Ni-Ni-Ni-Ni\\rNeighbor:  Ni-Ni-Ni-Ni-Ni-Ni-Si-Si-Si-Si\", \"Site:  Au\\rNeighbor:  Au-Au-Au-Au-Au-Au-Au-Pd-Pd-Pd\"], \"mode\": \"markers\", \"y\": [-1.0658427299999982, -0.5383296799999986, -0.12447319999999173, 0.08338763000000071, -1.25798277, 0.0826334899999992, -1.2633098, -0.29124904999999934, -1.0292001799999984, -0.038699720000000326, -0.0896429899999962, -1.2522654899999974, -1.5493007900000055, -0.43930793999998663, -1.2622653100000019, 0.08567625000000056, -0.011170119999999173, -0.8867663399999994, -0.07521909999999998, -0.5820743999999909, -0.4204278899999938, -0.35161451999999827], \"x\": [-1.2470165743023935, -0.5308089491130693, -0.16423053757104758, 0.045777025202428295, -1.2470165743023935, 0.07938606259768814, -1.2532747902434305, -0.8194899211861003, -1.044221123420304, -0.05886368191028084, -0.10923088630955763, -1.2532747902434305, -1.5309891708592365, -0.4191242251220723, -1.2532747902434305, 0.07938606259768814, 0.045777025202428295, -0.859625817475792, -0.07999421277079317, -0.5741656964266708, -0.40548217796789177, -0.3592317776238676], \"type\": \"scatter\"}, {\"name\": \"H\", \"text\": [\"Site:  Au-Au-Au-Au\\rNeighbor:  Au-Au-Au-Au-Au-Au-Au-Au-Au-H-H\", \"Site:  Au-Au-Au-Au\\rNeighbor:  Au-Au-Au-Au-Au-Au-Au-Au-Au-H-H\", \"Site:  Au-Au-Au-Au\\rNeighbor:  Au-Au-Au-Au-Au-Au-Au-Au-Au-H-H\", \"Site:  Au-Au-Au-Au\\rNeighbor:  Au-Au-Au-Au-Au-Au-Au-Au-Au-H-H\", \"Site:  Au-Au-Au-Au\\rNeighbor:  Au-Au-Au-Au-Au-Au-Au-Au-Au-H-H\", \"Site:  Au-Au-Au-Au\\rNeighbor:  Au-Au-Au-Au-Au-Au-Au-Au-Au-H-H\", \"Site:  Au-Au-Au-Au\\rNeighbor:  Au-Au-Au-Au-Au-Au-Au-Au-Au-H-H\", \"Site:  Au-Au-Au-Au\\rNeighbor:  Au-Au-Au-Au-Au-Au-Au-Au-Au-H-H\", \"Site:  Au-Au-Au-Au\\rNeighbor:  Au-Au-Au-Au-Au-Au-Au-Au-Au-H-H\", \"Site:  Au-Au-Au-Au\\rNeighbor:  Au-Au-Au-Au-Au-Au-Au-Au-Au-H-H\", \"Site:  Au-Au-Au-Au\\rNeighbor:  Au-Au-Au-Au-Au-Au-Au-Au-Au-H-H\", \"Site:  Au-Au-Au-Au\\rNeighbor:  Au-Au-Au-Au-Au-Au-Au-Au-Au-H-H\", \"Site:  Au-Au-Au-Au\\rNeighbor:  Au-Au-Au-Au-Au-Au-Au-Au-Au-H-H\", \"Site:  Au-Au-Au-Au\\rNeighbor:  Au-Au-Au-Au-Au-Au-Au-Au-Au-H-H\", \"Site:  Au-Au-Au-Au\\rNeighbor:  Au-Au-Au-Au-Au-Au-Au-Au-Au-H-H\", \"Site:  Au-Au-Au-Au\\rNeighbor:  Au-Au-Au-Au-Au-Au-Au-Au-Au-H-H\", \"Site:  H\\rNeighbor:  Au-Au-Au-Au-Au-Au-Au-H\", \"Site:  Au-Au-Au-Au\\rNeighbor:  Au-Au-Au-Au-Au-Au-Au-Au-Au-H-H\", \"Site:  Au-Au-Au-Au-Au-Au\\rNeighbor:  Au-Au-Au-Au-Au-Au-Au-Au-Au-H-H-H\", \"Site:  Au-Au-Au-Au\\rNeighbor:  Au-Au-Au-Au-Au-Au-Au-Au-Au-H-H\", \"Site:  Au-Au-Au-Au\\rNeighbor:  Au-Au-Au-Au-Au-Au-Au-Au-Au-H-H\", \"Site:  Au-Au-Au-Au\\rNeighbor:  Au-Au-Au-Au-Au-Au-Au-Au-Au-H-H\", \"Site:  Sb-Sb-Sb\\rNeighbor:  Pd-Pd-Pd-Pd-Sb-Sb-Sb\", \"Site:  Au-Au-Au-Au\\rNeighbor:  Au-Au-Au-Au-Au-Au-Au-Au-Au-H-H\", \"Site:  Au-Au-Au-Au\\rNeighbor:  Au-Au-Au-Au-Au-Au-Au-Au-Au-H-H\", \"Site:  Au-Au-Au-Au\\rNeighbor:  Au-Au-Au-Au-Au-Au-Au-Au-Au-H-H\", \"Site:  Au-Au-Au-Au\\rNeighbor:  Au-Au-Au-Au-Au-Au-Au-Au-Au-H-H\", \"Site:  Au-Au-Au-Au\\rNeighbor:  Au-Au-Au-Au-Au-Au-Au-Au-Au-H-H\", \"Site:  Au-Au-Au-Au\\rNeighbor:  Au-Au-Au-Au-Au-Au-Au-Au-Au-H-H\", \"Site:  Au-Au-Au-Au\\rNeighbor:  Au-Au-Au-Au-Au-Au-Au-Au-Au-H-H\", \"Site:  Au-Au-Au-Au\\rNeighbor:  Au-Au-Au-Au-Au-Au-Au-Au-Au-H-H\", \"Site:  Sb-V-V\\rNeighbor:  Sb-Sb-Sb-Sb-Sb-Sb-Sb-Sb-Sb-Sb-V-V-V-V\", \"Site:  Au-Au-Au-Au\\rNeighbor:  Au-Au-Au-Au-Au-Au-Au-Au-Au-H-H\", \"Site:  Au-Au-Au-Au\\rNeighbor:  Au-Au-Au-Au-Au-Au-Au-Au-Au-H-H\", \"Site:  Au-Au-Au-Au\\rNeighbor:  Au-Au-Au-Au-Au-Au-Au-Au-Au-H-H\", \"Site:  Au-Au-Au-Au\\rNeighbor:  Au-Au-Au-Au-Au-Au-Au-Au-Au-H-H\", \"Site:  Au-Au-Au-Au\\rNeighbor:  Au-Au-Au-Au-Au-Au-Au-Au-Au-H-H\", \"Site:  Au-Au-Au-Au\\rNeighbor:  Au-Au-Au-Au-Au-Au-Au-Au-Au-H-H\", \"Site:  Au-Au-Au-Au\\rNeighbor:  Au-Au-Au-Au-Au-Au-Au-Au-Au-H-H\", \"Site:  Au-Au-Au-Au\\rNeighbor:  Au-Au-Au-Au-Au-Au-Au-Au-Au-H-H\", \"Site:  Au-Au-Au-Au\\rNeighbor:  Au-Au-Au-Au-Au-Au-Au-Au-Au-H-H\", \"Site:  Au-Au-Au-Au\\rNeighbor:  Au-Au-Au-Au-Au-Au-Au-Au-Au-H-H\", \"Site:  Au-Au-Au-Au\\rNeighbor:  Au-Au-Au-Au-Au-Au-Au-Au-Au-H-H\", \"Site:  Au-Au-Au-Au\\rNeighbor:  Au-Au-Au-Au-Au-Au-Au-Au-Au-H-H\", \"Site:  Au-Au-Au-Au\\rNeighbor:  Au-Au-Au-Au-Au-Au-Au-Au-Au-H-H\", \"Site:  Au-Au-Au-Au\\rNeighbor:  Au-Au-Au-Au-Au-Au-Au-Au-Au-H-H\", \"Site:  Au-Au-Au-Au\\rNeighbor:  Au-Au-Au-Au-Au-Au-Au-Au-Au-H-H\", \"Site:  H\\rNeighbor:  Au-Au-Au-Au-Au-Au-Au-Au-Au-H\", \"Site:  Sb-Sb-Sb\\rNeighbor:  Pd-Pd-Pd-Pd-Sb-Sb-Sb\", \"Site:  Sb-Sb-Sb\\rNeighbor:  Pd-Pd-Pd-Pd-Sb-Sb-Sb\"], \"mode\": \"markers\", \"y\": [0.5760896950000003, 0.5760896950000003, 0.5760896950000003, 0.5760896950000003, 0.5760896950000003, 0.5760896950000003, 0.5760896950000003, 0.5760896950000003, 0.5760896950000003, 0.5760896950000003, 0.5760896950000003, 0.5760896950000003, 0.5760896950000003, 0.5760896950000003, 0.5760896950000003, 0.5760896950000003, 0.41153648500000006, 0.5760896950000003, 0.36224407500000044, 0.5760896950000003, 0.5760896950000003, 0.5760896950000003, -0.09904778500000067, 0.5760896950000003, 0.5760896950000003, 0.5760896950000003, 0.5760896950000003, 0.5760896950000003, 0.5760896950000003, 0.5760896950000003, 0.5760896950000003, 1.240559144999998, 0.5760896950000003, 0.5760896950000003, 0.5760896950000003, 0.5760896950000003, 0.5760896950000003, 0.5760896950000003, 0.5760896950000003, 0.5760896950000003, 0.5760896950000003, 0.5760896950000003, 0.5760896950000003, 0.5760896950000003, 0.5760896950000003, 0.5760896950000003, 0.5760896950000003, 1.102048355, -0.09867636500000021, 0.22245878499999971], \"x\": [0.5753039396923809, 0.5753039396923809, 0.5753039396923809, 0.5753039396923809, 0.5753039396923809, 0.5753039396923809, 0.5753039396923809, 0.5753039396923809, 0.5753039396923809, 0.5753039396923809, 0.5753039396923809, 0.5753039396923809, 0.5753039396923809, 0.5753039396923809, 0.5753039396923809, 0.5753039396923809, 0.4391262337765162, 0.5753039396923809, 0.38556080852942, 0.5753039396923809, 0.5753039396923809, 0.5753039396923809, -0.09192035628956066, 0.5753039396923809, 0.5753039396923809, 0.5753039396923809, 0.5753039396923809, 0.5753039396923809, 0.5753039396923809, 0.5753039396923809, 0.5753039396923809, 1.2216913267002787, 0.5753039396923809, 0.5753039396923809, 0.5753039396923809, 0.5753039396923809, 0.5753039396923809, 0.5753039396923809, 0.5753039396923809, 0.5753039396923809, 0.5753039396923809, 0.5753039396923809, 0.5753039396923809, 0.5753039396923809, 0.5753039396923809, 0.5753039396923809, 0.5753039396923809, 0.4391262337765162, -0.09192035628956066, -0.09192035628956066], \"type\": \"scatter\"}, {\"name\": \"O\", \"text\": [\"Site:  O\\rNeighbor:  Au-Au-Au-Au-Au-Au-Au-O\", \"Site:  Au-Au-Au-Au-Au-Au-Au-Au-Au\\rNeighbor:  Au-Au-Au-Au-Au-Au-Au-Au-Au-O-O-O\", \"Site:  O\\rNeighbor:  Au-Au-Au-Au-Au-Au-Au-O\"], \"mode\": \"markers\", \"y\": [2.2559267100000007, 2.15517773, 2.4535571900000006], \"x\": [2.435795290856701, 2.2652704336529186, 2.435795290856701], \"type\": \"scatter\"}, {\"y\": [-4, 6], \"x\": [-4, 6], \"line\": {\"dash\": \"dash\", \"color\": \"black\"}, \"type\": \"scatter\", \"name\": \"Parity line\"}], {\"yaxis\": {\"title\": \"DFT (eV)\"}, \"xaxis\": {\"title\": \"Regressed (eV)\"}, \"title\": \"Adsorption Energy as a function of (Coord/Neighbor Counts, Ads); Model = GBE; RMSE = 0.212 eV\"}, {\"linkText\": \"Export to plot.ly\", \"showLink\": true})});</script>"
      ],
      "text/plain": [
       "<IPython.core.display.HTML object>"
      ]
     },
     "metadata": {},
     "output_type": "display_data"
    },
    {
     "data": {
      "text/html": [
       "<div id=\"2020f0cd-c9f1-4e02-a29c-790b51ecabf3\" style=\"height: 525px; width: 100%;\" class=\"plotly-graph-div\"></div><script type=\"text/javascript\">require([\"plotly\"], function(Plotly) { window.PLOTLYENV=window.PLOTLYENV || {};window.PLOTLYENV.BASE_URL=\"https://plot.ly\";Plotly.newPlot(\"2020f0cd-c9f1-4e02-a29c-790b51ecabf3\", [{\"name\": \"C\", \"text\": [\"Site:  Au-Au-Au-Au-Au-Au-Au-Au-Au\\rNeighbor:  Au-Au-Au-Au-Au-Au-Au-Au-Au-C-C-C\", \"Site:  Au-Au-Au-Au-Au-Au-Au-Au-Au\\rNeighbor:  Au-Au-Au-Au-Au-Au-Au-Au-Au-C-C-C\"], \"mode\": \"markers\", \"y\": [1.9617397700000003, 1.97655651], \"x\": [1.968970231819533, 1.968970231819533], \"type\": \"scatter\"}, {\"name\": \"CO\", \"text\": [\"Site:  C\\rNeighbor:  C-Pd-Pd-Pd-Pd-Sb-Sb-Sb\", \"Site:  Sb-Sb-V-V\\rNeighbor:  Sb-Sb-Sb-V-V-V-V-V-V\", \"Site:  Ni-Ni-Ni\\rNeighbor:  Ni-Ni-Ni-Ni-Ni-Ni-Si-Si-Si-Si\", \"Site:  C\\rNeighbor:  Au-Au-Au-Au-Au-Au-Au-Au-Au-C\", \"Site:  C\\rNeighbor:  C-Pd-Pd-Pd-Pd-Sb-Sb-Sb\", \"Site:  Au-Au-Au-Au-Au-Au-Au-Au-Au\\rNeighbor:  Au-Au-Au-Au-Au-Au-Au-Au-Au-O-O-O\", \"Site:  Sb-Sb-Sb\\rNeighbor:  Pd-Pd-Pd-Pd-Sb-Sb-Sb\", \"Site:  Pd-Pd-Pd-Pd-Pd-Pd\\rNeighbor:  Pd-Pd-Pd-Pd-Pd-Pd-Si-Si-Si\", \"Site:  Pd-Pd-Pd-Pd-Sb-Sb-Sb-Sb\\rNeighbor:  Pd-Pd-Pd-Pd-Pd-Pd-Pd-Pd-Pd-Sb-Sb-Sb-Sb\", \"Site:  H-H\\rNeighbor:  H-H-H-H\", \"Site:  Si-Si-Si-W-W-W-W\\rNeighbor:  Si-Si-Si-Si-Si-W-W-W-W-W\", \"Site:  Sb-Sb-Sb\\rNeighbor:  Pd-Pd-Pd-Pd-Sb-Sb-Sb\", \"Site:  Sb-Sb-Sb-Sb-Sb-Sb\\rNeighbor:  Co-Sb-Sb-Sb-Sb-Sb-Sb\", \"Site:  Ni-Ni-Ni-Si\\rNeighbor:  C-Ni-Ni-Ni-Ni-Ni-Si-Si-Si-Si\", \"Site:  Sb-Sb-Sb\\rNeighbor:  Pd-Pd-Pd-Pd-Sb-Sb-Sb\", \"Site:  Au-Au-Au-Au-Au-Au-Au-Au\\rNeighbor:  Au-Au-Au-Au-Au-Au-Au-Au-Au-C-C\", \"Site:  C\\rNeighbor:  Au-Au-Au-Au-Au-Au-Au-Au-Au-C\", \"Site:  Pd-Pd-Pd\\rNeighbor:  Pd-Pd-Pd\", \"Site:  Au-Au-Au-Au\\rNeighbor:  Au-Au-Au-Au\", \"Site:  Si-Si-Si-Si-Si-Si\\rNeighbor:  Ni-Ni-Ni-Ni-Ni-Si-Si-Si-Si-Si-Si\", \"Site:  Ni-Ni-Ni-Ni-Ni-Ni\\rNeighbor:  Ni-Ni-Ni-Ni-Ni-Ni-Si-Si-Si-Si\", \"Site:  Au\\rNeighbor:  Au-Au-Au-Au-Au-Au-Au-Pd-Pd-Pd\"], \"mode\": \"markers\", \"y\": [-1.0658427299999982, -0.5383296799999986, -0.12447319999999173, 0.08338763000000071, -1.25798277, 0.0826334899999992, -1.2633098, -0.29124904999999934, -1.0292001799999984, -0.038699720000000326, -0.0896429899999962, -1.2522654899999974, -1.5493007900000055, -0.43930793999998663, -1.2622653100000019, 0.08567625000000056, -0.011170119999999173, -0.8867663399999994, -0.07521909999999998, -0.5820743999999909, -0.4204278899999938, -0.35161451999999827], \"x\": [-1.2577860848552869, -0.5382445235459302, -0.12448109520897836, 0.03611593464835092, -1.2577860848552869, 0.08275804895105665, -1.2626761804091122, -1.3995547339249207e-06, -1.0290373744905676, -0.03869359823017743, -0.08962880969479645, -1.2626761804091122, -1.5490557116339803, -0.4392357997842936, -1.2626761804091122, 0.08566743110036867, 0.03611593464835092, -0.8866260820386334, -0.07520720081047805, -0.5819823237250162, -0.4203616043076483, -0.3515578795459662], \"type\": \"scatter\"}, {\"name\": \"H\", \"text\": [\"Site:  Au-Au-Au-Au\\rNeighbor:  Au-Au-Au-Au-Au-Au-Au-Au-Au-H-H\", \"Site:  Au-Au-Au-Au\\rNeighbor:  Au-Au-Au-Au-Au-Au-Au-Au-Au-H-H\", \"Site:  Au-Au-Au-Au\\rNeighbor:  Au-Au-Au-Au-Au-Au-Au-Au-Au-H-H\", \"Site:  Au-Au-Au-Au\\rNeighbor:  Au-Au-Au-Au-Au-Au-Au-Au-Au-H-H\", \"Site:  Au-Au-Au-Au\\rNeighbor:  Au-Au-Au-Au-Au-Au-Au-Au-Au-H-H\", \"Site:  Au-Au-Au-Au\\rNeighbor:  Au-Au-Au-Au-Au-Au-Au-Au-Au-H-H\", \"Site:  Au-Au-Au-Au\\rNeighbor:  Au-Au-Au-Au-Au-Au-Au-Au-Au-H-H\", \"Site:  Au-Au-Au-Au\\rNeighbor:  Au-Au-Au-Au-Au-Au-Au-Au-Au-H-H\", \"Site:  Au-Au-Au-Au\\rNeighbor:  Au-Au-Au-Au-Au-Au-Au-Au-Au-H-H\", \"Site:  Au-Au-Au-Au\\rNeighbor:  Au-Au-Au-Au-Au-Au-Au-Au-Au-H-H\", \"Site:  Au-Au-Au-Au\\rNeighbor:  Au-Au-Au-Au-Au-Au-Au-Au-Au-H-H\", \"Site:  Au-Au-Au-Au\\rNeighbor:  Au-Au-Au-Au-Au-Au-Au-Au-Au-H-H\", \"Site:  Au-Au-Au-Au\\rNeighbor:  Au-Au-Au-Au-Au-Au-Au-Au-Au-H-H\", \"Site:  Au-Au-Au-Au\\rNeighbor:  Au-Au-Au-Au-Au-Au-Au-Au-Au-H-H\", \"Site:  Au-Au-Au-Au\\rNeighbor:  Au-Au-Au-Au-Au-Au-Au-Au-Au-H-H\", \"Site:  Au-Au-Au-Au\\rNeighbor:  Au-Au-Au-Au-Au-Au-Au-Au-Au-H-H\", \"Site:  H\\rNeighbor:  Au-Au-Au-Au-Au-Au-Au-H\", \"Site:  Au-Au-Au-Au\\rNeighbor:  Au-Au-Au-Au-Au-Au-Au-Au-Au-H-H\", \"Site:  Au-Au-Au-Au-Au-Au\\rNeighbor:  Au-Au-Au-Au-Au-Au-Au-Au-Au-H-H-H\", \"Site:  Au-Au-Au-Au\\rNeighbor:  Au-Au-Au-Au-Au-Au-Au-Au-Au-H-H\", \"Site:  Au-Au-Au-Au\\rNeighbor:  Au-Au-Au-Au-Au-Au-Au-Au-Au-H-H\", \"Site:  Au-Au-Au-Au\\rNeighbor:  Au-Au-Au-Au-Au-Au-Au-Au-Au-H-H\", \"Site:  Sb-Sb-Sb\\rNeighbor:  Pd-Pd-Pd-Pd-Sb-Sb-Sb\", \"Site:  Au-Au-Au-Au\\rNeighbor:  Au-Au-Au-Au-Au-Au-Au-Au-Au-H-H\", \"Site:  Au-Au-Au-Au\\rNeighbor:  Au-Au-Au-Au-Au-Au-Au-Au-Au-H-H\", \"Site:  Au-Au-Au-Au\\rNeighbor:  Au-Au-Au-Au-Au-Au-Au-Au-Au-H-H\", \"Site:  Au-Au-Au-Au\\rNeighbor:  Au-Au-Au-Au-Au-Au-Au-Au-Au-H-H\", \"Site:  Au-Au-Au-Au\\rNeighbor:  Au-Au-Au-Au-Au-Au-Au-Au-Au-H-H\", \"Site:  Au-Au-Au-Au\\rNeighbor:  Au-Au-Au-Au-Au-Au-Au-Au-Au-H-H\", \"Site:  Au-Au-Au-Au\\rNeighbor:  Au-Au-Au-Au-Au-Au-Au-Au-Au-H-H\", \"Site:  Au-Au-Au-Au\\rNeighbor:  Au-Au-Au-Au-Au-Au-Au-Au-Au-H-H\", \"Site:  Sb-V-V\\rNeighbor:  Sb-Sb-Sb-Sb-Sb-Sb-Sb-Sb-Sb-Sb-V-V-V-V\", \"Site:  Au-Au-Au-Au\\rNeighbor:  Au-Au-Au-Au-Au-Au-Au-Au-Au-H-H\", \"Site:  Au-Au-Au-Au\\rNeighbor:  Au-Au-Au-Au-Au-Au-Au-Au-Au-H-H\", \"Site:  Au-Au-Au-Au\\rNeighbor:  Au-Au-Au-Au-Au-Au-Au-Au-Au-H-H\", \"Site:  Au-Au-Au-Au\\rNeighbor:  Au-Au-Au-Au-Au-Au-Au-Au-Au-H-H\", \"Site:  Au-Au-Au-Au\\rNeighbor:  Au-Au-Au-Au-Au-Au-Au-Au-Au-H-H\", \"Site:  Au-Au-Au-Au\\rNeighbor:  Au-Au-Au-Au-Au-Au-Au-Au-Au-H-H\", \"Site:  Au-Au-Au-Au\\rNeighbor:  Au-Au-Au-Au-Au-Au-Au-Au-Au-H-H\", \"Site:  Au-Au-Au-Au\\rNeighbor:  Au-Au-Au-Au-Au-Au-Au-Au-Au-H-H\", \"Site:  Au-Au-Au-Au\\rNeighbor:  Au-Au-Au-Au-Au-Au-Au-Au-Au-H-H\", \"Site:  Au-Au-Au-Au\\rNeighbor:  Au-Au-Au-Au-Au-Au-Au-Au-Au-H-H\", \"Site:  Au-Au-Au-Au\\rNeighbor:  Au-Au-Au-Au-Au-Au-Au-Au-Au-H-H\", \"Site:  Au-Au-Au-Au\\rNeighbor:  Au-Au-Au-Au-Au-Au-Au-Au-Au-H-H\", \"Site:  Au-Au-Au-Au\\rNeighbor:  Au-Au-Au-Au-Au-Au-Au-Au-Au-H-H\", \"Site:  Au-Au-Au-Au\\rNeighbor:  Au-Au-Au-Au-Au-Au-Au-Au-Au-H-H\", \"Site:  Au-Au-Au-Au\\rNeighbor:  Au-Au-Au-Au-Au-Au-Au-Au-Au-H-H\", \"Site:  H\\rNeighbor:  Au-Au-Au-Au-Au-Au-Au-Au-Au-H\", \"Site:  Sb-Sb-Sb\\rNeighbor:  Pd-Pd-Pd-Pd-Sb-Sb-Sb\", \"Site:  Sb-Sb-Sb\\rNeighbor:  Pd-Pd-Pd-Pd-Sb-Sb-Sb\"], \"mode\": \"markers\", \"y\": [0.5760896950000003, 0.5760896950000003, 0.5760896950000003, 0.5760896950000003, 0.5760896950000003, 0.5760896950000003, 0.5760896950000003, 0.5760896950000003, 0.5760896950000003, 0.5760896950000003, 0.5760896950000003, 0.5760896950000003, 0.5760896950000003, 0.5760896950000003, 0.5760896950000003, 0.5760896950000003, 0.41153648500000006, 0.5760896950000003, 0.36224407500000044, 0.5760896950000003, 0.5760896950000003, 0.5760896950000003, -0.09904778500000067, 0.5760896950000003, 0.5760896950000003, 0.5760896950000003, 0.5760896950000003, 0.5760896950000003, 0.5760896950000003, 0.5760896950000003, 0.5760896950000003, 1.240559144999998, 0.5760896950000003, 0.5760896950000003, 0.5760896950000003, 0.5760896950000003, 0.5760896950000003, 0.5760896950000003, 0.5760896950000003, 0.5760896950000003, 0.5760896950000003, 0.5760896950000003, 0.5760896950000003, 0.5760896950000003, 0.5760896950000003, 0.5760896950000003, 0.5760896950000003, 1.102048355, -0.09867636500000021, 0.22245878499999971], \"x\": [0.5760868907169063, 0.5760868907169063, 0.5760868907169063, 0.5760868907169063, 0.5760868907169063, 0.5760868907169063, 0.5760868907169063, 0.5760868907169063, 0.5760868907169063, 0.5760868907169063, 0.5760868907169063, 0.5760868907169063, 0.5760868907169063, 0.5760868907169063, 0.5760868907169063, 0.5760868907169063, 0.4115245798821778, 0.5760868907169063, 0.3621941134493835, 0.5760868907169063, 0.5760868907169063, 0.5760868907169063, -0.09911576092229185, 0.5760868907169063, 0.5760868907169063, 0.5760868907169063, 0.5760868907169063, 0.5760868907169063, 0.5760868907169063, 0.5760868907169063, 0.5760868907169063, 1.2403629053688292, 0.5760868907169063, 0.5760868907169063, 0.5760868907169063, 0.5760868907169063, 0.5760868907169063, 0.5760868907169063, 0.5760868907169063, 0.5760868907169063, 0.5760868907169063, 0.5760868907169063, 0.5760868907169063, 0.5760868907169063, 0.5760868907169063, 0.5760868907169063, 0.5760868907169063, 0.04464029191124068, -0.09911576092229185, -0.09911576092229185], \"type\": \"scatter\"}, {\"name\": \"O\", \"text\": [\"Site:  O\\rNeighbor:  Au-Au-Au-Au-Au-Au-Au-O\", \"Site:  Au-Au-Au-Au-Au-Au-Au-Au-Au\\rNeighbor:  Au-Au-Au-Au-Au-Au-Au-Au-Au-O-O-O\", \"Site:  O\\rNeighbor:  Au-Au-Au-Au-Au-Au-Au-O\"], \"mode\": \"markers\", \"y\": [2.2559267100000007, 2.15517773, 2.4535571900000006], \"x\": [2.4531698286699135, 0.556028169132599, 2.4531698286699135], \"type\": \"scatter\"}, {\"y\": [-4, 6], \"x\": [-4, 6], \"line\": {\"dash\": \"dash\", \"color\": \"black\"}, \"type\": \"scatter\", \"name\": \"Parity line\"}], {\"yaxis\": {\"title\": \"DFT (eV)\"}, \"xaxis\": {\"title\": \"Regressed (eV)\"}, \"title\": \"Adsorption Energy as a function of (Coord/Neighbor Counts, Ads); Model = GP; RMSE = 0.444 eV\"}, {\"linkText\": \"Export to plot.ly\", \"showLink\": true})});</script>"
      ],
      "text/plain": [
       "<IPython.core.display.HTML object>"
      ]
     },
     "metadata": {},
     "output_type": "display_data"
    }
   ],
   "source": [
    "# For each model...\n",
    "for model in [LR, GBE, GP]:\n",
    "    traces = []\n",
    "    # Create a parity plot where each adsorbate is shown. We do that by pulling out\n",
    "    # data for each adsorbate and then plotting them.\n",
    "    for ads in np.unique(DATA['adsorbate']):\n",
    "        # We loop through all of our data and pull out the vectorized coordinations (x),\n",
    "        # the DFT energy (y), and the coordination site (text).\n",
    "        x = []\n",
    "        y = []\n",
    "        text = []\n",
    "        for i, _ads in enumerate(DATA['adsorbate']):\n",
    "            if _ads == ads:\n",
    "                x.append(X[i])\n",
    "                y.append(Y[i])\n",
    "                text.append('Site:  %s\\rNeighbor:  %s' \\\n",
    "                            % (DATA['coordination'][i],\n",
    "                               DATA['nextnearestcoordination'][i]))\n",
    "        # Use the vectorized coordination (x) to calculate a predicted energy (y_predicted).\n",
    "        # Then add it to `traces` for plotting.\n",
    "        y_predicted = model.predict(np.array(x))\n",
    "        traces.append(go.Scatter(x=y_predicted,\n",
    "                                 y=y,\n",
    "                                 mode='markers',\n",
    "                                 text=text,\n",
    "                                 name=ads))\n",
    "    # Create a diagonal line for the parity plot\n",
    "    lims = [-4, 6]\n",
    "    traces.append(go.Scatter(x=lims, y=lims,\n",
    "                             line=dict(color=('black'), dash='dash'), name='Parity line'))\n",
    "    # Format and plot\n",
    "    layout = go.Layout(xaxis=dict(title='Regressed (eV)'),\n",
    "                       yaxis=dict(title='DFT (eV)'),\n",
    "                       title='Adsorption Energy as a function of (Coord/Neighbor Counts, Ads); Model = %s; RMSE = %0.3f eV' \\\n",
    "                             % (model.name, math.sqrt(metrics.mean_squared_error(Y_TEST, model.predict(X_TEST)))))\n",
    "    iplot(go.Figure(data=traces, layout=layout))"
   ]
  },
  {
   "cell_type": "markdown",
   "metadata": {
    "collapsed": true
   },
   "source": [
    "###### Alamo"
   ]
  },
  {
   "cell_type": "code",
   "execution_count": null,
   "metadata": {
    "autoscroll": false,
    "collapsed": true,
    "ein.tags": "worksheet-0",
    "slideshow": {
     "slide_type": "-"
    }
   },
   "outputs": [],
   "source": [
    "# Create Pyplot plots for each dictionary-type model\n",
    "for model in [ALA]:\n",
    "    traces = []\n",
    "    # Create a parity plot where each adsorbate is shown. We do that by pulling out\n",
    "    # data for each adsorbate and then plotting them.\n",
    "    for ads in np.unique(DATA['adsorbate']):\n",
    "        # We loop through all of our data and pull out the vectorized coordination (x),\n",
    "        # the DFT energy (y), and the coordination site (text).\n",
    "        x = []\n",
    "        y = []\n",
    "        text = []\n",
    "        for i, _ads in enumerate(DATA['adsorbate']):\n",
    "            if _ads == ads:\n",
    "                x.append(X[i])\n",
    "                y.append(Y[i])\n",
    "                text.append('Site:  %s\\rNeighbor:  %s' \\\n",
    "                            % (DATA['coordination'][i],\n",
    "                               DATA['nextnearestcoordination'][i]))\n",
    "                \n",
    "        # Do some footwork because Alamo returns a lambda function that doesn't accept np arrays\n",
    "        def model_predict(factors):\n",
    "            '''\n",
    "            Turn a vector of input data, `factors`, into the model's guessed output. We use\n",
    "            this function to do so because lambda functions suck. We should address this by\n",
    "            making alamopy output a better lambda function.\n",
    "            '''\n",
    "            args = dict.fromkeys(range(0, len(factors)-1), None)\n",
    "            for j, factor in enumerate(factors):\n",
    "                args[j] = factor\n",
    "            return model['f(model)'](args[0], args[1], args[2], args[3], args[4], args[5], args[6], args[7], args[8], args[9], args[10], args[11], args[12], args[13], args[14], args[15], args[16], args[17], args[18], args[19], args[20], args[21], args[22], args[23], args[24], args[25])\n",
    "        y_predicted = map(model_predict, x)\n",
    "        \n",
    "        # Plot\n",
    "        traces.append(go.Scatter(x=y_predicted,\n",
    "                                 y=y,\n",
    "                                 mode='markers',\n",
    "                                 text=text,\n",
    "                                 name=ads))\n",
    "    # Create a diagonal line for the parity plot\n",
    "    lims = [-4, 6]\n",
    "    traces.append(go.Scatter(x=lims, y=lims,\n",
    "                             line=dict(color=('black'), dash='dash'), name='Parity line'))\n",
    "    # Format and plot\n",
    "    layout = go.Layout(xaxis=dict(title='Regressed (eV)'),\n",
    "                       yaxis=dict(title='DFT (eV)'),\n",
    "                       title='Adsorption Energy as a function of (Coordination Count, Neighbor Coordination Count, Adsorbate); Model = %s; RMSE = %0.3f eV' \\\n",
    "                             % (model['name'], math.sqrt(metrics.mean_squared_error(Y_TEST, map(model_predict, X_TEST)))))\n",
    "    iplot(go.Figure(data=traces, layout=layout))"
   ]
  },
  {
   "cell_type": "raw",
   "metadata": {
    "collapsed": true
   },
   "source": []
  }
 ],
 "metadata": {
  "anaconda-cloud": {},
  "kernelspec": {
   "display_name": "Python [conda env:GASpy_conda]",
   "language": "python",
   "name": "conda-env-GASpy_conda-py"
  },
  "language_info": {
   "codemirror_mode": {
    "name": "ipython",
    "version": 2
   },
   "file_extension": ".py",
   "mimetype": "text/x-python",
   "name": "python",
   "nbconvert_exporter": "python",
   "pygments_lexer": "ipython2",
   "version": "2.7.13"
  },
  "name": "regress.ipynb"
 },
 "nbformat": 4,
 "nbformat_minor": 2
}
