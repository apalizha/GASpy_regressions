{
 "cells": [
  {
   "cell_type": "markdown",
   "metadata": {
    "collapsed": true
   },
   "source": [
    "# sandbox.ipynb\n",
    "\n",
    "This python notebook performs regressions on data pulled from a processed mongo DB created by GASpy. It then saves these regressions into pickles (for later use) and creates parity plots of the regression fits."
   ]
  },
  {
   "cell_type": "markdown",
   "metadata": {},
   "source": [
    "# Initialize"
   ]
  },
  {
   "cell_type": "code",
   "execution_count": null,
   "metadata": {
    "autoscroll": false,
    "collapsed": true,
    "ein.tags": "worksheet-0",
    "slideshow": {
     "slide_type": "-"
    }
   },
   "outputs": [],
   "source": [
    "# Importing\n",
    "import pdb\n",
    "from gaspy_regress.regressor import GASpyRegressor\n",
    "from gaspy_regress import gio, plot, predict\n",
    "from gaspy.utils import vasp_settings_to_str, read_rc\n",
    "\n",
    "VASP_SETTINGS = vasp_settings_to_str({'gga': 'RP',\n",
    "                                      'pp_version': '5.4',\n",
    "                                      'encut': 350})"
   ]
  },
  {
   "cell_type": "markdown",
   "metadata": {
    "collapsed": true
   },
   "source": [
    "# Regress"
   ]
  },
  {
   "cell_type": "code",
   "execution_count": null,
   "metadata": {
    "collapsed": true
   },
   "outputs": [],
   "source": [
    "import copy\n",
    "from tpot import TPOTRegressor\n",
    "from sklearn.gaussian_process import GaussianProcessRegressor"
   ]
  },
  {
   "cell_type": "code",
   "execution_count": null,
   "metadata": {
    "collapsed": true
   },
   "outputs": [],
   "source": [
    "model_name = 'GP_around_TPOT'\n",
    "features = ['coordcount']\n",
    "outer_features = ['neighbors_coordcounts']\n",
    "responses = ['energy']\n",
    "blocks = ['adsorbate']\n",
    "fingerprints = {'neighborcoord': '$processed_data.fp_final.neighborcoord'}"
   ]
  },
  {
   "cell_type": "code",
   "execution_count": null,
   "metadata": {},
   "outputs": [],
   "source": [
    "tpot = TPOTRegressor(\n",
    "                     generations=8,\n",
    "                     population_size=32,\n",
    "                     verbosity=2,\n",
    "                     random_state=42,\n",
    "                    )\n",
    "gp = GaussianProcessRegressor(\n",
    "                              #kernel= 1.0*RBF(length_scale=0.05) \\\n",
    "                              #       +1.0*RBF(length_scale=0.2) \\\n",
    "                              #       +1.0*WhiteKernel(noise_level=0.05**2.0),\n",
    "                              #n_restarts_optimizer=2,\n",
    "                             )\n",
    "H = GASpyRegressor(features=features, responses=responses,\n",
    "                   blocks=blocks, vasp_settings=VASP_SETTINGS,\n",
    "                   fingerprints=fingerprints, train_size=0.8, dev_size=0.)\n",
    "# H.fit_tpot(tpot, model_name=model_name)\n",
    "# H.fit_hierarchical(gp, 'fit_sk', outer_features, model_name=model_name)\n",
    "fit_blocks = [('CO',), ('H',)]\n",
    "H.fit_tpot(tpot, model_name=model_name, blocks=fit_blocks)\n",
    "H.fit_hierarchical(gp, 'fit_sk', outer_features, model_name=model_name, blocks=fit_blocks)"
   ]
  },
  {
   "cell_type": "code",
   "execution_count": null,
   "metadata": {
    "collapsed": true
   },
   "outputs": [],
   "source": [
    "gio.dump_model(H)"
   ]
  },
  {
   "cell_type": "code",
   "execution_count": null,
   "metadata": {
    "collapsed": true
   },
   "outputs": [],
   "source": [
    "H = gio.load_model(model_name, features+outer_features, responses, blocks)"
   ]
  },
  {
   "cell_type": "code",
   "execution_count": null,
   "metadata": {
    "scrolled": true
   },
   "outputs": [],
   "source": [
    "x, y, text = H.parity_plot(plotter='matplotlib')"
   ]
  },
  {
   "cell_type": "markdown",
   "metadata": {},
   "source": [
    "# Predict"
   ]
  },
  {
   "cell_type": "code",
   "execution_count": null,
   "metadata": {
    "collapsed": true
   },
   "outputs": [],
   "source": [
    "regressor = H\n",
    "excel_file_path = read_rc()['gaspy_path'] + '/GASpy_regressions/volcanos_parsed.xlsx'"
   ]
  },
  {
   "cell_type": "markdown",
   "metadata": {},
   "source": [
    "## CO$_2$ Reduction"
   ]
  },
  {
   "cell_type": "code",
   "execution_count": null,
   "metadata": {
    "collapsed": true
   },
   "outputs": [],
   "source": [
    "regressor_block = ('CO',)\n",
    "adsorbate = 'CO'\n",
    "system = 'CO2RR'\n",
    "scale = 'log'"
   ]
  },
  {
   "cell_type": "code",
   "execution_count": null,
   "metadata": {
    "collapsed": true,
    "scrolled": true
   },
   "outputs": [],
   "source": [
    "co2_data = predict.volcano(H, regressor_block, system, excel_file_path, scale, adsorbate)"
   ]
  },
  {
   "cell_type": "code",
   "execution_count": null,
   "metadata": {
    "collapsed": true
   },
   "outputs": [],
   "source": [
    "gio.dump_predictions(co2_data, regressor=H, system=system)"
   ]
  },
  {
   "cell_type": "code",
   "execution_count": null,
   "metadata": {
    "collapsed": true
   },
   "outputs": [],
   "source": [
    "co2_data = gio.load_predictions(model_name, features+outer_features, responses, blocks, system)"
   ]
  },
  {
   "cell_type": "code",
   "execution_count": null,
   "metadata": {},
   "outputs": [],
   "source": [
    "plot.volcano(co2_data, excel_file_path, system, scale)"
   ]
  },
  {
   "cell_type": "code",
   "execution_count": null,
   "metadata": {},
   "outputs": [],
   "source": [
    "plot.filtered_parity(co2_data, scale=scale, plot_type='plotly', plot_range=[0.01, 14],\n",
    "                     x_label='DFT-predicted activity [mA/cm2]',\n",
    "                     y_label='ML-estimated activity [mA/cm2]',\n",
    "                     title='Activity on surface minima')"
   ]
  },
  {
   "cell_type": "code",
   "execution_count": null,
   "metadata": {},
   "outputs": [],
   "source": [
    "plot.filtered_parity(co2_data, scale=scale, plot_type='hex', plot_range=[0.0001, 14],\n",
    "                     x_label='DFT-predicted activity [log(mA/cm2)]',\n",
    "                     y_label='ML-estimated activity [log(mA/cm2)]',\n",
    "                     title='Activity parity on surface minima')"
   ]
  },
  {
   "cell_type": "markdown",
   "metadata": {},
   "source": [
    "## HER"
   ]
  },
  {
   "cell_type": "code",
   "execution_count": null,
   "metadata": {
    "collapsed": true
   },
   "outputs": [],
   "source": [
    "regressor_block = ('H',)\n",
    "adsorbate = 'H'\n",
    "system = 'HER'\n",
    "scale = 'log'"
   ]
  },
  {
   "cell_type": "code",
   "execution_count": null,
   "metadata": {
    "collapsed": true,
    "scrolled": true
   },
   "outputs": [],
   "source": [
    "her_data = predict.volcano(H, regressor_block, system, excel_file_path, scale, adsorbate)"
   ]
  },
  {
   "cell_type": "code",
   "execution_count": null,
   "metadata": {
    "collapsed": true
   },
   "outputs": [],
   "source": [
    "gio.dump_predictions(her_data, regressor=H, system=system)"
   ]
  },
  {
   "cell_type": "code",
   "execution_count": null,
   "metadata": {
    "collapsed": true
   },
   "outputs": [],
   "source": [
    "her_data = gio.load_predictions(model_name, features+outer_features, responses, blocks, system)"
   ]
  },
  {
   "cell_type": "code",
   "execution_count": null,
   "metadata": {
    "collapsed": true
   },
   "outputs": [],
   "source": [
    "plot.volcano(her_data, excel_file_path, system, scale)"
   ]
  },
  {
   "cell_type": "code",
   "execution_count": null,
   "metadata": {
    "collapsed": true
   },
   "outputs": [],
   "source": [
    "plot.filtered_parity(her_data, scale=scale, plot_type='plotly', plot_range=[1e-12, 1e-3],\n",
    "                     x_label='DFT-predicted activity [A/cm2]',\n",
    "                     y_label='ML-estimated activity [A/cm2]',\n",
    "                     title='Activity on surface minima')"
   ]
  },
  {
   "cell_type": "code",
   "execution_count": null,
   "metadata": {
    "collapsed": true
   },
   "outputs": [],
   "source": [
    "plot.filtered_parity(her_data, scale=scale, plot_type='hex', plot_range=[1e-12, 1e-3],\n",
    "                     x_label='DFT-predicted activity [log(A/cm2)]',\n",
    "                     y_label='ML-estimated activity [log(A/cm2)]',\n",
    "                     title='Activity parity on surface minima')"
   ]
  },
  {
   "cell_type": "code",
   "execution_count": null,
   "metadata": {
    "collapsed": true
   },
   "outputs": [],
   "source": []
  }
 ],
 "metadata": {
  "anaconda-cloud": {},
  "kernelspec": {
   "display_name": "Python [conda env:GASpy_conda]",
   "language": "python",
   "name": "conda-env-GASpy_conda-py"
  },
  "language_info": {
   "codemirror_mode": {
    "name": "ipython",
    "version": 2
   },
   "file_extension": ".py",
   "mimetype": "text/x-python",
   "name": "python",
   "nbconvert_exporter": "python",
   "pygments_lexer": "ipython2",
   "version": "2.7.13"
  },
  "name": "regress.ipynb"
 },
 "nbformat": 4,
 "nbformat_minor": 2
}
