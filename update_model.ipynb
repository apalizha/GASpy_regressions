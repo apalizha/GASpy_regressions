{
 "cells": [
  {
   "cell_type": "code",
   "execution_count": null,
   "metadata": {
    "autoscroll": false,
    "collapsed": true,
    "ein.tags": "worksheet-0",
    "slideshow": {
     "slide_type": "-"
    }
   },
   "outputs": [],
   "source": [
    "# Importing\n",
    "import pdb\n",
    "import sys\n",
    "from regressor import GASpyRegressor\n",
    "import gpickle\n",
    "import gplot\n",
    "sys.path.insert(0, '../')\n",
    "from gaspy.utils import vasp_settings_to_str\n",
    "\n",
    "VASP_SETTINGS = vasp_settings_to_str({'gga': 'RP',\n",
    "                                      'pp_version': '5.4',\n",
    "                                      'encut': 350})"
   ]
  },
  {
   "cell_type": "code",
   "execution_count": null,
   "metadata": {
    "collapsed": true
   },
   "outputs": [],
   "source": [
    "import copy\n",
    "from tpot import TPOTRegressor\n",
    "from sklearn.gaussian_process import GaussianProcessRegressor"
   ]
  },
  {
   "cell_type": "code",
   "execution_count": null,
   "metadata": {
    "collapsed": true
   },
   "outputs": [],
   "source": [
    "model_name = 'GP_around_TPOT'\n",
    "features = ['coordcount', 'ads']\n",
    "outer_features = ['neighbors_coordcounts']\n",
    "responses = ['energy']\n",
    "blocks = None\n",
    "fingerprints = {'neighborcoord': '$processed_data.fp_final.neighborcoord'}"
   ]
  },
  {
   "cell_type": "code",
   "execution_count": null,
   "metadata": {},
   "outputs": [],
   "source": [
    "tpot = TPOTRegressor(\n",
    "                     generations=1,\n",
    "                     population_size=2,\n",
    "                     verbosity=2,\n",
    "                     random_state=42,\n",
    "                    )\n",
    "gp = GaussianProcessRegressor(\n",
    "                              #kernel= 1.0*RBF(length_scale=0.05) \\\n",
    "                              #       +1.0*RBF(length_scale=0.2) \\\n",
    "                              #       +1.0*WhiteKernel(noise_level=0.05**2.0),\n",
    "                              #n_restarts_optimizer=2,\n",
    "                             )\n",
    "H = GASpyRegressor(features=features, responses=responses,\n",
    "                   blocks=blocks, vasp_settings=VASP_SETTINGS,\n",
    "                   fingerprints=fingerprints)\n",
    "H.fit_tpot(tpot, model_name=model_name)\n",
    "H.fit_hierarchical(gp, 'fit_sk', outer_features, model_name=model_name)"
   ]
  },
  {
   "cell_type": "code",
   "execution_count": null,
   "metadata": {
    "collapsed": true
   },
   "outputs": [],
   "source": [
    "gpickle.dump(H)"
   ]
  }
 ],
 "metadata": {
  "anaconda-cloud": {},
  "kernelspec": {
   "display_name": "Python [conda env:GASpy_conda]",
   "language": "python",
   "name": "conda-env-GASpy_conda-py"
  },
  "language_info": {
   "codemirror_mode": {
    "name": "ipython",
    "version": 2
   },
   "file_extension": ".py",
   "mimetype": "text/x-python",
   "name": "python",
   "nbconvert_exporter": "python",
   "pygments_lexer": "ipython2",
   "version": "2.7.13"
  },
  "name": "regress.ipynb"
 },
 "nbformat": 4,
 "nbformat_minor": 2
}
