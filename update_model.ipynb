{
 "cells": [
  {
   "cell_type": "markdown",
   "metadata": {
    "collapsed": true
   },
   "source": [
    "# regress.ipynb\n",
    "Author:  Kevin Tran <ktran@andrew.cmu.edu>\n",
    "\n",
    "This python notebook performs regressions on data pulled from a processed mongo DB created by GASpy. It then saves these regressions into pickles (for later use) and creates parity plots of the regression fits."
   ]
  },
  {
   "cell_type": "markdown",
   "metadata": {},
   "source": [
    "# Initialize"
   ]
  },
  {
   "cell_type": "markdown",
   "metadata": {},
   "source": [
    "## Importing"
   ]
  },
  {
   "cell_type": "code",
   "execution_count": 1,
   "metadata": {
    "autoscroll": false,
    "ein.tags": "worksheet-0",
    "slideshow": {
     "slide_type": "-"
    }
   },
   "outputs": [
    {
     "data": {
      "text/html": [
       "<script>requirejs.config({paths: { 'plotly': ['https://cdn.plot.ly/plotly-latest.min']},});if(!window.Plotly) {{require(['plotly'],function(plotly) {window.Plotly=plotly;});}}</script>"
      ],
      "text/plain": [
       "<IPython.core.display.HTML object>"
      ]
     },
     "metadata": {},
     "output_type": "display_data"
    }
   ],
   "source": [
    "# Debugging & other Python tools\n",
    "import pdb\n",
    "import sys\n",
    "from pprint import pprint\n",
    "import itertools\n",
    "# Saving/loading\n",
    "import dill as pickle\n",
    "pickle.settings['recurse'] = True     # required to pickle lambdify functions (for alamopy)\n",
    "# Regression\n",
    "from sklearn.gaussian_process import GaussianProcessRegressor\n",
    "from tpot import TPOTRegressor\n",
    "from sklearn.gaussian_process.kernels import RBF, WhiteKernel, RationalQuadratic, ExpSineSquared\n",
    "# Plotting\n",
    "import matplotlib.pyplot as plt\n",
    "from plotly.offline import init_notebook_mode, plot, iplot\n",
    "init_notebook_mode(connected=True)\n",
    "import plotly.plotly as py\n",
    "import plotly.graph_objs as go\n",
    "# GASpy\n",
    "from regression_processor import RegressionProcessor\n",
    "from pull_features import PullFeatures\n",
    "sys.path.append('..')\n",
    "from gaspy.utils import vasp_settings_to_str"
   ]
  },
  {
   "cell_type": "markdown",
   "metadata": {},
   "source": [
    "## Scope"
   ]
  },
  {
   "cell_type": "code",
   "execution_count": 2,
   "metadata": {
    "autoscroll": false,
    "collapsed": true,
    "ein.tags": "worksheet-0",
    "slideshow": {
     "slide_type": "-"
    }
   },
   "outputs": [],
   "source": [
    "# Define the feature sets that you want to investigate. They should be\n",
    "# string names of the PullFeatures methods that you want to use.\n",
    "FEATURE_SETS = [\n",
    "                #'energy_fr_coordcount',\n",
    "                #'energy_fr_coordcount_nncoord',\n",
    "                'energy_fr_coordcount_ads',\n",
    "                #'energy_fr_coordcount_nncoord_ads',\n",
    "                #'energy_fr_nncoord',\n",
    "                #'energy_fr_gcn_ads',\n",
    "               ]\n",
    "\n",
    "# Only pull data that used the following vasp settings\n",
    "VASP_SETTINGS = vasp_settings_to_str({'gga': 'RP',\n",
    "                                      'pp_version': '5.4',\n",
    "                                      'encut': 350})\n",
    "#VASP_SETTINGS = None\n",
    "\n",
    "# This is a dictionary that will hold all of the data we need for plotting\n",
    "DATA = {}"
   ]
  },
  {
   "cell_type": "markdown",
   "metadata": {
    "collapsed": true
   },
   "source": [
    "# Regress"
   ]
  },
  {
   "cell_type": "markdown",
   "metadata": {
    "collapsed": true
   },
   "source": [
    "## SKLearn Gaussian Process"
   ]
  },
  {
   "cell_type": "markdown",
   "metadata": {},
   "source": [
    "### Execute"
   ]
  },
  {
   "cell_type": "code",
   "execution_count": null,
   "metadata": {
    "collapsed": true
   },
   "outputs": [],
   "source": [
    "# Specify the kernel to use. If it's `None`, then it uses SKLearn's default RBF\n",
    "K = 1.0 * RBF(length_scale=0.05)+1.0*RBF(length_scale=0.2)+1.0*WhiteKernel(noise_level=0.05**2.0) \n",
    "#K = None\n",
    "n_restarts = 2\n",
    "# Create the model that you want to use to perform the regression\n",
    "regressor = GaussianProcessRegressor(kernel=K, n_restarts_optimizer=n_restarts)\n",
    "# Specify the model blocking. Use [] if you don't want blocking (this will help with saving)\n",
    "#blocks = ['adsorbate']\n",
    "blocks = []\n",
    "\n",
    "# Initialize the results\n",
    "models = dict.fromkeys(FEATURE_SETS)\n",
    "rmses = dict.fromkeys(FEATURE_SETS)\n",
    "errors = dict.fromkeys(FEATURE_SETS)\n",
    "x = dict.fromkeys(FEATURE_SETS)\n",
    "y = dict.fromkeys(FEATURE_SETS)\n",
    "p_docs = dict.fromkeys(FEATURE_SETS)\n",
    "block_list = dict.fromkeys(FEATURE_SETS)\n",
    "pp = dict.fromkeys(FEATURE_SETS)\n",
    "norm = dict.fromkeys(FEATURE_SETS)\n",
    "\n",
    "for feature_set in FEATURE_SETS:\n",
    "    # Pull the data out and store some of the processing information for plotting purposes\n",
    "    rp = RegressionProcessor(feature_set, blocks=blocks, vasp_settings=VASP_SETTINGS)\n",
    "    x[feature_set] = rp.x\n",
    "    y[feature_set] = rp.y\n",
    "    p_docs[feature_set] = rp.p_docs\n",
    "    block_list[feature_set] = rp.block_list\n",
    "    pp[feature_set] = rp.pp\n",
    "    norm[feature_set] = rp.norm\n",
    "    # Perform the regression\n",
    "    models[feature_set], rmses[feature_set], errors[feature_set] = \\\n",
    "            rp.sk_regressor(regressor)\n",
    "\n",
    "# Package the data that'll be used for plotting\n",
    "DATA['GP'] = {'models': models,\n",
    "              'rmses': rmses,\n",
    "              'errors': errors,\n",
    "              'x': x,\n",
    "              'y': y,\n",
    "              'p_docs': p_docs,\n",
    "              'blocks': blocks,\n",
    "              'block_list': block_list,\n",
    "              'pp': pp,\n",
    "              'norm': norm}"
   ]
  },
  {
   "cell_type": "markdown",
   "metadata": {},
   "source": [
    "### Save"
   ]
  },
  {
   "cell_type": "code",
   "execution_count": null,
   "metadata": {
    "collapsed": true
   },
   "outputs": [],
   "source": [
    "# Save the regressions\n",
    "for feature_set in FEATURE_SETS:\n",
    "    # Save the models alone for GASpy_predict to use\n",
    "    pkl = {'model': DATA['GP']['models'][feature_set],\n",
    "           'pp': DATA['GP']['pp'][feature_set],\n",
    "           'norm': DATA['GP']['norm'][feature_set]}\n",
    "    with open('pkls/models/GP_model_' + feature_set + '_' \\\n",
    "              + '-'.join(DATA['GP']['blocks']) + '.pkl', 'wb') as f:\n",
    "        pickle.dump(pkl, f)\n",
    "        \n",
    "    # Save the entire package to use later in this notebook\n",
    "    data = {}\n",
    "    for datum in ['models', 'rmses', 'errors', 'x', 'y', 'p_docs', 'block_list', 'pp']:\n",
    "        data[datum] = DATA['GP'][datum][feature_set]\n",
    "    with open('pkls/data/GP_data_' + feature_set + '_' + \\\n",
    "              '-'.join(DATA['GP']['blocks']) + '.pkl', 'wb') as f:\n",
    "        pickle.dump(data, f)"
   ]
  }
 ],
 "metadata": {
  "anaconda-cloud": {},
  "kernelspec": {
   "display_name": "Python [conda env:GASpy_conda]",
   "language": "python",
   "name": "conda-env-GASpy_conda-py"
  },
  "language_info": {
   "codemirror_mode": {
    "name": "ipython",
    "version": 2
   },
   "file_extension": ".py",
   "mimetype": "text/x-python",
   "name": "python",
   "nbconvert_exporter": "python",
   "pygments_lexer": "ipython2",
   "version": "2.7.13"
  },
  "name": "regress.ipynb"
 },
 "nbformat": 4,
 "nbformat_minor": 2
}
